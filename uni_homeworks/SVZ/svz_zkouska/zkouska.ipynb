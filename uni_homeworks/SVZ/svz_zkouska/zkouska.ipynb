{
 "cells": [
  {
   "cell_type": "code",
   "execution_count": 1,
   "metadata": {},
   "outputs": [],
   "source": [
    "import os\n",
    "import io\n",
    "import re\n",
    "import yaml\n",
    "\n",
    "import cv2\n",
    "import numpy as np\n",
    "import matplotlib.pyplot as plt\n",
    "\n",
    "from improutils import *\n",
    "\n",
    "from natsort import natsorted\n",
    "from skimage import feature, color, transform\n",
    "\n",
    "from pypylon import pylon \n",
    "from pypylon_opencv_viewer import BaslerOpenCVViewer\n",
    "\n",
    "%matplotlib inline\n",
    "\n",
    "import warnings\n",
    "warnings.filterwarnings('ignore')\n",
    "\n",
    "from ipywidgets import interact, interactive, fixed, interact_manual\n",
    "import ipywidgets as widgets\n",
    "import ipywidgets as widgets\n",
    "from IPython.display import display\n",
    "\n",
    "np.set_printoptions(formatter={'float': lambda x: \"{0:0.3f}\".format(x)})"
   ]
  },
  {
   "cell_type": "code",
   "execution_count": 2,
   "metadata": {},
   "outputs": [],
   "source": [
    "def create_slider(min, max, description):\n",
    "    return widgets.IntRangeSlider( min=min, max=max, step=1,value=[min,max], \n",
    "                                   description=description.ljust(30,'\\xa0'), \n",
    "                                   continuous_update=False, \n",
    "                                   orientation='horizontal',\n",
    "                                   style=dict(description_width='initial'),\n",
    "                                   layout=widgets.Layout(width='auto', grid_area='header'),\n",
    "                                  )"
   ]
  },
  {
   "cell_type": "code",
   "execution_count": 3,
   "metadata": {},
   "outputs": [],
   "source": [
    "# Functions for conversion within different types of coordinates\n",
    "def convert_pt_to_homogenous(pt):\n",
    "    \"\"\"\n",
    "    Converts the input point from inhomogeneous coordinates to homogeneous ones.\n",
    "\n",
    "    Parameters\n",
    "    ----------\n",
    "    pt : ndarray\n",
    "        Input point in inhomogeneous coordinates.\n",
    "\n",
    "    Returns\n",
    "    -------\n",
    "    _ : ndarray\n",
    "        Input point in homogeneous coordinates.\n",
    "    \"\"\"\n",
    "    return np.append(pt, np.array(1))\n",
    "\n",
    "def convert_pt_from_homogenous(pt):\n",
    "    \"\"\"\n",
    "    Convert input point in homogeneous coordinates to inhomogeneous.\n",
    "\n",
    "    Parameters\n",
    "    ----------\n",
    "    pt : ndarray\n",
    "        Input point in homogeneous coordinates.\n",
    "\n",
    "    Returns\n",
    "    -------\n",
    "    _ : tuple\n",
    "        Input point in inhomogeneous coordinates.\n",
    "    \"\"\"\n",
    "    return tuple([elem / pt[-1] for elem in pt[:-1]])\n",
    "\n",
    "def convert_pts_to_homogenous(pts):\n",
    "    \"\"\"\n",
    "    Convert input points in inhomogeneous coordinates to homogeneous.\n",
    "\n",
    "    :param pt: ndarray\n",
    "        Input points in inhomogeneous coordinates.\n",
    "    :return: ndarray\n",
    "        Input points in homogeneous coordinates.\n",
    "    \"\"\"\n",
    "    return np.array([convert_pt_to_homogenous(pt) for pt in pts])\n",
    "\n",
    "def convert_pts_from_homogenous(pts):\n",
    "    \"\"\"\n",
    "    Convert input points in homogeneous coordinates to inhomogeneous.\n",
    "\n",
    "    :param pt: ndarray\n",
    "        Input points in homogeneous coordinates.\n",
    "    :return: ndarray\n",
    "        Input points in inhomogeneous coordinates.\n",
    "    \"\"\"\n",
    "    return np.array([convert_pt_from_homogenous(pt) for pt in pts])\n",
    "\n",
    "def _calc_alfa_metric_factor(ref_measurements, vanish_line, vert_vanish_point):\n",
    "    \"\"\"\n",
    "    Calculates alfa metric factor using multiple reference measurements via minimization ||As|| = 0. This is done by SVD.\n",
    "        In depth overview can be found in https://www.robots.ox.ac.uk/~vgg/publications/1999/Criminisi99b/criminisi99b.pdf - PDF page 104.\n",
    "\n",
    "    :param ref_measurements: list\n",
    "        Each measurement is in (t_ref, b_ref, height) format. ``Image coordinates are in inhomogeneous format.\n",
    "    :param vanish_line: ndarray\n",
    "        Homogenous coordinates of vanishing line.\n",
    "    :param vert_vanish_point: ndarray\n",
    "        Homogenous coordinates of vanishing point in reference direction.\n",
    "    :return: float\n",
    "        Scalar value of alfa metric factor calculated by SVD.\n",
    "    \"\"\"\n",
    "    matrix_A = np.empty((len(ref_measurements), 2), dtype='float64')\n",
    "\n",
    "    for i, (t_ref, b_ref, h_ref) in enumerate(ref_measurements):\n",
    "        t_ref = convert_pt_to_homogenous(t_ref)\n",
    "        b_ref = convert_pt_to_homogenous(b_ref)\n",
    "        beta = np.linalg.norm(np.cross(b_ref, t_ref))\n",
    "        ro = np.dot(vanish_line, b_ref)\n",
    "        gamma = np.linalg.norm(np.cross(vert_vanish_point, t_ref))\n",
    "        matrix_A[i] = (h_ref * ro * gamma, beta)\n",
    "        # alfa_metric_factor = - np.linalg.norm(np.cross(b_ref, t_ref)) / \\\n",
    "        #                               (h_ref * (np.dot(vanish_line, b_ref)) * np.linalg.norm(np.cross(vert_vanish_point, t_ref)))\n",
    "        # print(alfa_metric_factor)\n",
    "\n",
    "    u, s, vh = np.linalg.svd(matrix_A)\n",
    "    return vh[0, -1] / vh[1, -1]\n",
    "\n",
    "\"\"\"\n",
    "Allows to estimate real world object height based on two points (top and bottom) measured\n",
    "on image plane.\n",
    "\"\"\"\n",
    "class HeightEstimator:\n",
    "\n",
    "    def __init__(self, ref_measurements, vl, vz):\n",
    "        self._vanish_line = vl\n",
    "        self._vert_vanish_point = vz\n",
    "        self._alfa_metric_factor = _calc_alfa_metric_factor(ref_measurements, self._vanish_line,\n",
    "                                                            self._vert_vanish_point)\n",
    "\n",
    "    def calc_height(self, top_point, bottom_point):\n",
    "        \"\"\"\n",
    "        Calculates real world height based on top_point and bottom_point measured\n",
    "        on image plane.\n",
    "\n",
    "        :param top_point: ndarray\n",
    "            Top point in reference direction of the object in inhomogeneous format.\n",
    "        :param bottom_point: ndarray\n",
    "            Ground plane point of the object in inhomogeneous format.\n",
    "        :return: float\n",
    "            Scalar value representing real world height.\n",
    "        \"\"\"\n",
    "        top_point = convert_pt_to_homogenous(top_point)\n",
    "        bottom_point = convert_pt_to_homogenous(bottom_point)\n",
    "        # This formula comes from paper Single view metrology by A. Criminisi.\n",
    "        height = - np.linalg.norm(np.cross(bottom_point, top_point)) / (\n",
    "                self._alfa_metric_factor * (np.dot(self._vanish_line, bottom_point)) * np.linalg.norm(\n",
    "            np.cross(self._vert_vanish_point, top_point)))\n",
    "        return height\n",
    "    \n",
    "    \n",
    "# Algoritmus automatizovaného výpočtu úběžníků a úběžnic v obraze\n",
    "\"\"\"\n",
    "References\n",
    "----------\n",
    "1.  Chaudhury, Krishnendu, Stephen DiVerdi, and Sergey Ioffe.\n",
    "    \"Auto-rectification of user photos.\" 2014 IEEE International Conference on\n",
    "    Image Processing (ICIP). IEEE, 2014.\n",
    "2.  Bazin, Jean-Charles, and Marc Pollefeys. \"3-line RANSAC for orthogonal\n",
    "    vanishing point detection.\" 2012 IEEE/RSJ International Conference on\n",
    "    Intelligent Robots and Systems. IEEE, 2012.\n",
    "\"\"\"\n",
    "def compute_edgelets(image, sigma=3):\n",
    "    \"\"\"Create edgelets as in the paper.\n",
    "\n",
    "    Uses canny edge detection and then finds (small) lines using probabilstic\n",
    "    hough transform as edgelets.\n",
    "\n",
    "    Parameters\n",
    "    ----------\n",
    "    image: ndarray\n",
    "        Image for which edgelets are to be computed.\n",
    "    sigma: float\n",
    "        Smoothing to be used for canny edge detection.\n",
    "\n",
    "    Returns\n",
    "    -------\n",
    "    locations: ndarray of shape (n_edgelets, 2)\n",
    "        Locations of each of the edgelets.\n",
    "    directions: ndarray of shape (n_edgelets, 2)\n",
    "        Direction of the edge (tangent) at each of the edgelet.\n",
    "    strengths: ndarray of shape (n_edgelets,)\n",
    "        Length of the line segments detected for the edgelet.\n",
    "    \"\"\"\n",
    "    gray_img = color.rgb2gray(image)\n",
    "    edges = feature.canny(gray_img, sigma)\n",
    "    lines = transform.probabilistic_hough_line(edges, line_length=3,\n",
    "                                               line_gap=2)\n",
    "\n",
    "    locations = []\n",
    "    directions = []\n",
    "    strengths = []\n",
    "\n",
    "    for p0, p1 in lines:\n",
    "        p0, p1 = np.array(p0), np.array(p1)\n",
    "        locations.append((p0 + p1) / 2)\n",
    "        directions.append(p1 - p0)\n",
    "        strengths.append(np.linalg.norm(p1 - p0))\n",
    "\n",
    "    # convert to numpy arrays and normalize\n",
    "    locations = np.array(locations)\n",
    "    directions = np.array(directions)\n",
    "    strengths = np.array(strengths)\n",
    "\n",
    "    directions = np.array(directions) / \\\n",
    "        np.linalg.norm(directions, axis=1)[:, np.newaxis]\n",
    "\n",
    "    return (locations, directions, strengths)\n",
    "\n",
    "\n",
    "def edgelet_lines(edgelets):\n",
    "    \"\"\"Compute lines in homogenous system for edglets.\n",
    "\n",
    "    Parameters\n",
    "    ----------\n",
    "    edgelets: tuple of ndarrays\n",
    "        (locations, directions, strengths) as computed by `compute_edgelets`.\n",
    "\n",
    "    Returns\n",
    "    -------\n",
    "    lines: ndarray of shape (n_edgelets, 3)\n",
    "        Lines at each of edgelet locations in homogenous system.\n",
    "    \"\"\"\n",
    "    locations, directions, _ = edgelets\n",
    "    normals = np.zeros_like(directions)\n",
    "    normals[:, 0] = directions[:, 1]\n",
    "    normals[:, 1] = -directions[:, 0]\n",
    "    p = -np.sum(locations * normals, axis=1)\n",
    "    lines = np.concatenate((normals, p[:, np.newaxis]), axis=1)\n",
    "    return lines\n",
    "\n",
    "\n",
    "def compute_votes(edgelets, model, threshold_inlier=5):\n",
    "    \"\"\"Compute votes for each of the edgelet against a given vanishing point.\n",
    "\n",
    "    Votes for edgelets which lie inside threshold are same as their strengths,\n",
    "    otherwise zero.\n",
    "\n",
    "    Parameters\n",
    "    ----------\n",
    "    edgelets: tuple of ndarrays\n",
    "        (locations, directions, strengths) as computed by `compute_edgelets`.\n",
    "    model: ndarray of shape (3,)\n",
    "        Vanishing point model in homogenous cordinate system.\n",
    "    threshold_inlier: float\n",
    "        Threshold to be used for computing inliers in degrees. Angle between\n",
    "        edgelet direction and line connecting the  Vanishing point model and\n",
    "        edgelet location is used to threshold.\n",
    "\n",
    "    Returns\n",
    "    -------\n",
    "    votes: ndarry of shape (n_edgelets,)\n",
    "        Votes towards vanishing point model for each of the edgelet.\n",
    "\n",
    "    \"\"\"\n",
    "    vp = model[:2] / model[2]\n",
    "\n",
    "    locations, directions, strengths = edgelets\n",
    "\n",
    "    est_directions = locations - vp\n",
    "    dot_prod = np.sum(est_directions * directions, axis=1)\n",
    "    abs_prod = np.linalg.norm(directions, axis=1) * \\\n",
    "        np.linalg.norm(est_directions, axis=1)\n",
    "    abs_prod[abs_prod == 0] = 1e-5\n",
    "\n",
    "    cosine_theta = dot_prod / abs_prod\n",
    "    theta = np.arccos(np.abs(cosine_theta))\n",
    "\n",
    "    theta_thresh = threshold_inlier * np.pi / 180\n",
    "    return (theta < theta_thresh) * strengths\n",
    "\n",
    "\n",
    "def ransac_vanishing_point(edgelets, num_ransac_iter=2000, threshold_inlier=5):\n",
    "    \"\"\"Estimate vanishing point using Ransac.\n",
    "\n",
    "    Parameters\n",
    "    ----------\n",
    "    edgelets: tuple of ndarrays\n",
    "        (locations, directions, strengths) as computed by `compute_edgelets`.\n",
    "    num_ransac_iter: int\n",
    "        Number of iterations to run ransac.\n",
    "    threshold_inlier: float\n",
    "        threshold to be used for computing inliers in degrees.\n",
    "\n",
    "    Returns\n",
    "    -------\n",
    "    best_model: ndarry of shape (3,)\n",
    "        Best model for vanishing point estimated.\n",
    "\n",
    "    Reference\n",
    "    ---------\n",
    "    Chaudhury, Krishnendu, Stephen DiVerdi, and Sergey Ioffe.\n",
    "    \"Auto-rectification of user photos.\" 2014 IEEE International Conference on\n",
    "    Image Processing (ICIP). IEEE, 2014.\n",
    "    \"\"\"\n",
    "    locations, directions, strengths = edgelets\n",
    "    lines = edgelet_lines(edgelets)\n",
    "\n",
    "    num_pts = strengths.size\n",
    "\n",
    "    arg_sort = np.argsort(-strengths)\n",
    "    first_index_space = arg_sort[:num_pts // 5]\n",
    "    second_index_space = arg_sort[:num_pts // 2]\n",
    "\n",
    "    best_model = None\n",
    "    best_votes = np.zeros(num_pts)\n",
    "\n",
    "    for ransac_iter in range(num_ransac_iter):\n",
    "        ind1 = np.random.choice(first_index_space)\n",
    "        ind2 = np.random.choice(second_index_space)\n",
    "\n",
    "        l1 = lines[ind1]\n",
    "        l2 = lines[ind2]\n",
    "\n",
    "        current_model = np.cross(l1, l2)\n",
    "\n",
    "        if np.sum(current_model**2) < 1 or current_model[2] == 0:\n",
    "            # reject degenerate candidates\n",
    "            continue\n",
    "\n",
    "        current_votes = compute_votes(\n",
    "            edgelets, current_model, threshold_inlier)\n",
    "\n",
    "        if current_votes.sum() > best_votes.sum():\n",
    "            best_model = current_model\n",
    "            best_votes = current_votes\n",
    "\n",
    "    return best_model\n",
    "\n",
    "\n",
    "def reestimate_model(model, edgelets, threshold_reestimate=5):\n",
    "    \"\"\"Reestimate vanishing point using inliers and least squares.\n",
    "\n",
    "    All the edgelets which are within a threshold are used to reestimate model\n",
    "\n",
    "    Parameters\n",
    "    ----------\n",
    "    model: ndarry of shape (3,)\n",
    "        Vanishing point model in homogenous coordinates which is to be\n",
    "        reestimated.\n",
    "    edgelets: tuple of ndarrays\n",
    "        (locations, directions, strengths) as computed by `compute_edgelets`.\n",
    "        All edgelets from which inliers will be computed.\n",
    "    threshold_inlier: float\n",
    "        threshold to be used for finding inlier edgelets.\n",
    "\n",
    "    Returns\n",
    "    -------\n",
    "    restimated_model: ndarry of shape (3,)\n",
    "        Reestimated model for vanishing point in homogenous coordinates.\n",
    "    \"\"\"\n",
    "    locations, directions, strengths = edgelets\n",
    "\n",
    "    inliers = compute_votes(edgelets, model, threshold_reestimate) > 0\n",
    "    locations = locations[inliers]\n",
    "    directions = directions[inliers]\n",
    "    strengths = strengths[inliers]\n",
    "\n",
    "    lines = edgelet_lines((locations, directions, strengths))\n",
    "\n",
    "    a = lines[:, :2]\n",
    "    b = -lines[:, 2]\n",
    "    est_model = np.linalg.lstsq(a, b)[0]\n",
    "    return np.concatenate((est_model, [1.]))\n",
    "\n",
    "\n",
    "def remove_inliers(model, edgelets, threshold_inlier=10):\n",
    "    \"\"\"Remove all inlier edglets of a given model.\n",
    "\n",
    "    Parameters\n",
    "    ----------\n",
    "    model: ndarry of shape (3,)\n",
    "        Vanishing point model in homogenous coordinates which is to be\n",
    "        reestimated.\n",
    "    edgelets: tuple of ndarrays\n",
    "        (locations, directions, strengths) as computed by `compute_edgelets`.\n",
    "    threshold_inlier: float\n",
    "        threshold to be used for finding inlier edgelets.\n",
    "\n",
    "    Returns\n",
    "    -------\n",
    "    edgelets_new: tuple of ndarrays\n",
    "        All Edgelets except those which are inliers to model.\n",
    "    \"\"\"\n",
    "    inliers = compute_votes(edgelets, model, 10) > 0\n",
    "    locations, directions, strengths = edgelets\n",
    "    locations = locations[~inliers]\n",
    "    directions = directions[~inliers]\n",
    "    strengths = strengths[~inliers]\n",
    "    edgelets = (locations, directions, strengths)\n",
    "    return edgelets\n",
    "\n",
    "\n",
    "def compute_homography_and_warp(image, vp1, vp2, clip=True, clip_factor=3):\n",
    "    \"\"\"Compute homography from vanishing points and warp the image.\n",
    "\n",
    "    It is assumed that vp1 and vp2 correspond to horizontal and vertical\n",
    "    directions, although the order is not assumed.\n",
    "    Firstly, projective transform is computed to make the vanishing points go\n",
    "    to infinty so that we have a fronto parellel view. Then,Computes affine\n",
    "    transfom  to make axes corresponding to vanishing points orthogonal.\n",
    "    Finally, Image is translated so that the image is not missed. Note that\n",
    "    this image can be very large. `clip` is provided to deal with this.\n",
    "\n",
    "    Parameters\n",
    "    ----------\n",
    "    image: ndarray\n",
    "        Image which has to be wrapped.\n",
    "    vp1: ndarray of shape (3, )\n",
    "        First vanishing point in homogenous coordinate system.\n",
    "    vp2: ndarray of shape (3, )\n",
    "        Second vanishing point in homogenous coordinate system.\n",
    "    clip: bool, optional\n",
    "        If True, image is clipped to clip_factor.\n",
    "    clip_factor: float, optional\n",
    "        Proportion of image in multiples of image size to be retained if gone\n",
    "        out of bounds after homography.\n",
    "    Returns\n",
    "    -------\n",
    "    warped_img: ndarray\n",
    "        Image warped using homography as described above.\n",
    "    \"\"\"\n",
    "    # Find Projective Transform\n",
    "    vanishing_line = np.cross(vp1, vp2)\n",
    "    H = np.eye(3)\n",
    "    H[2] = vanishing_line / vanishing_line[2]\n",
    "    H = H / H[2, 2]\n",
    "\n",
    "    # Find directions corresponding to vanishing points\n",
    "    v_post1 = np.dot(H, vp1)\n",
    "    v_post2 = np.dot(H, vp2)\n",
    "    v_post1 = v_post1 / np.sqrt(v_post1[0]**2 + v_post1[1]**2)\n",
    "    v_post2 = v_post2 / np.sqrt(v_post2[0]**2 + v_post2[1]**2)\n",
    "\n",
    "    directions = np.array([[v_post1[0], -v_post1[0], v_post2[0], -v_post2[0]],\n",
    "                           [v_post1[1], -v_post1[1], v_post2[1], -v_post2[1]]])\n",
    "\n",
    "    thetas = np.arctan2(directions[0], directions[1])\n",
    "\n",
    "    # Find direction closest to horizontal axis\n",
    "    h_ind = np.argmin(np.abs(thetas))\n",
    "\n",
    "    # Find positve angle among the rest for the vertical axis\n",
    "    if h_ind // 2 == 0:\n",
    "        v_ind = 2 + np.argmax([thetas[2], thetas[3]])\n",
    "    else:\n",
    "        v_ind = np.argmax([thetas[2], thetas[3]])\n",
    "\n",
    "    A1 = np.array([[directions[0, v_ind], directions[0, h_ind], 0],\n",
    "                   [directions[1, v_ind], directions[1, h_ind], 0],\n",
    "                   [0, 0, 1]])\n",
    "    # Might be a reflection. If so, remove reflection.\n",
    "    if np.linalg.det(A1) < 0:\n",
    "        A1[:, 0] = -A1[:, 0]\n",
    "\n",
    "    A = np.linalg.inv(A1)\n",
    "\n",
    "    # Translate so that whole of the image is covered\n",
    "    inter_matrix = np.dot(A, H)\n",
    "\n",
    "    cords = np.dot(inter_matrix, [[0, 0, image.shape[1], image.shape[1]],\n",
    "                                  [0, image.shape[0], 0, image.shape[0]],\n",
    "                                  [1, 1, 1, 1]])\n",
    "    cords = cords[:2] / cords[2]\n",
    "\n",
    "    tx = min(0, cords[0].min())\n",
    "    ty = min(0, cords[1].min())\n",
    "\n",
    "    max_x = cords[0].max() - tx\n",
    "    max_y = cords[1].max() - ty\n",
    "\n",
    "    if clip:\n",
    "        # These might be too large. Clip them.\n",
    "        max_offset = max(image.shape) * clip_factor / 2\n",
    "        tx = max(tx, -max_offset)\n",
    "        ty = max(ty, -max_offset)\n",
    "\n",
    "        max_x = min(max_x, -tx + max_offset)\n",
    "        max_y = min(max_y, -ty + max_offset)\n",
    "\n",
    "    max_x = int(max_x)\n",
    "    max_y = int(max_y)\n",
    "\n",
    "    T = np.array([[1, 0, -tx],\n",
    "                  [0, 1, -ty],\n",
    "                  [0, 0, 1]])\n",
    "\n",
    "    final_homography = np.dot(T, inter_matrix)\n",
    "\n",
    "    warped_img = transform.warp(image, np.linalg.inv(final_homography),\n",
    "                                output_shape=(max_y, max_x))\n",
    "    return warped_img\n",
    "\n",
    "\n",
    "def vis_edgelets(image, edgelets, show=True):\n",
    "    \"\"\"Helper function to visualize edgelets.\"\"\"\n",
    "    plt.figure(figsize=(10, 10))\n",
    "    plt.imshow(image)\n",
    "    locations, directions, strengths = edgelets\n",
    "    for i in range(locations.shape[0]):\n",
    "        xax = [locations[i, 0] - directions[i, 0] * strengths[i] / 2,\n",
    "               locations[i, 0] + directions[i, 0] * strengths[i] / 2]\n",
    "        yax = [locations[i, 1] - directions[i, 1] * strengths[i] / 2,\n",
    "               locations[i, 1] + directions[i, 1] * strengths[i] / 2]\n",
    "\n",
    "        plt.plot(xax, yax, 'r-')\n",
    "\n",
    "    if show:\n",
    "        plt.show()\n",
    "\n",
    "\n",
    "def vis_model(image, model, show=True):\n",
    "    \"\"\"Helper function to visualize computed model.\"\"\"\n",
    "    edgelets = compute_edgelets(image)\n",
    "    locations, directions, strengths = edgelets\n",
    "    inliers = compute_votes(edgelets, model, 10) > 0\n",
    "\n",
    "    edgelets = (locations[inliers], directions[inliers], strengths[inliers])\n",
    "    locations, directions, strengths = edgelets\n",
    "    vis_edgelets(image, edgelets, False)\n",
    "    vp = model / model[2]\n",
    "    plt.plot(vp[0], vp[1], 'bo')\n",
    "    for i in range(locations.shape[0]):\n",
    "        xax = [locations[i, 0], vp[0]]\n",
    "        yax = [locations[i, 1], vp[1]]\n",
    "        plt.plot(xax, yax, 'b-.')\n",
    "\n",
    "    if show:\n",
    "        plt.show()\n",
    "\n",
    "\n",
    "def compute_vanishing_points(image, clip_factor=6, reestimate=False):\n",
    "    \"\"\"Rectified image with vanishing point computed using ransac.\n",
    "\n",
    "    Parameters\n",
    "    ----------\n",
    "    image: ndarray\n",
    "        Image which has to be rectified.\n",
    "    clip_factor: float, optional\n",
    "        Proportion of image in multiples of image size to be retained if gone\n",
    "        out of bounds after homography.\n",
    "    reestimate: bool\n",
    "        If ransac results are to be reestimated using least squares with\n",
    "        inlers. Turn this off if getting bad results.\n",
    "    Returns\n",
    "    -------\n",
    "    warped_img: ndarray\n",
    "        Rectified image.\n",
    "    \"\"\"\n",
    "    #     if type(image) is not np.ndarray:\n",
    "    #         image = io.imread(image)\n",
    "\n",
    "    # Compute all edgelets.\n",
    "    edgelets1 = compute_edgelets(image)\n",
    "    \n",
    "    vps = []\n",
    "\n",
    "    # Find first vanishing point\n",
    "    vp1 = ransac_vanishing_point(edgelets1, 2000, threshold_inlier=5)\n",
    "    if reestimate:\n",
    "        vp1 = reestimate_model(vp1, edgelets1, 5)\n",
    "\n",
    "    vps.append(vp1)\n",
    "    \n",
    "    \n",
    "    # Remove inlier to remove dominating direction.\n",
    "    edgelets2 = remove_inliers(vp1, edgelets1, 10)\n",
    "\n",
    "    # Find second vanishing point\n",
    "    vp2 = ransac_vanishing_point(edgelets2, 2000, threshold_inlier=5)\n",
    "    if reestimate:\n",
    "        vp2 = reestimate_model(vp2, edgelets2, 5)\n",
    "    vps.append(vp2)\n",
    "\n",
    "    edgelets3 = remove_inliers(vp2, edgelets2, 10)\n",
    "\n",
    "    # Find third vanishing point\n",
    "    vp3 = ransac_vanishing_point(edgelets3, 2000, threshold_inlier=5)\n",
    "    if reestimate:\n",
    "        vp3 = reestimate_model(vp3, edgelets3, 5)\n",
    "    vps.append(vp3)\n",
    "\n",
    "    # Compute the homography and warp\n",
    "    #     warped_img = compute_homography_and_warp(image, vp1, vp2, clip_factor=clip_factor)\n",
    "    \n",
    "    # Print results\n",
    "    for i, vp in enumerate(vps):\n",
    "        print(f'vp{i+1} = [{vp[0]}, {vp[1]}, {vp[2]}]')\n",
    "        vis_model(image, vp)\n",
    "    \n",
    "    return vps"
   ]
  },
  {
   "cell_type": "markdown",
   "metadata": {},
   "source": [
    "# Výběr kamery a objektivu"
   ]
  },
  {
   "cell_type": "markdown",
   "metadata": {},
   "source": [
    "- rozlišení = 2 * 1,1 * rozměry objektu / přesnost měření\n",
    "\n",
    "- ohnisková vzdálenost f = velikost senzoru * pracovní vzdálenost / rozměry objektu"
   ]
  },
  {
   "cell_type": "markdown",
   "metadata": {},
   "source": [
    "### Snímače\n",
    "- velikost senzoru\n",
    "- rozhraní (GigE, USB3)"
   ]
  },
  {
   "cell_type": "markdown",
   "metadata": {},
   "source": [
    "### Objektivy"
   ]
  },
  {
   "cell_type": "markdown",
   "metadata": {},
   "source": [
    "- minimální pracovní vzdálenost (od kraje objektivu)\n",
    "- ohnisková vzdálenost (18-55mm, zorné pole a zvětšení)\n",
    "- filtry"
   ]
  },
  {
   "cell_type": "markdown",
   "metadata": {},
   "source": [
    "### Konfigurace\n",
    "- **VYVÁŽIT BÍLOU**\n",
    "- gain\n",
    "- doba expozice\n",
    "- rozlišení + oblast zájmu(ROI)\n",
    "- gamma\n",
    "- clona\n",
    "- binning"
   ]
  },
  {
   "attachments": {
    "image.png": {
     "image/png": "[encoded data removed]"
    }
   },
   "cell_type": "markdown",
   "metadata": {},
   "source": [
    "### Osvětlení\n",
    "\n",
    "- směrové: zvýrazní povrch(defekty), materiály s matným povrchem\n",
    "- difúzní: skryje prostorové prvky, materiály s lesklým i matným povrchem\n",
    "- temné pole: zvýraznění reliéfu\n",
    "- kopulové: skryje reliéf a odlesky u zaoblených lesklých povrchů\n",
    "------------------------\n",
    "- přímé (ring, koaxiální)\n",
    "- jasné (bar)\n",
    "- temné (ring)\n",
    "- zadní (back)\n",
    "\n",
    "![image.png](attachment:image.png)"
   ]
  },
  {
   "cell_type": "markdown",
   "metadata": {},
   "source": [
    "### Vady\n",
    "\n",
    "Chromatická aberace\n",
    "- barevné lemování na přechodech\n",
    "- řešení: clona, větší expoziční čas\n",
    "\n",
    "Difrakce\n",
    "- snížení ostrosti obrazu\n",
    "- najít sweetspot clony (cca 1/3 rozsahu)\n",
    "\n",
    "Vinětace\n",
    "- více světla na středu obrazu než na krajích\n",
    "- řešení: clona\n",
    "\n",
    "Distorze\n",
    "- zakřivení obrazu - širokoúhlé objektivy\n",
    "- kalibrace kamery"
   ]
  },
  {
   "cell_type": "markdown",
   "metadata": {},
   "source": [
    "### Načtení obrázků"
   ]
  },
  {
   "cell_type": "code",
   "execution_count": 4,
   "metadata": {},
   "outputs": [],
   "source": [
    "def load_images(path='data/'):\n",
    "    images = []\n",
    "    files = os.listdir(path)\n",
    "    for f in files:\n",
    "        image = load_image(path + f)\n",
    "        images.append(image)\n",
    "        \n",
    "    plot_images(*images)\n",
    "    return images"
   ]
  },
  {
   "cell_type": "code",
   "execution_count": 5,
   "metadata": {},
   "outputs": [],
   "source": [
    "def load_from_file(file=\"img.bmp\"):\n",
    "    img = load_image(file) # openCV je BGR\n",
    "    # img_bin = to_gray(img.copy())\n",
    "    # img_hsv = to_hsv(img.copy())\n",
    "    # img_rgb = to_rgb(img.copy())\n",
    "    # img_3 = to_3_channels(img_bin)\n",
    "    # img_bin = negative(img_bin)\n",
    "    print(f'Rozměry: {img.shape}')\n",
    "    plot_images(img)\n",
    "    return img"
   ]
  },
  {
   "cell_type": "code",
   "execution_count": 6,
   "metadata": {},
   "outputs": [],
   "source": [
    "def crop_image(img, up_l=(0, 0), bot_r=(-1, -1)):\n",
    "    img_cropped = crop(img, up_l[0], up_l[1], bot_r[0], bot_r[1]) # Tx, Ty, Bx, By\n",
    "    print(f'Nové rozměry: {img_cropped.shape}')\n",
    "    plot_images(img, img_cropped)\n",
    "    return img_cropped"
   ]
  },
  {
   "cell_type": "markdown",
   "metadata": {},
   "source": [
    "## Kalibrace kamery"
   ]
  },
  {
   "cell_type": "code",
   "execution_count": 7,
   "metadata": {},
   "outputs": [],
   "source": [
    "def camera_calibration(img, calib_images_folder_path=\"calibration\", chess_shape=(6,9)):\n",
    "    images_format='%01d.bmp'\n",
    "    calibration_file_name=\"camera_calib.yaml\"\n",
    "\n",
    "    reindex_image_files(calib_images_folder_path) # přejmenování obrázku pro kalibraci pro cv2.VideoCapture\n",
    "    output_calib_file_path = create_file_path(calib_images_folder_path, calibration_file_name) # cesta k souboru s kalibrací\n",
    "    input_source = create_file_path(calib_images_folder_path, images_format) # cesta k obrázkům pro kalibraci\n",
    "    camera_matrix, dist_coeffs, good_images = camera_calib(input_source=input_source, chess_shape=chess_shape, output_calib_file=output_calib_file_path) # kalibrace\n",
    "    \n",
    "    img_corrected = correct_frame(img, camera_matrix, dist_coeffs) # spuštění korekce na obrázek\n",
    "    plot_images(img, img_corrected)\n",
    "    \n",
    "    return img_corrected"
   ]
  },
  {
   "cell_type": "markdown",
   "metadata": {},
   "source": [
    "## Předpracování"
   ]
  },
  {
   "attachments": {
    "image-2.png": {
     "image/png": "[encoded data removed]"
    }
   },
   "cell_type": "markdown",
   "metadata": {},
   "source": [
    "### Morfologie\n",
    "\n",
    "![image-2.png](attachment:image-2.png)"
   ]
  },
  {
   "cell_type": "code",
   "execution_count": 8,
   "metadata": {},
   "outputs": [],
   "source": [
    "def dilatace(img, k_size):\n",
    "    return cv2.dilate(img, np.ones((k_size, k_size), np.uint8), iterations = 1)"
   ]
  },
  {
   "cell_type": "code",
   "execution_count": 9,
   "metadata": {},
   "outputs": [],
   "source": [
    "def eroze(img, k_size):\n",
    "    return cv2.erode(img, np.ones((k_size, k_size), np.uint8), iterations = 1)"
   ]
  },
  {
   "cell_type": "code",
   "execution_count": 10,
   "metadata": {},
   "outputs": [],
   "source": [
    "def closing(img, k_size):\n",
    "    return cv2.morphologyEx(img, cv2.MORPH_CLOSE, np.ones((k_size, k_size), np.uint8))"
   ]
  },
  {
   "cell_type": "code",
   "execution_count": 11,
   "metadata": {},
   "outputs": [],
   "source": [
    "def opening(img, k_size):\n",
    "    return cv2.morphologyEx(img, cv2.MORPH_OPEN, np.ones((k_size, k_size), np.uint8))"
   ]
  },
  {
   "cell_type": "markdown",
   "metadata": {},
   "source": [
    "Filtrace"
   ]
  },
  {
   "cell_type": "code",
   "execution_count": 12,
   "metadata": {},
   "outputs": [],
   "source": [
    "def filtrace(img):\n",
    "    img_filt = filtration_median(img, 5)\n",
    "    img_filt = filtration_gauss(img, 5, 1) # kernel_size, sigma\n",
    "    return img_filt"
   ]
  },
  {
   "cell_type": "markdown",
   "metadata": {},
   "source": [
    "Bitové operace"
   ]
  },
  {
   "cell_type": "code",
   "execution_count": 13,
   "metadata": {},
   "outputs": [],
   "source": [
    "def cv_bit_operace(img, mask, background, seg):\n",
    "    img_merged = cv2.bitwise_or(img, negative(background))\n",
    "    img_merged = cv2.bitwise_and(img, img, mask=mask)\n",
    "    img_merged = cv2.add(seg, cv2.bitwise_and(img, img, mask=cv2.bitwise_not(mask)))\n",
    "    return img_merged"
   ]
  },
  {
   "cell_type": "markdown",
   "metadata": {},
   "source": [
    "Kreslení"
   ]
  },
  {
   "cell_type": "code",
   "execution_count": 14,
   "metadata": {},
   "outputs": [],
   "source": [
    "def draw_circle_line(img, pt, line):\n",
    "    img_draw = to_3_channels(img)\n",
    "    cv2.circle(img_draw, pt, 5, (0, 0, 255), -1)\n",
    "    cv2.line(img_draw, line[0], line[1], (0, 0, 255), 2)    \n",
    "    return img_draw"
   ]
  },
  {
   "cell_type": "markdown",
   "metadata": {},
   "source": [
    "Oříznutí masky"
   ]
  },
  {
   "cell_type": "code",
   "execution_count": 15,
   "metadata": {},
   "outputs": [],
   "source": [
    "def crop_mask(mask):\n",
    "    mask_cropped = crop_by_bounding_rect(mask)\n",
    "    return mask_cropped"
   ]
  },
  {
   "cell_type": "markdown",
   "metadata": {},
   "source": [
    "Vzdálenost bodů"
   ]
  },
  {
   "cell_type": "code",
   "execution_count": 16,
   "metadata": {},
   "outputs": [],
   "source": [
    "def euklid_distance(p1, p2):\n",
    "    return np.linalg.norm(np.array(p1) - np.array(p2))"
   ]
  },
  {
   "cell_type": "markdown",
   "metadata": {},
   "source": [
    "## Segmentace"
   ]
  },
  {
   "cell_type": "code",
   "execution_count": 17,
   "metadata": {},
   "outputs": [],
   "source": [
    "def auto_segmentace(img, size=10):\n",
    "    img = to_gray(img.copy())\n",
    "    img_seg1 = segmentation_auto_threshold(img)\n",
    "    img_seg2 = segmentation_adaptive_threshold(img, size)\n",
    "    plot_images(img_seg1, img_seg2, titles=['auto', 'adaptive'])\n",
    "    return img_seg1, img_seg2"
   ]
  },
  {
   "cell_type": "markdown",
   "metadata": {},
   "source": [
    "Černobílý"
   ]
  },
  {
   "cell_type": "code",
   "execution_count": 18,
   "metadata": {},
   "outputs": [],
   "source": [
    "def interactive_segmentation_binary(img_bin):\n",
    "    result = None\n",
    "    @interact(threshold_range=create_slider(min=0, max=255, description='Intensity:',))\n",
    "    def _(threshold_range):\n",
    "        mask = segmentation_two_thresholds(img, threshold_range[0], threshold_range[1])\n",
    "        result = mask\n",
    "        plot_images(mask, apply_mask(img, mask))\n",
    "\n",
    "    return result"
   ]
  },
  {
   "cell_type": "markdown",
   "metadata": {},
   "source": [
    "BGR"
   ]
  },
  {
   "cell_type": "code",
   "execution_count": 19,
   "metadata": {},
   "outputs": [],
   "source": [
    "def interactive_segmentation_color(img):\n",
    "    result = None\n",
    "    @interact(blue=create_slider(min=0, max=255, description='Blue:'),\n",
    "            green=create_slider(min=0, max=255, description='Green:'),\n",
    "            red=create_slider(min=0, max=255, description='Red:'))\n",
    "    def _(blue, green, red):\n",
    "        mask = segmentation_two_thresholds(img, (blue[0], green[0], red[0]), (blue[1], green[1], red[1])) ###\n",
    "        result = mask\n",
    "        plot_images(mask, apply_mask(img, mask))\n",
    "\n",
    "    return result"
   ]
  },
  {
   "cell_type": "markdown",
   "metadata": {},
   "source": [
    "HSV"
   ]
  },
  {
   "cell_type": "code",
   "execution_count": 20,
   "metadata": {},
   "outputs": [],
   "source": [
    "def interactive_segmentation_hsv(img):\n",
    "    result = None\n",
    "    @interact(h_range=create_slider(min=0, max=360, description='Hue:'),\n",
    "            s_range=create_slider(min=0, max=255, description='Saturation:'),\n",
    "            v_range=create_slider(min=0, max=255, description='Value:'))\n",
    "    def _(h_range, s_range, v_range):\n",
    "        lower_bound = (to_intensity(h_range[0]), s_range[0], v_range[0])\n",
    "        upper_bound = (to_intensity(h_range[1]), s_range[1], v_range[1])\n",
    "        mask = segmentation_two_thresholds(img_hsv, lower_bound, upper_bound)\n",
    "        result = mask\n",
    "        plot_images(mask, apply_mask(img, mask))\n",
    "\n",
    "    return result"
   ]
  },
  {
   "cell_type": "markdown",
   "metadata": {},
   "source": [
    "Barevná HSV segmentace"
   ]
  },
  {
   "cell_type": "code",
   "execution_count": 21,
   "metadata": {},
   "outputs": [],
   "source": [
    "def multicolor_segmentation(img_hsv):\n",
    "    colors = ['green', 'blue', 'purple', 'yellow', 'orange', 'pink', 'red']\n",
    "    color_thresholds = {}\n",
    "    \n",
    "    # initialize sliders, buttons etc.\n",
    "    h_slider=create_slider(min=0, max=360, description='Hue:')\n",
    "    s_slider=create_slider(min=0, max=255, description='Saturation:')\n",
    "    v_slider=create_slider(min=0, max=255, description='Value:')\n",
    "    \n",
    "    color_dropdown = widgets.Dropdown(options=colors, description='Color:'.ljust(30, '\\xa0'), style ={'description_width': 'initial'},layout = {'width': 'max-content'})\n",
    "    \n",
    "    save_button = widgets.Button(description='Save threshold for color',layout=widgets.Layout(width='auto'),button_style='success')\n",
    "    finish_button = widgets.Button(description='Return saved thresholds',layout=widgets.Layout(width='auto'),button_style='danger')\n",
    "    text_output = widgets.Output()\n",
    "\n",
    "    def find_thresholds(h_range, s_range, v_range):\n",
    "        lower_bound=(to_intensity(h_range[0]), s_range[0], v_range[0])\n",
    "        upper_bound=(to_intensity(h_range[1]), s_range[1], v_range[1])\n",
    "        mask = segmentation_two_thresholds(img_hsv, lower_bound, upper_bound)\n",
    "        plot_images(mask, apply_mask(img, mask))\n",
    "\n",
    "    interactive_output = widgets.interactive_output(find_thresholds, {'h_range':h_slider,'s_range':s_slider,'v_range':v_slider})\n",
    "    \n",
    "    input_box = widgets.VBox([h_slider,s_slider,v_slider,color_dropdown])\n",
    "    button_box = widgets.HBox([save_button, finish_button])\n",
    "    other_box = widgets.VBox([text_output, interactive_output])\n",
    "    \n",
    "    def reset_sliders():\n",
    "        h_slider.value = (0,360)\n",
    "        s_slider.value = (0,255)\n",
    "        v_slider.value = (0,255)\n",
    "    \n",
    "    def on_save_clicked(b):\n",
    "        with text_output:\n",
    "            text_output.clear_output()\n",
    "            color_thresholds[color_dropdown.value] = (h_slider.value, s_slider.value, v_slider.value)\n",
    "            print(f\"Saved for color '{color_dropdown.value}', threshold: {color_thresholds[color_dropdown.value]}\\nResetting sliders...\\nChanging to next color...\")\n",
    "            reset_sliders()\n",
    "            color_dropdown.value = colors[(colors.index(color_dropdown.value)+1)%len(colors)]\n",
    "        \n",
    "    def on_finish_clicked(b):\n",
    "        with text_output:\n",
    "            text_output.clear_output()\n",
    "            print('Returned saved thresholds!')\n",
    "            reset_sliders()\n",
    "    \n",
    "    save_button.on_click(on_save_clicked)\n",
    "    finish_button.on_click(on_finish_clicked)\n",
    "    display(input_box, button_box,other_box)\n",
    "\n",
    "    for color, threshold in color_thresholds.items():\n",
    "        print(f'Barva: {color}, Práh: {color_thresholds[color]}')"
   ]
  },
  {
   "cell_type": "markdown",
   "metadata": {},
   "source": [
    "## Počítání"
   ]
  },
  {
   "cell_type": "markdown",
   "metadata": {},
   "source": [
    "- vysegmentovat objekty\n",
    "- najít vyplněné kontury\n",
    "- spočítat kontury"
   ]
  },
  {
   "cell_type": "markdown",
   "metadata": {},
   "source": [
    "## Kontury"
   ]
  },
  {
   "cell_type": "code",
   "execution_count": 22,
   "metadata": {},
   "outputs": [],
   "source": [
    "def contour_work(mask, min_area=0, max_area=np.inf):\n",
    "    contour_mask, num_contours, contours = find_contours(mask, min_area, max_area, fill=True, external=True)\n",
    "    contours_filled = fill_holes(mask, close=True, size=5)\n",
    "    contours_drawn = to_3_channels(mask)\n",
    "    cv2.drawContours(contours_drawn, contours, -1, color=(0, 0, 255), thickness=1)\n",
    "\n",
    "    if num_contours > 0:\n",
    "        contours.sort(key=cv2.contourArea, reverse=True) # seřazení kontur podle plochy\n",
    "        contour_biggest = max(contours, key=cv2.contourArea) # zisk největší kontury\n",
    "        print(f'Plocha největší kontury: {cv2.contourArea(contour_biggest):.0f}') # , souřadnice:\\n {contour_biggest.reshape((-1, 2)).tolist()}\n",
    "\n",
    "    print(f'Nalezeno {num_contours} kontur.')\n",
    "    plot_images(contours_drawn, contours_filled, contour_mask)\n",
    "    return contour_mask, contours"
   ]
  },
  {
   "cell_type": "markdown",
   "metadata": {},
   "source": [
    "### Obdélník kontury"
   ]
  },
  {
   "cell_type": "code",
   "execution_count": 23,
   "metadata": {},
   "outputs": [],
   "source": [
    "def rect_work(img, contour):\n",
    "    rect = cv2.minAreaRect(contour) # odhad kontury obdélníkem, fmt: (střed, (výška, šířka), úhel rotace)\n",
    "    vertices = cv2.boxPoints(rect)\n",
    "\n",
    "    # nakreslení rohů obdélníka do původního obrázku\n",
    "    box_points_drawn = to_3_channels(img.copy())\n",
    "    for p in vertices:\n",
    "        cv2.circle(box_points_drawn,(int(p[0]),int(p[1])), 3, (0,0,255), -1)\n",
    "    plot_images(box_points_drawn)\n",
    "    return vertices"
   ]
  },
  {
   "cell_type": "markdown",
   "metadata": {},
   "source": [
    "## Měření\n",
    "- černobílý obrázek\n",
    "- segmentace objektu\n",
    "- kontura objektu"
   ]
  },
  {
   "cell_type": "markdown",
   "metadata": {},
   "source": [
    "Poměr cm/pixel"
   ]
  },
  {
   "cell_type": "code",
   "execution_count": 24,
   "metadata": {},
   "outputs": [],
   "source": [
    "def real_pixel_ratio(rect, ref_width_real=4, ref_height_real=8): # cm\n",
    "    ref_width_pixel, ref_height_pixel = rect[1] # pozor na pořadí výšky a šířky!\n",
    "    return ref_width_real/ref_width_pixel # poměr cm/pixel"
   ]
  },
  {
   "cell_type": "markdown",
   "metadata": {},
   "source": [
    "Zapsání velikostí kontur do obrázku"
   ]
  },
  {
   "cell_type": "code",
   "execution_count": 25,
   "metadata": {},
   "outputs": [],
   "source": [
    "def draw_sizes_to_contour(img, contours, real_image_ratio):\n",
    "    sizes_drawn = img.copy()\n",
    "    for c in contours:\n",
    "        rect = cv2.minAreaRect(c)\n",
    "        shape_width, shape_height = rect[1] # pozor na pořadí výšky a šířky\n",
    "        real_width = shape_width * real_image_ratio\n",
    "        real_height = shape_height * real_image_ratio\n",
    "        print(rect[1], real_width, real_height)\n",
    "        \n",
    "        cv2.drawContours(sizes_drawn, [c], -1, color=(0, 0, 255), thickness=5)\n",
    "        sizes_drawn = draw_real_sizes(\n",
    "            sizes_drawn,\n",
    "            rect,\n",
    "            real_width,\n",
    "            real_height, \n",
    "            lbl_size_scale=.7,\n",
    "            lbl_color=(0, 0, 255),\n",
    "            lbl_thickness=1\n",
    "        )\n",
    "    plot_images(sizes_drawn)"
   ]
  },
  {
   "cell_type": "markdown",
   "metadata": {},
   "source": [
    "## Perspektiva"
   ]
  },
  {
   "cell_type": "markdown",
   "metadata": {},
   "source": [
    "Projekce"
   ]
  },
  {
   "cell_type": "code",
   "execution_count": 26,
   "metadata": {},
   "outputs": [],
   "source": [
    "def projection(img, src_pts=np.array([(380, 316),(1622,320),(1880,1025),(32,961)]), dst_pts=np.array([(0, 0),(2970, 0),(2970, 2100),(0, 2100)])):\n",
    "    H, mask = cv2.findHomography(src_pts, dst_pts)\n",
    "    warped_img = cv2.warpPerspective(img, H, (2970, 2100))\n",
    "    plot_images(img, warped_img)\n",
    "    return H, warped_img"
   ]
  },
  {
   "cell_type": "markdown",
   "metadata": {},
   "source": [
    "Vzdálenost bodů v rovině projekce"
   ]
  },
  {
   "cell_type": "code",
   "execution_count": 27,
   "metadata": {},
   "outputs": [],
   "source": [
    "def calculate_projection_distance(H, line_start=np.array([[(479, 705)]], dtype='float32'), line_end=np.array([[(1330, 584)]], dtype='float32')):\n",
    "    line_start_t = cv2.perspectiveTransform(line_start, H)\n",
    "    line_end_t = cv2.perspectiveTransform(line_end, H)\n",
    "    dist = np.linalg.norm(line_start_t - line_end_t)\n",
    "    return dist"
   ]
  },
  {
   "cell_type": "markdown",
   "metadata": {},
   "source": [
    "Referenční vzdálenosti a měřené vzdálenosti"
   ]
  },
  {
   "cell_type": "code",
   "execution_count": 28,
   "metadata": {},
   "outputs": [],
   "source": [
    "# úsečky musejí začínat ve stejné rovině a být vertikální\n",
    "# Struktura: TOP; BTM; reálná vzdálenost\n",
    "REFERENCE_MEASUREMENTS = [\n",
    "    ((148, 214), (110, 980), 12),\n",
    "    ((922, 22), (898, 1008), 15),\n",
    "    ((1516, 216), (1524, 1014), 12),\n",
    "]\n",
    "\n",
    "# Dvojice měřených bodů objektů z obrazu\n",
    "Tx = ((532, 106), (1026, 564))\n",
    "Bx = ((510, 1136), (1022, 1068))"
   ]
  },
  {
   "cell_type": "markdown",
   "metadata": {},
   "source": [
    "Úběžníky"
   ]
  },
  {
   "cell_type": "code",
   "execution_count": 29,
   "metadata": {},
   "outputs": [],
   "source": [
    "def ubezniky(img):\n",
    "    img_rgb = to_rgb(img.copy())\n",
    "    vps = compute_vanishing_points(img_rgb)\n",
    "    vl = np.cross(vps[0], vps[1]) # horizontální úběžníky\n",
    "    vpz = vps[2] # osa z\n",
    "    return vl, vpz"
   ]
  },
  {
   "cell_type": "markdown",
   "metadata": {},
   "source": [
    "Výpočet výšky objektů"
   ]
  },
  {
   "cell_type": "code",
   "execution_count": 30,
   "metadata": {},
   "outputs": [],
   "source": [
    "def get_height(REFERENCE_MEASUREMENTS, vl, vpz):\n",
    "    height_estimator = improutils.HeightEstimator(REFERENCE_MEASUREMENTS, vl, vpz)\n",
    "    return abs(height_estimator.calc_height(Tx[1], Bx[1])) # height"
   ]
  },
  {
   "cell_type": "markdown",
   "metadata": {},
   "source": [
    "## Fourierova transformace"
   ]
  },
  {
   "cell_type": "markdown",
   "metadata": {},
   "source": [
    "Odstranění opakujícího se vzoru"
   ]
  },
  {
   "cell_type": "code",
   "execution_count": 31,
   "metadata": {},
   "outputs": [],
   "source": [
    "def FFT(cardboard_normalized):\n",
    "    mag_spec, spectrum_shift = apply_fft(cardboard_normalized)\n",
    "\n",
    "    filter_mask_final = negative(create_filter_mask(cardboard_normalized.shape, [], [249,250]))\n",
    "\n",
    "    spec_mask_filt_final = filter_mag_spec(mag_spec, filter_mask_final)\n",
    "    cardboard_filt_final = inverse_fft(spectrum_shift, filter_mask_final).astype(np.uint8)\n",
    "\n",
    "    plot_images(filter_mask_final, spec_mask_filt_final, cardboard_filt_final, normalize=True)"
   ]
  },
  {
   "cell_type": "markdown",
   "metadata": {},
   "source": [
    "## OCR"
   ]
  },
  {
   "cell_type": "code",
   "execution_count": 32,
   "metadata": {},
   "outputs": [],
   "source": [
    "def find_holes(img_bin,min_area = 0, max_area=1000000, fill = True):\n",
    "    contours, hierarchy = cv2.findContours(img_bin,cv2.RETR_CCOMP,cv2.CHAIN_APPROX_SIMPLE)\n",
    "    hole_indices = [ i for i in range(len(hierarchy[0])) if hierarchy[0,i,-1] != -1]    \n",
    "    contours = [contours[hole_index] for hole_index in hole_indices if min_area < cv2.contourArea(contours[hole_index]) <= max_area]\n",
    "    thick = cv2.FILLED\n",
    "    if not fill: thick = 2\n",
    "    contours_drawn = cv2.drawContours(np.zeros(img_bin.shape, dtype=np.uint8), contours, -1, color=(255, 255, 255),thickness=thick)\n",
    "    return contours_drawn, len(contours), contours\n",
    "\n",
    "def ocr(img_bin):\n",
    "    config = r' -l eng --psm 6'\n",
    "    img_bin = negative(img_bin)\n",
    "    return pytesseract.image_to_string(img_bin, config=config)"
   ]
  },
  {
   "cell_type": "code",
   "execution_count": 33,
   "metadata": {},
   "outputs": [],
   "source": [
    "def ocr_work(img):\n",
    "    filtered = filtration_median(img, 5)\n",
    "    segmented = segmentation_adaptive_threshold(filtered, 10)\n",
    "    mask, _, _ = find_holes(segmented, 100)\n",
    "    return ocr(mask)"
   ]
  }
 ],
 "metadata": {
  "kernelspec": {
   "display_name": "Python 3 (ipykernel)",
   "language": "python",
   "name": "python3"
  },
  "language_info": {
   "codemirror_mode": {
    "name": "ipython",
    "version": 3
   },
   "file_extension": ".py",
   "mimetype": "text/x-python",
   "name": "python",
   "nbconvert_exporter": "python",
   "pygments_lexer": "ipython3",
   "version": "3.8.18"
  }
 },
 "nbformat": 4,
 "nbformat_minor": 2
}
