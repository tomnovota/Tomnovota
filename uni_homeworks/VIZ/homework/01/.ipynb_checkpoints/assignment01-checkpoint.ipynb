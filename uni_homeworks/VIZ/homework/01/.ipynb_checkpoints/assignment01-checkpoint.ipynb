{
 "cells": [
  {
   "cell_type": "markdown",
   "id": "fdda746b",
   "metadata": {},
   "source": [
    "# Domácí úkol č. 1 - 🕵️‍♀️ Explorační analýza dat\n",
    "\n",
    "## 📚 Data\n",
    "V souborech `intakes.csv` a `outcomes.csv` naleznete data z útulku ve městě Austin, Texas USA. Data pocházejí z oficiálního [zdroje otevřených dat města Austin](https://data.austintexas.gov/).\n",
    "\n",
    "Dataset [intakes](https://data.austintexas.gov/Health-and-Community-Services/Austin-Animal-Center-Intakes/wter-evkm) obsahuje data o přijatých zvířatech od 1. 10. 2013 do 27. 4 2022. Dataset [outcomes](https://data.austintexas.gov/Health-and-Community-Services/Austin-Animal-Center-Outcomes/9t4d-g238) obsahuje údaje o zvířatech, která útulek opustila (např. byla adoptována, vrácena majiteli a podobně) za tentýž časový interval.\n",
    "\n",
    "## Zadání\n",
    "> ☝️ Používejte markdown buňky! Zdůvodňujte všechny důležité kroky, popisujte vizualizace a co je z nich možné pozorovat. Za nepřehledný domácí úkol nebudou uděleny body.\n",
    "\n",
    "Za řádné průběžné komentování a vizuální prezentaci postupu a výsledků lze získat až 3 body.\n",
    "\n",
    "**✨ Příprava dat** (celkem 4 body)\n",
    "* Importujte potřebné balíčky.\n",
    "* Načtěte si datasety intakes a outcomes z příslušných csv souborů.\n",
    "* Seznamte se s oběma datasety a svá zjištění komentujte:\n",
    "  * Příklad informací, které lze zjistit: počet řádků datasetu, počet a význam příznaků, datový typ příznaků a počet jejich unikátních hodnot, ...\n",
    "* Vyčistěte a zkonvertujte data:\n",
    "  * Zjistěte jakým způsobem jsou v datasetu uváděny chybějící hodnoty a v případě potřeby je přepište na NaN.\n",
    "  * Zkonvertujte kategorické příznaky na typ category.\n",
    "  * Převeďte příznak Age upon Intake/Outcome na numerický příznak.\n",
    "  * Převeďte příznak DateTime na typ datetime64.\n",
    "  * Proveďte všechny další úpravy, které vám dávají smysl (konverze dalších příznaků, odstranění duplicitních údajů, přidání nových příznaků, ...).\n",
    "* Spojte datasety do jednoho podle ID zvířete a času přijetí a opuštění útulku.\n",
    "  \n",
    "**🖊️ Deskriptivní statistiky** (celkem 6 bodů)\n",
    "\n",
    "Volbu vhodných statistik pro daný typ dat komentujte a pokud je to možné, využívejte co nejvíce vizualizace.\n",
    "* Popište příznaky Age upon Intake a DateTime (původně z datasetu intakes) pomocí univariačních deskriptivních statistik.\n",
    "* Vyberte si tři další příznaky a popište je pomocí univariačních deskriptivních statistik, které jsou pro ně vhodné.\n",
    "* Vyberte si dva příznaky, mezi kterými by mohla být korelace (dvojice typu Age upon Intake a Age upon Outcome neuznáváme) a popište jejich vztah pomocí bivariačních deskriptivních statistik.\n",
    "\n",
    "**❓ Zadané otázky** (2 body za každou otázku, celkem max. 6 bodů)\n",
    "\n",
    "Pomocí vhodných vizualizací odpovídejte na následující otázky:\n",
    "* Závisí typ odchodu zvířete z útulku (Outcome Type) na typu příchodu (Income Type)?\n",
    "* Hraje věk zvířete roli při adopci?\n",
    "* Je příjem zvířat v rámci roku konstantní nebo existují období s větší/nižší zátěží?\n",
    "\n",
    "K jedné otázce můžete v případě potřeby vytvořit více vizualizací. Výsledek vizualizace a všechny mezikroky komentujte.\n",
    "\n",
    "**❓ Vlastní otázky** (2 body za každou otázku, celkem max. 6 bodů)\n",
    "\n",
    "Vymyslete **minimálně tři** vlastní otázky a odpovídejte na ně vhodnými vizualizacemi. Otázky můžete postavit na již zmíněných datasetech. Také je možné využít třetí dataset [locations](https://data.austintexas.gov/Health-and-Community-Services/Austin-Animal-Center-Found-Pets-Map/hye6-gvq2), který naleznete v souboru locations.csv, nebo si můžete stáhnout nějaká další zajímavá data, která souvisí s tímto tématem.\n",
    "\n",
    "Dataset locations poskytuje informace o všech toulavých kočkách a psech, které jsou v databázi útulku **méně než týden**. Většina se nachází v útulku, ale část z nich je u dobrovolníků – tato informace je uvedena ve sloupci At AAC (AAC – Austin Animal Center).\n",
    "\n",
    "### Bodové hodnocení\n",
    "Shrnutí bodů, které můžete nejvýše získat:\n",
    "- 3 body za komentáře a vizuální prezentaci postupu a výsledků,\n",
    "- 4 body za přípravu dat,\n",
    "- 6 bodů za deskriptivní statistiku,\n",
    "- 6 bodů za zodpovězení všech zadaných otázek,\n",
    "- 6 bodů za definici a zodpovězení minimálně tří vlastních otázek.\n",
    "\n",
    "Celkem lze za domácí úkol č. 1 získat maximálně 25 bodů."
   ]
  },
  {
   "cell_type": "code",
   "execution_count": null,
   "id": "8b399f1c",
   "metadata": {},
   "outputs": [],
   "source": [
    "# a teď už je to na vás 💪\n",
    "# níže vložte své řešení"
   ]
  }
 ],
 "metadata": {
  "kernelspec": {
   "display_name": "Python 3 (ipykernel)",
   "language": "python",
   "name": "python3"
  },
  "language_info": {
   "codemirror_mode": {
    "name": "ipython",
    "version": 3
   },
   "file_extension": ".py",
   "mimetype": "text/x-python",
   "name": "python",
   "nbconvert_exporter": "python",
   "pygments_lexer": "ipython3",
   "version": "3.9.12"
  }
 },
 "nbformat": 4,
 "nbformat_minor": 5
}
