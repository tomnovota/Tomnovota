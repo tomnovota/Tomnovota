{
 "cells": [
  {
   "cell_type": "markdown",
   "id": "3fd4f1ee",
   "metadata": {},
   "source": [
    "# Domácí úkol č. 3 - 📈 Vizualizace ve strojovém učení od A do Z\n",
    "\n",
    "## 📚 Data\n",
    "Pro tento úkol si studenti **zvolí vhodná data sami**. ☝️ Zvolená data by měla být veřejně dostupná a měla by simulovat nebo odpovídat nějaké reálné situaci (tzn. syntetická/vygenerovaná data neuvažujeme!). Data si vybírejte tak, abyste na nich byli schopni řešit klasifikační nebo regresní úlohu (tedy supervizované učení, přítomnost výstupní proměnné). \n",
    "\n",
    "**Pro odvážné:** Pokud se cítíte silní v kramflecích, můžete si zvolit i nesupervizovanou úlohu, např. shlukování.\n",
    "\n",
    "#### Tipy na data a řešení\n",
    "V souboru datasets_tips.md můžete najít tipy na různé veřejné weby s datasety.\n",
    "\n",
    "Inspiraci pro vypracování úkolu najdete v praktických ukázkách k přednáškám č. 8 a 9. Nicméně pouze zkopírovaný kód nebude hodnocen kladně.\n",
    "\n",
    "☝️**Pozor!** Zkuste si zvolit trochu nápaditý dataset. Pokud si zvolíte dataset, který je často součástí tutoriálů (např. [Titanic dataset](https://www.tensorflow.org/datasets/catalog/titanic) nebo [Iris dataset](https://scikit-learn.org/stable/modules/generated/sklearn.datasets.load_iris.html#sklearn.datasets.load_iris)), pro zisk plného počtu bodů budete muset zřejmě vynaložit větší úsilí při jeho kreativní a neotřelé prezentaci.\n",
    "\n",
    "## Zadání\n",
    "> ☝️ Používejte **markdown buňky**! Zdůvodňujte všechny důležité kroky, popisujte vizualizace a co je z nich možné pozorovat. Za nepřehledný domácí úkol nebudou uděleny body.\n",
    "\n",
    "Za řádné průběžné **komentování a vizuální prezentaci postupu a výsledků lze získat **až 10 bodů**. Notebook odevzdávejte po spuštění (tzn. včetně output buněk) a zkrontrolujte si, že se komentáře korektně zobrazují ('rendered file' na GitLabu ve vašem prohlížeči).\n",
    "\n",
    "Úkol můžete vypracovávat jako **jednotlivci** nebo **ve skupině maximálně 3 spolužáků**. Postup pro hodnocení skupiny najdete na stránkách předmětu [zde](https://courses.fit.cvut.cz/BI-VIZ/homeworks/index.html#_podrobnosti-k-hodnocen%C3%AD-třet%C3%ADho-úkolu).\n",
    "\n",
    "### Pokyny pro vypracování\n",
    "\n",
    "🙏 Pokud je to možné, v každém bodě vaší práce **využijte vizualizace** a svá zjištění komentujte.\n",
    "\n",
    "**📖 Vaše úloha:**\n",
    "1. Popište klasifikační/regresní úlohu, kterou v rámci domácího úkolu budete řešit.\n",
    "2. Uveďte zdroj, odkud čerpáte data. ⛔️ Pozn.: Pokud pracujete s lokálně uloženým datasetem, odevzdejte jej spolu s vyřešeným Jupyter Notebookem prostřednictvím GitLabu. To aby s daty mohl pracovat i vyučující při opravě.\n",
    "\n",
    "**✨ Dataset:**\n",
    "V této části máte za úkol načíst zvolená data a pomocí vizualizace a popisných statistik se s nimi seznámit. Dále je nutné data vhodným způsobem předzpracovat, abyste je mohli použít pro trénování modelu.\n",
    "1. Načtěte si zvolený dataset a importujte potřebné knihovny. Volba knihoven je na vás.\n",
    "2. Představte jednotlivé příznaky pomocí textových popisů.\n",
    "3. Analyzujte dataset pomocí popisných statistik s využitím vhodných vizualizačních metod. Svá zjištění komentujte.\n",
    "4. Vyšetřete chybějící hodnoty (včetně jejich reprezentace) a odlehlá pozorování. Opět využijte vizualizace, pokud je to možné a svá zjištění komentujte.\n",
    "5. Proveďte všechny další úpravy, které jsou podle vás pro práci s vybraným datasetem nezbytné (např. konverze datových typů, odstranění duplicitních údajů, vytvoření nových příznaků, sjednocení reprezentace chybějících dat nebo jejich odstranění apod.). K úpravě datasetu se můžete v průběhu řešení úlohy vracet.\n",
    "6. Připravte dataset tak, abyste na něm mohli natrénovat a vyhodnotit vybraný model (např. data vhodně rozdělte, pokud je to pro váš model a evaluaci nutné, rozdělení komentujte, nebo můžete využít křížovou validaci apod. -> znáte z BI-ML1).\n",
    "\n",
    "Z této části lze získat celkem 15 bodů.\n",
    "\n",
    "**⚙️Model:**\n",
    "V této části je vaším úkolem natrénovat model, který se pokusí vyřešit vaši úlohu. Zaměřte se především na vizualizaci jednotlivých kroků a výsledků, včetně komentářů. Kvalita modelu jako takového nebude hodnocena.\n",
    "1. Pro svoji úlohu zvolte vhodný klasifikační/regresní model.\n",
    "2. Zvolte si alespoň dva hyperparametry spolu s minimálně pěti hodnotami (zde může být i více, případně méně v závislosti na zvoleném hyperparametru), jejichž nejlepší kombinaci budete během trénování modelu hledat. Zvolené hyperparametry a jejich hodnoty popište.\n",
    "3. Zvolte a popište ztrátovou funkci, pomocí které provedete vyhodnocení úspěšnosti modelu.\n",
    "4. Daný model na datasetu natrénujte. Pokud to lze, model vizualizujte.\n",
    "5. Vhodně vizualizujte a komentujte vliv jednotlivých kombinací hyperparamentrů na úspěšnost modelu. Uveďte nejlepší kombinaci.\n",
    "6. Vizualizujte rozhodovací hranici nejlepšího modelu pro vámi vybrané příznaky. (U nesupervizované úlohy tento bod konzultujte s vyučující, nejlépe emailem s odkazem na řešení v GitLabu.)\n",
    "7. Vhodně vizualizujte úspěšnost výsledného modelu - využijte alespoň dvě vizualizační metody.\n",
    "\n",
    "**Pro zájemce:** Pokud byste chtěli, můžete pro řešení úlohy použít modelů více a provést jejich srovnání (včetně ladění hyperparametrů a dalších kroků zmíněných výše).\n",
    "\n",
    "Z této části lze získat celkem 25 bodů.\n",
    "\n",
    "### Bodové hodnocení\n",
    "Shrnutí bodů, které můžete nejvýše získat:\n",
    "- 10 bodů za průběžné komentáře a vizuální prezentaci postupu a výsledků,\n",
    "- 15 bodů za předzpracování a prezentaci dat,\n",
    "- 25 bodů za trénování a vyhodnocení modelu:\n",
    "\n",
    "Celkem lze za domácí úkol č. 3 získat maximálně 50 bodů (každý člen týmu nebo jednotlivec)."
   ]
  },
  {
   "attachments": {},
   "cell_type": "markdown",
   "id": "d59cc37f",
   "metadata": {},
   "source": [
    "# Moje řešení:"
   ]
  },
  {
   "attachments": {},
   "cell_type": "markdown",
   "id": "9fe98f0b",
   "metadata": {},
   "source": [
    "## Popis úlohy"
   ]
  },
  {
   "attachments": {},
   "cell_type": "markdown",
   "id": "51cbc5ec",
   "metadata": {},
   "source": [
    "### Zdroj dat"
   ]
  },
  {
   "attachments": {},
   "cell_type": "markdown",
   "id": "c93ed847",
   "metadata": {},
   "source": [
    "# Dataset"
   ]
  },
  {
   "attachments": {},
   "cell_type": "markdown",
   "id": "151873d8",
   "metadata": {},
   "source": [
    "### Import potřebných knihoven"
   ]
  },
  {
   "cell_type": "code",
   "execution_count": 2,
   "id": "74423fca",
   "metadata": {},
   "outputs": [],
   "source": [
    "import pandas as pd\n",
    "import numpy as np\n",
    "\n",
    "import matplotlib.pyplot as plt\n",
    "import matplotlib\n",
    "import matplotlib.ticker as ticker # Mřížka grafů\n",
    "\n",
    "import seaborn as sb"
   ]
  },
  {
   "attachments": {},
   "cell_type": "markdown",
   "id": "24c034f3",
   "metadata": {},
   "source": [
    "### Načtení dat"
   ]
  },
  {
   "cell_type": "code",
   "execution_count": 29,
   "id": "049b4c2b",
   "metadata": {},
   "outputs": [],
   "source": [
    "df = pd.read_csv(\"country_level_data_0.csv\")"
   ]
  },
  {
   "cell_type": "code",
   "execution_count": 30,
   "id": "bd48ac2a",
   "metadata": {},
   "outputs": [],
   "source": [
    "for x in df.columns:\n",
    "    if df[x].isna().sum() > 70:  # len(df) / 2:\n",
    "        df.drop(x, axis=1, inplace=True)"
   ]
  },
  {
   "cell_type": "code",
   "execution_count": 31,
   "id": "3eeecfb7",
   "metadata": {},
   "outputs": [
    {
     "name": "stdout",
     "output_type": "stream",
     "text": [
      "<class 'pandas.core.frame.DataFrame'>\n",
      "RangeIndex: 217 entries, 0 to 216\n",
      "Data columns (total 15 columns):\n",
      " #   Column                                                                          Non-Null Count  Dtype  \n",
      "---  ------                                                                          --------------  -----  \n",
      " 0   region_id                                                                       217 non-null    object \n",
      " 1   country_name                                                                    216 non-null    object \n",
      " 2   gdp                                                                             216 non-null    float64\n",
      " 3   composition_food_organic_waste_percent                                          176 non-null    float64\n",
      " 4   composition_glass_percent                                                       171 non-null    float64\n",
      " 5   composition_metal_percent                                                       170 non-null    float64\n",
      " 6   composition_other_percent                                                       175 non-null    float64\n",
      " 7   composition_paper_cardboard_percent                                             176 non-null    float64\n",
      " 8   composition_plastic_percent                                                     175 non-null    float64\n",
      " 9   other_information_national_agency_to_enforce_solid_waste_laws_and_regulations   164 non-null    object \n",
      " 10  other_information_national_law_governing_solid_waste_management_in_the_country  194 non-null    object \n",
      " 11  other_information_ppp_rules_and_regulations                                     162 non-null    object \n",
      " 12  population_population_number_of_people                                          217 non-null    int64  \n",
      " 13  special_waste_e_waste_tons_year                                                 182 non-null    float64\n",
      " 14  total_msw_total_msw_generated_tons_year                                         215 non-null    float64\n",
      "dtypes: float64(9), int64(1), object(5)\n",
      "memory usage: 25.6+ KB\n"
     ]
    }
   ],
   "source": [
    "df.info()"
   ]
  },
  {
   "cell_type": "code",
   "execution_count": null,
   "id": "1df449fa",
   "metadata": {},
   "outputs": [],
   "source": []
  },
  {
   "attachments": {},
   "cell_type": "markdown",
   "id": "3de1b3f4",
   "metadata": {},
   "source": [
    "### Představení příznaků"
   ]
  },
  {
   "attachments": {},
   "cell_type": "markdown",
   "id": "ab9b4877",
   "metadata": {},
   "source": [
    "### Analýza datasetu"
   ]
  },
  {
   "attachments": {},
   "cell_type": "markdown",
   "id": "d57171df",
   "metadata": {},
   "source": [
    "### Vyšetření chybějících a odlehlých hodnot"
   ]
  },
  {
   "attachments": {},
   "cell_type": "markdown",
   "id": "ef8b51aa",
   "metadata": {},
   "source": [
    "### Úpravy datasetu"
   ]
  },
  {
   "cell_type": "code",
   "execution_count": 47,
   "id": "d78bd1cb",
   "metadata": {},
   "outputs": [],
   "source": [
    "def transform_class(x):\n",
    "    if type(x) == int:\n",
    "        return x\n",
    "    if x == 'Employable':\n",
    "        return 1\n",
    "    return 0\n",
    "\n",
    "df[\"CLASS\"] = df[\"CLASS\"].apply(lambda x: transform_class(x))"
   ]
  },
  {
   "cell_type": "code",
   "execution_count": 52,
   "id": "77c89935",
   "metadata": {},
   "outputs": [],
   "source": [
    "df.drop(\"Name of Student\", axis=1, inplace=True)"
   ]
  },
  {
   "attachments": {},
   "cell_type": "markdown",
   "id": "a2c13ba1",
   "metadata": {},
   "source": [
    "### Příprava dat na trénování"
   ]
  },
  {
   "attachments": {},
   "cell_type": "markdown",
   "id": "92ea0ab2",
   "metadata": {},
   "source": [
    "# Model"
   ]
  },
  {
   "attachments": {},
   "cell_type": "markdown",
   "id": "c9a18bf6",
   "metadata": {},
   "source": [
    "### Zvolení modelu"
   ]
  },
  {
   "attachments": {},
   "cell_type": "markdown",
   "id": "6867b2d4",
   "metadata": {},
   "source": [
    "### Zvolení hyperparametrů"
   ]
  },
  {
   "attachments": {},
   "cell_type": "markdown",
   "id": "bf75bcd4",
   "metadata": {},
   "source": [
    "### Zvolení ztrátové funkce"
   ]
  },
  {
   "attachments": {},
   "cell_type": "markdown",
   "id": "f360c0f5",
   "metadata": {},
   "source": [
    "### Natrénování modelu"
   ]
  },
  {
   "attachments": {},
   "cell_type": "markdown",
   "id": "10843c46",
   "metadata": {},
   "source": [
    "### Diskuse nad kombinacemi hyperparametrů"
   ]
  },
  {
   "attachments": {},
   "cell_type": "markdown",
   "id": "e9eac93f",
   "metadata": {},
   "source": [
    "### Vizualizace rozhodovací hranice u nejlepšího modelu"
   ]
  },
  {
   "attachments": {},
   "cell_type": "markdown",
   "id": "96a7a62c",
   "metadata": {},
   "source": [
    "### Vizualizace úspěšnosti modelu"
   ]
  }
 ],
 "metadata": {
  "kernelspec": {
   "display_name": "viz",
   "language": "python",
   "name": "python3"
  },
  "language_info": {
   "codemirror_mode": {
    "name": "ipython",
    "version": 3
   },
   "file_extension": ".py",
   "mimetype": "text/x-python",
   "name": "python",
   "nbconvert_exporter": "python",
   "pygments_lexer": "ipython3",
   "version": "3.8.2"
  },
  "vscode": {
   "interpreter": {
    "hash": "eac76d97b6aa07c19f0fade987efcda5015d420dce522a7c6821189df89fee72"
   }
  }
 },
 "nbformat": 4,
 "nbformat_minor": 5
}
