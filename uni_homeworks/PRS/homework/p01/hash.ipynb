{
 "cells": [
  {
   "cell_type": "code",
   "execution_count": null,
   "metadata": {
    "vscode": {
     "languageId": "r"
    }
   },
   "outputs": [],
   "source": [
    "def hash(day, name):\n",
    "    K = day\n",
    "    L = len(name)\n",
    "    return ((K + L)*47) % 11 + 1\n"
   ]
  },
  {
   "cell_type": "code",
   "execution_count": null,
   "metadata": {
    "vscode": {
     "languageId": "r"
    }
   },
   "outputs": [
    {
     "name": "stdout",
     "output_type": "stream",
     "text": [
      "Beneš: 6\n",
      "Fiedler: 7\n",
      "Novotný: 1\n"
     ]
    }
   ],
   "source": [
    "print(\"Beneš:\", hash(26, \"Beneš\"))\n",
    "print(\"Fiedler:\", hash(28, \"Fiedler\"))\n",
    "print(\"Novotný:\", hash(4, \"Novotný\"))"
   ]
  }
 ],
 "metadata": {
  "kernelspec": {
   "display_name": "R",
   "language": "R",
   "name": "ir"
  },
  "language_info": {
   "codemirror_mode": {
    "name": "ipython",
    "version": 3
   },
   "file_extension": ".py",
   "mimetype": "text/x-python",
   "name": "R",
   "nbconvert_exporter": "python",
   "pygments_lexer": "ipython3",
   "version": "3.10.6"
  },
  "orig_nbformat": 4,
  "vscode": {
   "interpreter": {
    "hash": "88fe0813658a993b42555d88d86d01eddb43e1be4742717f1c98783abf202e73"
   }
  }
 },
 "nbformat": 4,
 "nbformat_minor": 2
}
