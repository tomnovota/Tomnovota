{
 "cells": [
  {
   "attachments": {},
   "cell_type": "markdown",
   "metadata": {},
   "source": [
    "# Česká republika\n",
    "\n",
    "Vypracovali Tomáš Novotný, Martin Beneš a Petr Fiedler."
   ]
  },
  {
   "attachments": {},
   "cell_type": "markdown",
   "metadata": {},
   "source": [
    "## 0. Příprava dat"
   ]
  },
  {
   "cell_type": "code",
   "execution_count": 1,
   "metadata": {
    "vscode": {
     "languageId": "r"
    }
   },
   "outputs": [
    {
     "name": "stderr",
     "output_type": "stream",
     "text": [
      "Warning message in system(\"timedatectl\", intern = TRUE):\n",
      "“running command 'timedatectl' had status 1”\n",
      "\n",
      "Attaching package: ‘dplyr’\n",
      "\n",
      "\n",
      "The following objects are masked from ‘package:stats’:\n",
      "\n",
      "    filter, lag\n",
      "\n",
      "\n",
      "The following objects are masked from ‘package:base’:\n",
      "\n",
      "    intersect, setdiff, setequal, union\n",
      "\n",
      "\n"
     ]
    }
   ],
   "source": [
    "library(eurostat)\n",
    "library(dplyr)\n",
    "library(ggplot2)\n",
    "library(e1071)\n",
    "library(DescTools)"
   ]
  },
  {
   "cell_type": "code",
   "execution_count": 2,
   "metadata": {
    "vscode": {
     "languageId": "r"
    }
   },
   "outputs": [
    {
     "name": "stderr",
     "output_type": "stream",
     "text": [
      "Table demo_r_pjanaggr3 cached at /tmp/RtmpLMSw7l/eurostat/demo_r_pjanaggr3_date_code_FF.rds\n",
      "\n"
     ]
    },
    {
     "data": {
      "text/html": [
       "<table class=\"dataframe\">\n",
       "<caption>A tibble: 6 × 6</caption>\n",
       "<thead>\n",
       "\t<tr><th scope=col>unit</th><th scope=col>sex</th><th scope=col>age</th><th scope=col>geo</th><th scope=col>time</th><th scope=col>values</th></tr>\n",
       "\t<tr><th scope=col>&lt;chr&gt;</th><th scope=col>&lt;chr&gt;</th><th scope=col>&lt;chr&gt;</th><th scope=col>&lt;chr&gt;</th><th scope=col>&lt;date&gt;</th><th scope=col>&lt;dbl&gt;</th></tr>\n",
       "</thead>\n",
       "<tbody>\n",
       "\t<tr><td>NR</td><td>F</td><td>TOTAL </td><td>DE242</td><td>2012-01-01</td><td> 37168</td></tr>\n",
       "\t<tr><td>NR</td><td>F</td><td>UNK   </td><td>RO114</td><td>2013-01-01</td><td>     0</td></tr>\n",
       "\t<tr><td>NR</td><td>T</td><td>UNK   </td><td>UK   </td><td>2012-01-01</td><td>     0</td></tr>\n",
       "\t<tr><td>NR</td><td>M</td><td>Y_LT15</td><td>UKK1 </td><td>2010-01-01</td><td>204986</td></tr>\n",
       "\t<tr><td>NR</td><td>T</td><td>Y_GE65</td><td>FRI31</td><td>2014-01-01</td><td> 80328</td></tr>\n",
       "\t<tr><td>NR</td><td>T</td><td>Y_GE65</td><td>BE252</td><td>2016-01-01</td><td> 10328</td></tr>\n",
       "</tbody>\n",
       "</table>\n"
      ],
      "text/latex": [
       "A tibble: 6 × 6\n",
       "\\begin{tabular}{llllll}\n",
       " unit & sex & age & geo & time & values\\\\\n",
       " <chr> & <chr> & <chr> & <chr> & <date> & <dbl>\\\\\n",
       "\\hline\n",
       "\t NR & F & TOTAL  & DE242 & 2012-01-01 &  37168\\\\\n",
       "\t NR & F & UNK    & RO114 & 2013-01-01 &      0\\\\\n",
       "\t NR & T & UNK    & UK    & 2012-01-01 &      0\\\\\n",
       "\t NR & M & Y\\_LT15 & UKK1  & 2010-01-01 & 204986\\\\\n",
       "\t NR & T & Y\\_GE65 & FRI31 & 2014-01-01 &  80328\\\\\n",
       "\t NR & T & Y\\_GE65 & BE252 & 2016-01-01 &  10328\\\\\n",
       "\\end{tabular}\n"
      ],
      "text/markdown": [
       "\n",
       "A tibble: 6 × 6\n",
       "\n",
       "| unit &lt;chr&gt; | sex &lt;chr&gt; | age &lt;chr&gt; | geo &lt;chr&gt; | time &lt;date&gt; | values &lt;dbl&gt; |\n",
       "|---|---|---|---|---|---|\n",
       "| NR | F | TOTAL  | DE242 | 2012-01-01 |  37168 |\n",
       "| NR | F | UNK    | RO114 | 2013-01-01 |      0 |\n",
       "| NR | T | UNK    | UK    | 2012-01-01 |      0 |\n",
       "| NR | M | Y_LT15 | UKK1  | 2010-01-01 | 204986 |\n",
       "| NR | T | Y_GE65 | FRI31 | 2014-01-01 |  80328 |\n",
       "| NR | T | Y_GE65 | BE252 | 2016-01-01 |  10328 |\n",
       "\n"
      ],
      "text/plain": [
       "  unit sex age    geo   time       values\n",
       "1 NR   F   TOTAL  DE242 2012-01-01  37168\n",
       "2 NR   F   UNK    RO114 2013-01-01      0\n",
       "3 NR   T   UNK    UK    2012-01-01      0\n",
       "4 NR   M   Y_LT15 UKK1  2010-01-01 204986\n",
       "5 NR   T   Y_GE65 FRI31 2014-01-01  80328\n",
       "6 NR   T   Y_GE65 BE252 2016-01-01  10328"
      ]
     },
     "metadata": {},
     "output_type": "display_data"
    }
   ],
   "source": [
    "data <- get_eurostat(\"demo_r_pjanaggr3\")\n",
    "sample_n(data, 6)"
   ]
  },
  {
   "cell_type": "code",
   "execution_count": 3,
   "metadata": {
    "vscode": {
     "languageId": "r"
    }
   },
   "outputs": [
    {
     "data": {
      "text/html": [
       "<table class=\"dataframe\">\n",
       "<caption>A tibble: 6 × 6</caption>\n",
       "<thead>\n",
       "\t<tr><th scope=col>unit</th><th scope=col>sex</th><th scope=col>age</th><th scope=col>geo</th><th scope=col>time</th><th scope=col>values</th></tr>\n",
       "\t<tr><th scope=col>&lt;chr&gt;</th><th scope=col>&lt;chr&gt;</th><th scope=col>&lt;chr&gt;</th><th scope=col>&lt;chr&gt;</th><th scope=col>&lt;date&gt;</th><th scope=col>&lt;dbl&gt;</th></tr>\n",
       "</thead>\n",
       "<tbody>\n",
       "\t<tr><td>NR</td><td>M</td><td>UNK   </td><td>CZ020</td><td>2022-01-01</td><td>     0</td></tr>\n",
       "\t<tr><td>NR</td><td>F</td><td>Y_LT15</td><td>CZ010</td><td>2017-01-01</td><td> 94998</td></tr>\n",
       "\t<tr><td>NR</td><td>F</td><td>Y15-64</td><td>CZ051</td><td>2001-01-01</td><td>150608</td></tr>\n",
       "\t<tr><td>NR</td><td>F</td><td>Y_LT15</td><td>CZ064</td><td>2012-01-01</td><td> 81833</td></tr>\n",
       "\t<tr><td>NR</td><td>T</td><td>Y_GE65</td><td>CZ063</td><td>2010-01-01</td><td> 80087</td></tr>\n",
       "\t<tr><td>NR</td><td>T</td><td>Y15-64</td><td>CZ010</td><td>2005-01-01</td><td>832710</td></tr>\n",
       "</tbody>\n",
       "</table>\n"
      ],
      "text/latex": [
       "A tibble: 6 × 6\n",
       "\\begin{tabular}{llllll}\n",
       " unit & sex & age & geo & time & values\\\\\n",
       " <chr> & <chr> & <chr> & <chr> & <date> & <dbl>\\\\\n",
       "\\hline\n",
       "\t NR & M & UNK    & CZ020 & 2022-01-01 &      0\\\\\n",
       "\t NR & F & Y\\_LT15 & CZ010 & 2017-01-01 &  94998\\\\\n",
       "\t NR & F & Y15-64 & CZ051 & 2001-01-01 & 150608\\\\\n",
       "\t NR & F & Y\\_LT15 & CZ064 & 2012-01-01 &  81833\\\\\n",
       "\t NR & T & Y\\_GE65 & CZ063 & 2010-01-01 &  80087\\\\\n",
       "\t NR & T & Y15-64 & CZ010 & 2005-01-01 & 832710\\\\\n",
       "\\end{tabular}\n"
      ],
      "text/markdown": [
       "\n",
       "A tibble: 6 × 6\n",
       "\n",
       "| unit &lt;chr&gt; | sex &lt;chr&gt; | age &lt;chr&gt; | geo &lt;chr&gt; | time &lt;date&gt; | values &lt;dbl&gt; |\n",
       "|---|---|---|---|---|---|\n",
       "| NR | M | UNK    | CZ020 | 2022-01-01 |      0 |\n",
       "| NR | F | Y_LT15 | CZ010 | 2017-01-01 |  94998 |\n",
       "| NR | F | Y15-64 | CZ051 | 2001-01-01 | 150608 |\n",
       "| NR | F | Y_LT15 | CZ064 | 2012-01-01 |  81833 |\n",
       "| NR | T | Y_GE65 | CZ063 | 2010-01-01 |  80087 |\n",
       "| NR | T | Y15-64 | CZ010 | 2005-01-01 | 832710 |\n",
       "\n"
      ],
      "text/plain": [
       "  unit sex age    geo   time       values\n",
       "1 NR   M   UNK    CZ020 2022-01-01      0\n",
       "2 NR   F   Y_LT15 CZ010 2017-01-01  94998\n",
       "3 NR   F   Y15-64 CZ051 2001-01-01 150608\n",
       "4 NR   F   Y_LT15 CZ064 2012-01-01  81833\n",
       "5 NR   T   Y_GE65 CZ063 2010-01-01  80087\n",
       "6 NR   T   Y15-64 CZ010 2005-01-01 832710"
      ]
     },
     "metadata": {},
     "output_type": "display_data"
    }
   ],
   "source": [
    "nuts <- c(\"CZ010\", \"CZ020\", \"CZ031\", \"CZ032\", \"CZ041\", \"CZ042\", \"CZ051\", \"CZ052\", \"CZ053\", \"CZ063\", \"CZ064\", \"CZ071\", \"CZ072\", \"CZ080\")\n",
    "data <- data[data$geo %in% nuts,]\n",
    "sample_n(data, 6)"
   ]
  },
  {
   "cell_type": "code",
   "execution_count": 4,
   "metadata": {
    "vscode": {
     "languageId": "r"
    }
   },
   "outputs": [
    {
     "name": "stdout",
     "output_type": "stream",
     "text": [
      "[1] \"Unique values in 'data':\"\n",
      "[1] \"NR\"\n",
      "[1] \"Unique values in 'sex':\"\n",
      "[1] \"F\" \"M\" \"T\"\n",
      "[1] \"Unique values in 'age':\"\n",
      "[1] \"TOTAL\"  \"UNK\"    \"Y15-64\" \"Y_GE65\" \"Y_LT15\"\n",
      "[1] \"Unique values in 'time':\"\n",
      " [1] \"2022-01-01\" \"2021-01-01\" \"2020-01-01\" \"2019-01-01\" \"2018-01-01\"\n",
      " [6] \"2017-01-01\" \"2016-01-01\" \"2015-01-01\" \"2014-01-01\" \"2013-01-01\"\n",
      "[11] \"2012-01-01\" \"2011-01-01\" \"2010-01-01\" \"2009-01-01\" \"2008-01-01\"\n",
      "[16] \"2007-01-01\" \"2006-01-01\" \"2005-01-01\" \"2004-01-01\" \"2003-01-01\"\n",
      "[21] \"2002-01-01\" \"2001-01-01\" \"2000-01-01\" \"1993-01-01\" \"1992-01-01\"\n"
     ]
    }
   ],
   "source": [
    "print(\"Unique values in 'data':\")\n",
    "print(unique(data$unit))\n",
    "print(\"Unique values in 'sex':\")\n",
    "print(unique(data$sex))\n",
    "print(\"Unique values in 'age':\")\n",
    "print(unique(data$age))\n",
    "print(\"Unique values in 'time':\")\n",
    "print(unique(data$time))"
   ]
  },
  {
   "cell_type": "code",
   "execution_count": 5,
   "metadata": {
    "vscode": {
     "languageId": "r"
    }
   },
   "outputs": [
    {
     "data": {
      "text/html": [
       "<table class=\"dataframe\">\n",
       "<caption>A tibble: 10 × 3</caption>\n",
       "<thead>\n",
       "\t<tr><th scope=col>sex</th><th scope=col>geo</th><th scope=col>values</th></tr>\n",
       "\t<tr><th scope=col>&lt;fct&gt;</th><th scope=col>&lt;fct&gt;</th><th scope=col>&lt;dbl&gt;</th></tr>\n",
       "</thead>\n",
       "<tbody>\n",
       "\t<tr><td>Females</td><td>Královéhradecký kraj</td><td>279123</td></tr>\n",
       "\t<tr><td>Females</td><td>Plzenský kraj       </td><td>297223</td></tr>\n",
       "\t<tr><td>Females</td><td>Olomoucký kraj      </td><td>321804</td></tr>\n",
       "\t<tr><td>Females</td><td>Jihocecký kraj      </td><td>325503</td></tr>\n",
       "\t<tr><td>Males  </td><td>Ústecký kraj        </td><td>405277</td></tr>\n",
       "\t<tr><td>Males  </td><td>Královéhradecký kraj</td><td>271680</td></tr>\n",
       "\t<tr><td>Females</td><td>Pardubický kraj     </td><td>263067</td></tr>\n",
       "\t<tr><td>Males  </td><td>Kraj Vysocina       </td><td>253153</td></tr>\n",
       "\t<tr><td>Females</td><td>Karlovarský kraj    </td><td>148298</td></tr>\n",
       "\t<tr><td>Females</td><td>Jihomoravský kraj   </td><td>607865</td></tr>\n",
       "</tbody>\n",
       "</table>\n"
      ],
      "text/latex": [
       "A tibble: 10 × 3\n",
       "\\begin{tabular}{lll}\n",
       " sex & geo & values\\\\\n",
       " <fct> & <fct> & <dbl>\\\\\n",
       "\\hline\n",
       "\t Females & Královéhradecký kraj & 279123\\\\\n",
       "\t Females & Plzenský kraj        & 297223\\\\\n",
       "\t Females & Olomoucký kraj       & 321804\\\\\n",
       "\t Females & Jihocecký kraj       & 325503\\\\\n",
       "\t Males   & Ústecký kraj         & 405277\\\\\n",
       "\t Males   & Královéhradecký kraj & 271680\\\\\n",
       "\t Females & Pardubický kraj      & 263067\\\\\n",
       "\t Males   & Kraj Vysocina        & 253153\\\\\n",
       "\t Females & Karlovarský kraj     & 148298\\\\\n",
       "\t Females & Jihomoravský kraj    & 607865\\\\\n",
       "\\end{tabular}\n"
      ],
      "text/markdown": [
       "\n",
       "A tibble: 10 × 3\n",
       "\n",
       "| sex &lt;fct&gt; | geo &lt;fct&gt; | values &lt;dbl&gt; |\n",
       "|---|---|---|\n",
       "| Females | Královéhradecký kraj | 279123 |\n",
       "| Females | Plzenský kraj        | 297223 |\n",
       "| Females | Olomoucký kraj       | 321804 |\n",
       "| Females | Jihocecký kraj       | 325503 |\n",
       "| Males   | Ústecký kraj         | 405277 |\n",
       "| Males   | Královéhradecký kraj | 271680 |\n",
       "| Females | Pardubický kraj      | 263067 |\n",
       "| Males   | Kraj Vysocina        | 253153 |\n",
       "| Females | Karlovarský kraj     | 148298 |\n",
       "| Females | Jihomoravský kraj    | 607865 |\n",
       "\n"
      ],
      "text/plain": [
       "   sex     geo                  values\n",
       "1  Females Královéhradecký kraj 279123\n",
       "2  Females Plzenský kraj        297223\n",
       "3  Females Olomoucký kraj       321804\n",
       "4  Females Jihocecký kraj       325503\n",
       "5  Males   Ústecký kraj         405277\n",
       "6  Males   Královéhradecký kraj 271680\n",
       "7  Females Pardubický kraj      263067\n",
       "8  Males   Kraj Vysocina        253153\n",
       "9  Females Karlovarský kraj     148298\n",
       "10 Females Jihomoravský kraj    607865"
      ]
     },
     "metadata": {},
     "output_type": "display_data"
    }
   ],
   "source": [
    "data$unit <- NULL\n",
    "data$geo <- as.factor(data$geo)\n",
    "\n",
    "data <- data[data$age == \"TOTAL\",]\n",
    "data$age <- NULL\n",
    "\n",
    "data <- data[data$time == '2021-01-01',]\n",
    "data$time <- NULL\n",
    "\n",
    "data <- data[data$sex %in% c(\"M\", \"F\"),]\n",
    "data$sex <- as.factor(data$sex)\n",
    "\n",
    "data <- label_eurostat(data)\n",
    "\n",
    "sample_n(data, 10)"
   ]
  },
  {
   "cell_type": "code",
   "execution_count": 6,
   "metadata": {
    "vscode": {
     "languageId": "r"
    }
   },
   "outputs": [
    {
     "data": {
      "text/html": [
       "<table class=\"dataframe\">\n",
       "<caption>A tibble: 10 × 3</caption>\n",
       "<thead>\n",
       "\t<tr><th scope=col>region</th><th scope=col>sex</th><th scope=col>population</th></tr>\n",
       "\t<tr><th scope=col>&lt;fct&gt;</th><th scope=col>&lt;fct&gt;</th><th scope=col>&lt;dbl&gt;</th></tr>\n",
       "</thead>\n",
       "<tbody>\n",
       "\t<tr><td>Liberecký kraj      </td><td>Males  </td><td>217847</td></tr>\n",
       "\t<tr><td>Pardubický kraj     </td><td>Males  </td><td>259789</td></tr>\n",
       "\t<tr><td>Královéhradecký kraj</td><td>Females</td><td>279123</td></tr>\n",
       "\t<tr><td>Jihomoravský kraj   </td><td>Females</td><td>607865</td></tr>\n",
       "\t<tr><td>Jihocecký kraj      </td><td>Females</td><td>325503</td></tr>\n",
       "\t<tr><td>Ústecký kraj        </td><td>Females</td><td>411727</td></tr>\n",
       "\t<tr><td>Hlavní mesto Praha  </td><td>Males  </td><td>653654</td></tr>\n",
       "\t<tr><td>Moravskoslezský kraj</td><td>Males  </td><td>584073</td></tr>\n",
       "\t<tr><td>Kraj Vysocina       </td><td>Females</td><td>255699</td></tr>\n",
       "\t<tr><td>Jihocecký kraj      </td><td>Males  </td><td>318048</td></tr>\n",
       "</tbody>\n",
       "</table>\n"
      ],
      "text/latex": [
       "A tibble: 10 × 3\n",
       "\\begin{tabular}{lll}\n",
       " region & sex & population\\\\\n",
       " <fct> & <fct> & <dbl>\\\\\n",
       "\\hline\n",
       "\t Liberecký kraj       & Males   & 217847\\\\\n",
       "\t Pardubický kraj      & Males   & 259789\\\\\n",
       "\t Královéhradecký kraj & Females & 279123\\\\\n",
       "\t Jihomoravský kraj    & Females & 607865\\\\\n",
       "\t Jihocecký kraj       & Females & 325503\\\\\n",
       "\t Ústecký kraj         & Females & 411727\\\\\n",
       "\t Hlavní mesto Praha   & Males   & 653654\\\\\n",
       "\t Moravskoslezský kraj & Males   & 584073\\\\\n",
       "\t Kraj Vysocina        & Females & 255699\\\\\n",
       "\t Jihocecký kraj       & Males   & 318048\\\\\n",
       "\\end{tabular}\n"
      ],
      "text/markdown": [
       "\n",
       "A tibble: 10 × 3\n",
       "\n",
       "| region &lt;fct&gt; | sex &lt;fct&gt; | population &lt;dbl&gt; |\n",
       "|---|---|---|\n",
       "| Liberecký kraj       | Males   | 217847 |\n",
       "| Pardubický kraj      | Males   | 259789 |\n",
       "| Královéhradecký kraj | Females | 279123 |\n",
       "| Jihomoravský kraj    | Females | 607865 |\n",
       "| Jihocecký kraj       | Females | 325503 |\n",
       "| Ústecký kraj         | Females | 411727 |\n",
       "| Hlavní mesto Praha   | Males   | 653654 |\n",
       "| Moravskoslezský kraj | Males   | 584073 |\n",
       "| Kraj Vysocina        | Females | 255699 |\n",
       "| Jihocecký kraj       | Males   | 318048 |\n",
       "\n"
      ],
      "text/plain": [
       "   region               sex     population\n",
       "1  Liberecký kraj       Males   217847    \n",
       "2  Pardubický kraj      Males   259789    \n",
       "3  Královéhradecký kraj Females 279123    \n",
       "4  Jihomoravský kraj    Females 607865    \n",
       "5  Jihocecký kraj       Females 325503    \n",
       "6  Ústecký kraj         Females 411727    \n",
       "7  Hlavní mesto Praha   Males   653654    \n",
       "8  Moravskoslezský kraj Males   584073    \n",
       "9  Kraj Vysocina        Females 255699    \n",
       "10 Jihocecký kraj       Males   318048    "
      ]
     },
     "metadata": {},
     "output_type": "display_data"
    }
   ],
   "source": [
    "data$region <- data$geo\n",
    "data$geo <- NULL\n",
    "\n",
    "data$population <- data$values\n",
    "data$values <- NULL\n",
    "\n",
    "data <- data[, c(2, 1, 3)]\n",
    "\n",
    "sample_n(data, 10)"
   ]
  },
  {
   "attachments": {},
   "cell_type": "markdown",
   "metadata": {},
   "source": [
    "## 1. Základní statistická šetření\n",
    "\n",
    "### Popis dat\n",
    "\n",
    "Data obsahují informace o počtech obyvatel v jednotlivých krajích České republiky vázaných k roku 2021, přičemž rozlišujeme muže a ženy.\n",
    "\n",
    "Nejprve se podíváme na data jako celek. Budeme tedy zkoumat jednotlivé záznamy o populaci napříč kraji a pohlavími."
   ]
  },
  {
   "attachments": {},
   "cell_type": "markdown",
   "metadata": {},
   "source": [
    "### Základní statistické míry\n",
    "\n",
    "Vypíšeme nejdůležitější statistické míry:"
   ]
  },
  {
   "cell_type": "code",
   "execution_count": 7,
   "metadata": {
    "vscode": {
     "languageId": "r"
    }
   },
   "outputs": [
    {
     "data": {
      "text/plain": [
       "                region        sex       population    \n",
       " Hlavní mesto Praha: 2   Females:14   Min.   :145013  \n",
       " Stredoceský kraj  : 2   Males  :14   1st Qu.:262248  \n",
       " Jihocecký kraj    : 2                Median :302970  \n",
       " Plzenský kraj     : 2                Mean   :382206  \n",
       " Karlovarský kraj  : 2                3rd Qu.:584920  \n",
       " Ústecký kraj      : 2                Max.   :706011  \n",
       " (Other)           :16                                "
      ]
     },
     "metadata": {},
     "output_type": "display_data"
    }
   ],
   "source": [
    "summary(data)"
   ]
  },
  {
   "attachments": {},
   "cell_type": "markdown",
   "metadata": {},
   "source": [
    "- Jak bylo očekáváno, máme 14 krajů a ke každému kraji máme 2 záznamy - jeden pro muže a druhý pro ženy.\n",
    "- Již z počátečních statistik lze pozorovat, že 25 % hodnot počtu obyvatel se nachází v relativně malém intervalu ~260 000 - ~300 000 obyvatel.\n",
    "- Je překvapivé, že počty obyvatel mužů nebo žen v rámci krajů se pohybují mezi ~150 000 až do ~700 000.\n",
    "- Medián je nižší než průměr o ~80 000, můžeme tedy očekávat odlehlé hodnoty, které nám \"odsouvají\" průměr."
   ]
  },
  {
   "attachments": {},
   "cell_type": "markdown",
   "metadata": {},
   "source": [
    "Další statistiky:"
   ]
  },
  {
   "cell_type": "code",
   "execution_count": 8,
   "metadata": {
    "vscode": {
     "languageId": "r"
    }
   },
   "outputs": [
    {
     "name": "stdout",
     "output_type": "stream",
     "text": [
      "[1] \"výběrová směrodatná odchylka: 177066.74\"\n",
      "[1] \"rozpětí: 560998\"\n",
      "[1] \"mezikvartilové rozpětí: 322672.75\"\n",
      "[1] \"výběrová šikmost: 0.66\"\n",
      "[1] \"výběrová špičatost: -1.13\"\n"
     ]
    }
   ],
   "source": [
    "print(paste(\"výběrová směrodatná odchylka:\", round(sd(data$population), 2)))\n",
    "print(paste(\"rozpětí:\", max(data$population) - min(data$population)))\n",
    "print(paste(\"mezikvartilové rozpětí:\", IQR(data$population)))\n",
    "print(paste(\"výběrová šikmost:\", round(skewness(data$population), 2)))\n",
    "print(paste(\"výběrová špičatost:\", round(kurtosis(data$population), 2)))"
   ]
  },
  {
   "attachments": {},
   "cell_type": "markdown",
   "metadata": {},
   "source": [
    "- Směrodatná odchylka je ~175 000, data jsou tedy očekávatelně rozptýlena kolem střední hodnoty.\n",
    "\n",
    "- Mezikvartilové rozpětí je přibližně poloviční oproti celkovému rozpětí. To znamená, že prostřední polovina dat má přibližně poloviční rozpětí oproti všem datům.\n",
    "\n",
    "- Pozorujeme poměrně výraznou šikmost doprava, to znamená, že nižší hodnoty dat jsou četnější než vyšší.\n",
    "\n",
    "- Výběrová špičatost je záporná, data jsou tedy \"naploštělá\".\n",
    "\n",
    "Data dále prozkoumáme také pomocí grafů, což nám umožní jim lépe porozumět."
   ]
  },
  {
   "attachments": {},
   "cell_type": "markdown",
   "metadata": {},
   "source": [
    "### Histogram\n",
    "\n",
    "Abychom lépe porozuměli rozložení hodnot, vykreslíme histogram."
   ]
  },
  {
   "cell_type": "code",
   "execution_count": 9,
   "metadata": {
    "vscode": {
     "languageId": "r"
    }
   },
   "outputs": [
    {
     "data": {
      "image/png": "[encoded data removed]",
      "text/plain": [
       "Plot with title “Histogram of population”"
      ]
     },
     "metadata": {
      "image/png": {
       "height": 420,
       "width": 600
      }
     },
     "output_type": "display_data"
    }
   ],
   "source": [
    "options(repr.plot.width=10, repr.plot.height=7, scipen=5)\n",
    "hist(data$population, main=\"Histogram of population\", xlab=\"Population\", ylab=\"Frequency\")"
   ]
  },
  {
   "attachments": {},
   "cell_type": "markdown",
   "metadata": {},
   "source": [
    "Opět se potvrzuje naše pozorování, že hodnoty jsou nahuštěny mezi 200 000 a 300 000. Dále pozorujeme \"peak\" mezi 600 000 a 700 000. Očekáváme tedy 2 mody: nejvyšší modus ~250 000 a druhý ~650 000."
   ]
  },
  {
   "attachments": {},
   "cell_type": "markdown",
   "metadata": {},
   "source": [
    "### Boxplot\n",
    "\n",
    "Nyní vykreslíme krabicový graf, který nám poskytne další náhled na data."
   ]
  },
  {
   "cell_type": "code",
   "execution_count": 10,
   "metadata": {
    "vscode": {
     "languageId": "r"
    }
   },
   "outputs": [
    {
     "data": {
      "image/png": "[encoded data removed]",
      "text/plain": [
       "Plot with title “Boxplot of population”"
      ]
     },
     "metadata": {
      "image/png": {
       "height": 420,
       "width": 600
      }
     },
     "output_type": "display_data"
    }
   ],
   "source": [
    "boxplot(data$population, main=\"Boxplot of population\", horizontal=TRUE)"
   ]
  },
  {
   "attachments": {},
   "cell_type": "markdown",
   "metadata": {},
   "source": [
    "Vidíme, že medián je velmi blízko prvnímu kvartilu. Nepozorujeme odlehlé hodnoty."
   ]
  },
  {
   "attachments": {},
   "cell_type": "markdown",
   "metadata": {},
   "source": [
    "### Porovnání mezi pohlavími\n",
    "\n",
    "Nyní se podíváme, jestli (a případně jaký) je rozdíl v datech mezi pohlavími."
   ]
  },
  {
   "attachments": {},
   "cell_type": "markdown",
   "metadata": {},
   "source": [
    "Nejprve vykreslíme histogramy zvlášť pro obě pohlaví."
   ]
  },
  {
   "cell_type": "code",
   "execution_count": 11,
   "metadata": {
    "vscode": {
     "languageId": "r"
    }
   },
   "outputs": [
    {
     "data": {
      "image/png": "[encoded data removed]",
      "text/plain": [
       "Plot with title “Female population”"
      ]
     },
     "metadata": {
      "image/png": {
       "height": 420,
       "width": 600
      }
     },
     "output_type": "display_data"
    },
    {
     "data": {
      "image/png": "[encoded data removed]",
      "text/plain": [
       "Plot with title “Male population”"
      ]
     },
     "metadata": {
      "image/png": {
       "height": 420,
       "width": 600
      }
     },
     "output_type": "display_data"
    }
   ],
   "source": [
    "hist(subset(data, sex == \"Females\")$population, main=\"Female population\", xlab=\"Population\", ylab=\"Frequency\", col=\"pink\")\n",
    "hist(subset(data, sex == \"Males\")$population, main=\"Male population\", xlab=\"Population\", ylab=\"Frequency\", col=\"lightblue\")"
   ]
  },
  {
   "attachments": {},
   "cell_type": "markdown",
   "metadata": {},
   "source": [
    "Vidíme, že jsou histogramy podobné. U datových bodů s vyšší populací lze pozorovat drobné rozdíly v četnosti.\n",
    "\n",
    "Podíváme se ještě na violin ploty a boxploty."
   ]
  },
  {
   "cell_type": "code",
   "execution_count": 12,
   "metadata": {
    "vscode": {
     "languageId": "r"
    }
   },
   "outputs": [
    {
     "data": {
      "image/png": "[encoded data removed]",
      "text/plain": [
       "plot without title"
      ]
     },
     "metadata": {
      "image/png": {
       "height": 420,
       "width": 600
      }
     },
     "output_type": "display_data"
    }
   ],
   "source": [
    "ggplot(data, aes(x=population, y=sex)) +\n",
    "    geom_violin(fill=\"lightblue\", alpha=0.5) +\n",
    "    geom_boxplot(width=0.1, fill=\"blue\", alpha=0.5)"
   ]
  },
  {
   "attachments": {},
   "cell_type": "markdown",
   "metadata": {},
   "source": [
    "Okometricky se zdají hodnoty obou skupin velice podobně rozložené. Nepozorujeme tedy značný populační rozdíl mezi muži a ženami. To později také ověříme testem."
   ]
  },
  {
   "attachments": {},
   "cell_type": "markdown",
   "metadata": {},
   "source": [
    "### Vizualizace populace jednotlivých krajů\n",
    "\n",
    "Vizualizujeme počet obyvatel (mužů i žen dohromady) v jednotlivých krajích."
   ]
  },
  {
   "cell_type": "code",
   "execution_count": 13,
   "metadata": {
    "vscode": {
     "languageId": "r"
    }
   },
   "outputs": [
    {
     "data": {
      "image/png": "[encoded data removed]",
      "text/plain": [
       "plot without title"
      ]
     },
     "metadata": {
      "image/png": {
       "height": 420,
       "width": 1200
      }
     },
     "output_type": "display_data"
    }
   ],
   "source": [
    "options(repr.plot.width=20, repr.plot.height=7)\n",
    "ggplot(data, aes(x=reorder(region, -population), y=population)) +\n",
    "    geom_bar(stat=\"identity\", fill=\"blue\", alpha=.5) +\n",
    "    scale_y_continuous(breaks=pretty(2*data$population, 5)) +\n",
    "    labs(x=\"Region\", y=\"Population\", title=\"Population by region\")"
   ]
  },
  {
   "attachments": {},
   "cell_type": "markdown",
   "metadata": {},
   "source": [
    "Vidíme, že počty obyvatel v jednotlivých krajích se značně liší. Rozdíl mezi Středočeským a Karlovarským krajem je více než 100 000 obyvatel."
   ]
  },
  {
   "attachments": {},
   "cell_type": "markdown",
   "metadata": {},
   "source": [
    "## 2. Hypotézy"
   ]
  },
  {
   "attachments": {},
   "cell_type": "markdown",
   "metadata": {},
   "source": [
    "### 2.1 Shodnost distribucí počtu obyvatel v rámci krajů u mužů a žen\n",
    "\n",
    "Když jsme porovnávali muže a ženy při průzkumu dat, dokázali jsme shodu posoudit pouze vizuálně. Naše pozorování tedy nyní podpoříme testem.\n",
    "\n",
    "Označíme $F_M$ distribuční funkci spojitého rozdělení, ze kterého pochází výběr mužů a $F_F$ distribuční funkci spojitého rozdělení, ze kterého pochází výběr žen.\n",
    "\n",
    "Testujeme hypotézy:\n",
    "\n",
    "- $H_0$: $F_M = F_F$\n",
    "- $H_A$: $F_M \\ne F_F$\n",
    "\n",
    "K testu shody distribucí použijeme Mannův-Whitneyúv test. Tento test je sice poněkud citlivý na posun a odchylky ve tvaru, avšak z vizualizací se tyto rozdíly nezdály příliš patrné."
   ]
  },
  {
   "cell_type": "code",
   "execution_count": 14,
   "metadata": {
    "vscode": {
     "languageId": "r"
    }
   },
   "outputs": [
    {
     "data": {
      "text/plain": [
       "\n",
       "\tWilcoxon rank sum exact test\n",
       "\n",
       "data:  population by sex\n",
       "W = 108, p-value = 0.6673\n",
       "alternative hypothesis: true location shift is not equal to 0\n"
      ]
     },
     "metadata": {},
     "output_type": "display_data"
    }
   ],
   "source": [
    "wilcox.test(population ~ sex, data = data)"
   ]
  },
  {
   "cell_type": "markdown",
   "metadata": {},
   "source": [
    "Vyšla p-hodnota vyšší než 0.05. Nulovou hypotézu na standardní hladině významnosti nezamítáme.\n",
    "\n",
    "Můžeme se tedy domnívat, že populace napříč kraji se u žen a mužů příliš neliší."
   ]
  },
  {
   "attachments": {},
   "cell_type": "markdown",
   "metadata": {},
   "source": [
    "### 2.2 Rovnost mediánu počtu obyvatel NUTS 3 regionů v ČR vůči EU"
   ]
  },
  {
   "attachments": {},
   "cell_type": "markdown",
   "metadata": {},
   "source": [
    "Při průzkumu dat jsme zjistili, že data jsou nahuštěná mezi 200 000 a 300 000.\n",
    "Nabízí se otázka, zda je podobný trend pozorovatelný i v rámci celé EU.\n",
    "\n",
    "To otestujeme pomocí _jednovýběrového Wilcoxonova znaménkového testu_.\n",
    "Budeme testovat, zda je medián českých dat shodný s mediánem pro EU.\n",
    "\n",
    ">Poznámka: Nejprve jsme se snažili otestovat shodu střední hodnoty, ale všechny námi známé dvouvýběrové testy střední hodnoty předpokládaly normalitu, kterou jsme na základě Shapirova-Wilkova testu zamítli.\n",
    "\n",
    "Začněme načtením všech NUTS 3 regionů v EU."
   ]
  },
  {
   "cell_type": "code",
   "execution_count": 15,
   "metadata": {
    "vscode": {
     "languageId": "r"
    }
   },
   "outputs": [
    {
     "name": "stderr",
     "output_type": "stream",
     "text": [
      "Reading cache file /tmp/RtmpLMSw7l/eurostat/demo_r_pjanaggr3_date_code_FF.rds\n",
      "\n",
      "Table  demo_r_pjanaggr3  read from cache file:  /tmp/RtmpLMSw7l/eurostat/demo_r_pjanaggr3_date_code_FF.rds\n",
      "\n"
     ]
    },
    {
     "data": {
      "text/html": [
       "<table class=\"dataframe\">\n",
       "<caption>A tibble: 6 × 6</caption>\n",
       "<thead>\n",
       "\t<tr><th scope=col>unit</th><th scope=col>sex</th><th scope=col>age</th><th scope=col>geo</th><th scope=col>time</th><th scope=col>values</th></tr>\n",
       "\t<tr><th scope=col>&lt;chr&gt;</th><th scope=col>&lt;chr&gt;</th><th scope=col>&lt;chr&gt;</th><th scope=col>&lt;chr&gt;</th><th scope=col>&lt;date&gt;</th><th scope=col>&lt;dbl&gt;</th></tr>\n",
       "</thead>\n",
       "<tbody>\n",
       "\t<tr><td>NR</td><td>T</td><td>TOTAL</td><td>AL011</td><td>2021-01-01</td><td>113683</td></tr>\n",
       "\t<tr><td>NR</td><td>T</td><td>TOTAL</td><td>AL012</td><td>2021-01-01</td><td>292029</td></tr>\n",
       "\t<tr><td>NR</td><td>T</td><td>TOTAL</td><td>AL013</td><td>2021-01-01</td><td> 74388</td></tr>\n",
       "\t<tr><td>NR</td><td>T</td><td>TOTAL</td><td>AL014</td><td>2021-01-01</td><td>120678</td></tr>\n",
       "\t<tr><td>NR</td><td>T</td><td>TOTAL</td><td>AL015</td><td>2021-01-01</td><td>197177</td></tr>\n",
       "\t<tr><td>NR</td><td>T</td><td>TOTAL</td><td>AL021</td><td>2021-01-01</td><td>266245</td></tr>\n",
       "</tbody>\n",
       "</table>\n"
      ],
      "text/latex": [
       "A tibble: 6 × 6\n",
       "\\begin{tabular}{llllll}\n",
       " unit & sex & age & geo & time & values\\\\\n",
       " <chr> & <chr> & <chr> & <chr> & <date> & <dbl>\\\\\n",
       "\\hline\n",
       "\t NR & T & TOTAL & AL011 & 2021-01-01 & 113683\\\\\n",
       "\t NR & T & TOTAL & AL012 & 2021-01-01 & 292029\\\\\n",
       "\t NR & T & TOTAL & AL013 & 2021-01-01 &  74388\\\\\n",
       "\t NR & T & TOTAL & AL014 & 2021-01-01 & 120678\\\\\n",
       "\t NR & T & TOTAL & AL015 & 2021-01-01 & 197177\\\\\n",
       "\t NR & T & TOTAL & AL021 & 2021-01-01 & 266245\\\\\n",
       "\\end{tabular}\n"
      ],
      "text/markdown": [
       "\n",
       "A tibble: 6 × 6\n",
       "\n",
       "| unit &lt;chr&gt; | sex &lt;chr&gt; | age &lt;chr&gt; | geo &lt;chr&gt; | time &lt;date&gt; | values &lt;dbl&gt; |\n",
       "|---|---|---|---|---|---|\n",
       "| NR | T | TOTAL | AL011 | 2021-01-01 | 113683 |\n",
       "| NR | T | TOTAL | AL012 | 2021-01-01 | 292029 |\n",
       "| NR | T | TOTAL | AL013 | 2021-01-01 |  74388 |\n",
       "| NR | T | TOTAL | AL014 | 2021-01-01 | 120678 |\n",
       "| NR | T | TOTAL | AL015 | 2021-01-01 | 197177 |\n",
       "| NR | T | TOTAL | AL021 | 2021-01-01 | 266245 |\n",
       "\n"
      ],
      "text/plain": [
       "  unit sex age   geo   time       values\n",
       "1 NR   T   TOTAL AL011 2021-01-01 113683\n",
       "2 NR   T   TOTAL AL012 2021-01-01 292029\n",
       "3 NR   T   TOTAL AL013 2021-01-01  74388\n",
       "4 NR   T   TOTAL AL014 2021-01-01 120678\n",
       "5 NR   T   TOTAL AL015 2021-01-01 197177\n",
       "6 NR   T   TOTAL AL021 2021-01-01 266245"
      ]
     },
     "metadata": {},
     "output_type": "display_data"
    }
   ],
   "source": [
    "eu.data <- get_eurostat(\"demo_r_pjanaggr3\")\n",
    "# NUTS 3 regiony maji 5 znaku:\n",
    "#   prvni    2 cislice slouzi k identifikaci statu,\n",
    "#   posledni 3 cislice k identifikaci NUTS 3 regionu\n",
    "eu.data <- filter(eu.data, nchar(geo) == 5)\n",
    "eu.data <- eu.data[eu.data$age == \"TOTAL\",]\n",
    "eu.data <- eu.data[eu.data$time == '2021-01-01',]\n",
    "eu.data <- eu.data[eu.data$sex == \"T\",] # TOTAL\n",
    "\n",
    "head(eu.data)"
   ]
  },
  {
   "attachments": {},
   "cell_type": "markdown",
   "metadata": {},
   "source": [
    "Z dat vypočtěme medián."
   ]
  },
  {
   "cell_type": "code",
   "execution_count": 16,
   "metadata": {
    "vscode": {
     "languageId": "r"
    }
   },
   "outputs": [
    {
     "data": {
      "text/html": [
       "259351"
      ],
      "text/latex": [
       "259351"
      ],
      "text/markdown": [
       "259351"
      ],
      "text/plain": [
       "[1] 259351"
      ]
     },
     "metadata": {},
     "output_type": "display_data"
    }
   ],
   "source": [
    "eu.median.population <- median(eu.data$values)\n",
    "round(eu.median.population)"
   ]
  },
  {
   "attachments": {},
   "cell_type": "markdown",
   "metadata": {},
   "source": [
    "Nyní nám zbývá dostat z našich dat celkový počet obyvatel v regionu (součet mužů a žen)."
   ]
  },
  {
   "cell_type": "code",
   "execution_count": 17,
   "metadata": {
    "vscode": {
     "languageId": "r"
    }
   },
   "outputs": [
    {
     "data": {
      "text/html": [
       "<table class=\"dataframe\">\n",
       "<caption>A data.frame: 14 × 2</caption>\n",
       "<thead>\n",
       "\t<tr><th scope=col>region</th><th scope=col>population</th></tr>\n",
       "\t<tr><th scope=col>&lt;fct&gt;</th><th scope=col>&lt;dbl&gt;</th></tr>\n",
       "</thead>\n",
       "<tbody>\n",
       "\t<tr><td>Hlavní mesto Praha  </td><td>1335084</td></tr>\n",
       "\t<tr><td>Stredoceský kraj    </td><td>1397997</td></tr>\n",
       "\t<tr><td>Jihocecký kraj      </td><td> 643551</td></tr>\n",
       "\t<tr><td>Plzenský kraj       </td><td> 591041</td></tr>\n",
       "\t<tr><td>Karlovarský kraj    </td><td> 293311</td></tr>\n",
       "\t<tr><td>Ústecký kraj        </td><td> 817004</td></tr>\n",
       "\t<tr><td>Liberecký kraj      </td><td> 442476</td></tr>\n",
       "\t<tr><td>Královéhradecký kraj</td><td> 550803</td></tr>\n",
       "\t<tr><td>Pardubický kraj     </td><td> 522856</td></tr>\n",
       "\t<tr><td>Kraj Vysocina       </td><td> 508852</td></tr>\n",
       "\t<tr><td>Jihomoravský kraj   </td><td>1195327</td></tr>\n",
       "\t<tr><td>Olomoucký kraj      </td><td> 630522</td></tr>\n",
       "\t<tr><td>Zlínský kraj        </td><td> 580119</td></tr>\n",
       "\t<tr><td>Moravskoslezský kraj</td><td>1192834</td></tr>\n",
       "</tbody>\n",
       "</table>\n"
      ],
      "text/latex": [
       "A data.frame: 14 × 2\n",
       "\\begin{tabular}{ll}\n",
       " region & population\\\\\n",
       " <fct> & <dbl>\\\\\n",
       "\\hline\n",
       "\t Hlavní mesto Praha   & 1335084\\\\\n",
       "\t Stredoceský kraj     & 1397997\\\\\n",
       "\t Jihocecký kraj       &  643551\\\\\n",
       "\t Plzenský kraj        &  591041\\\\\n",
       "\t Karlovarský kraj     &  293311\\\\\n",
       "\t Ústecký kraj         &  817004\\\\\n",
       "\t Liberecký kraj       &  442476\\\\\n",
       "\t Královéhradecký kraj &  550803\\\\\n",
       "\t Pardubický kraj      &  522856\\\\\n",
       "\t Kraj Vysocina        &  508852\\\\\n",
       "\t Jihomoravský kraj    & 1195327\\\\\n",
       "\t Olomoucký kraj       &  630522\\\\\n",
       "\t Zlínský kraj         &  580119\\\\\n",
       "\t Moravskoslezský kraj & 1192834\\\\\n",
       "\\end{tabular}\n"
      ],
      "text/markdown": [
       "\n",
       "A data.frame: 14 × 2\n",
       "\n",
       "| region &lt;fct&gt; | population &lt;dbl&gt; |\n",
       "|---|---|\n",
       "| Hlavní mesto Praha   | 1335084 |\n",
       "| Stredoceský kraj     | 1397997 |\n",
       "| Jihocecký kraj       |  643551 |\n",
       "| Plzenský kraj        |  591041 |\n",
       "| Karlovarský kraj     |  293311 |\n",
       "| Ústecký kraj         |  817004 |\n",
       "| Liberecký kraj       |  442476 |\n",
       "| Královéhradecký kraj |  550803 |\n",
       "| Pardubický kraj      |  522856 |\n",
       "| Kraj Vysocina        |  508852 |\n",
       "| Jihomoravský kraj    | 1195327 |\n",
       "| Olomoucký kraj       |  630522 |\n",
       "| Zlínský kraj         |  580119 |\n",
       "| Moravskoslezský kraj | 1192834 |\n",
       "\n"
      ],
      "text/plain": [
       "   region               population\n",
       "1  Hlavní mesto Praha   1335084   \n",
       "2  Stredoceský kraj     1397997   \n",
       "3  Jihocecký kraj        643551   \n",
       "4  Plzenský kraj         591041   \n",
       "5  Karlovarský kraj      293311   \n",
       "6  Ústecký kraj          817004   \n",
       "7  Liberecký kraj        442476   \n",
       "8  Královéhradecký kraj  550803   \n",
       "9  Pardubický kraj       522856   \n",
       "10 Kraj Vysocina         508852   \n",
       "11 Jihomoravský kraj    1195327   \n",
       "12 Olomoucký kraj        630522   \n",
       "13 Zlínský kraj          580119   \n",
       "14 Moravskoslezský kraj 1192834   "
      ]
     },
     "metadata": {},
     "output_type": "display_data"
    }
   ],
   "source": [
    "# add males and females to get total population in each region\n",
    "population.by.region <- aggregate(population ~ region, data = data, FUN = sum)\n",
    "population.by.region"
   ]
  },
  {
   "attachments": {},
   "cell_type": "markdown",
   "metadata": {},
   "source": [
    "A konečně můžeme provést _jednovýběrový Wilcoxonův znaménkový test_:\n",
    "\n",
    "Označme medián počtu obyvatel NUTS 3 regionu v ČR $\\tilde{x}$ a $x_0$ medián počtu obyvatel NUTS 3 regionu v EU. Testujeme hypotézu\n",
    "- $H_0$: $\\tilde{x} = x_0$\n",
    "- $H_A$: $\\tilde{x} \\ne x_0$"
   ]
  },
  {
   "cell_type": "code",
   "execution_count": 18,
   "metadata": {
    "vscode": {
     "languageId": "r"
    }
   },
   "outputs": [
    {
     "data": {
      "text/plain": [
       "\n",
       "\tWilcoxon signed rank exact test\n",
       "\n",
       "data:  population.by.region$population\n",
       "V = 105, p-value = 0.0001221\n",
       "alternative hypothesis: true location is not equal to 259351\n"
      ]
     },
     "metadata": {},
     "output_type": "display_data"
    }
   ],
   "source": [
    "wilcox.test(population.by.region$population, mu = eu.median.population)"
   ]
  },
  {
   "attachments": {},
   "cell_type": "markdown",
   "metadata": {},
   "source": [
    "_p-hodnota_ je menší než 0.05, na standardní hladině významnosti tedy **zamítáme** nulovou hypotézu ve prospěch alternativy."
   ]
  },
  {
   "attachments": {},
   "cell_type": "markdown",
   "metadata": {},
   "source": [
    "### 2.3 Hypotéza zda má populace v regionech na Slovensku stejné rozdělení jako populace regionů v Česku"
   ]
  },
  {
   "attachments": {},
   "cell_type": "markdown",
   "metadata": {},
   "source": [
    "Česká republika se Slovenskou republikou mají dlouhou společnou historii a jsou si v mnoha demografických oblastech podobné. Proto by nás zajímalo, zda má populace regionů v Česku a na Slovensku stejné rozdělení.\n",
    "\n",
    "*Poznámka*: Nejprve jsme se snažili otestovat shodu střední hodnoty, ale všechny námi známé dvouvýběrové testy střední hodnoty předpokládaly normalitu, kterou jsme na základě Shapirova-Wilkova testu zamítli."
   ]
  },
  {
   "attachments": {},
   "cell_type": "markdown",
   "metadata": {},
   "source": [
    "* Data o populaci jednotlivých regionů Slovenska získáme obdobným způsobem jako pro Česko."
   ]
  },
  {
   "cell_type": "code",
   "execution_count": 19,
   "metadata": {
    "vscode": {
     "languageId": "r"
    }
   },
   "outputs": [
    {
     "name": "stderr",
     "output_type": "stream",
     "text": [
      "Reading cache file /tmp/RtmpLMSw7l/eurostat/demo_r_pjanaggr3_date_code_FF.rds\n",
      "\n",
      "Table  demo_r_pjanaggr3  read from cache file:  /tmp/RtmpLMSw7l/eurostat/demo_r_pjanaggr3_date_code_FF.rds\n",
      "\n"
     ]
    },
    {
     "data": {
      "text/html": [
       "<table class=\"dataframe\">\n",
       "<caption>A tibble: 8 × 2</caption>\n",
       "<thead>\n",
       "\t<tr><th scope=col>region</th><th scope=col>population</th></tr>\n",
       "\t<tr><th scope=col>&lt;fct&gt;</th><th scope=col>&lt;dbl&gt;</th></tr>\n",
       "</thead>\n",
       "<tbody>\n",
       "\t<tr><td>Bratislavský kraj   </td><td>677024</td></tr>\n",
       "\t<tr><td>Trnavský kraj       </td><td>565324</td></tr>\n",
       "\t<tr><td>Trenciansky kraj    </td><td>582567</td></tr>\n",
       "\t<tr><td>Nitriansky kraj     </td><td>671508</td></tr>\n",
       "\t<tr><td>Zilinský kraj       </td><td>691136</td></tr>\n",
       "\t<tr><td>Banskobystrický kraj</td><td>643102</td></tr>\n",
       "\t<tr><td>Presovský kraj      </td><td>827028</td></tr>\n",
       "\t<tr><td>Kosický kraj        </td><td>802092</td></tr>\n",
       "</tbody>\n",
       "</table>\n"
      ],
      "text/latex": [
       "A tibble: 8 × 2\n",
       "\\begin{tabular}{ll}\n",
       " region & population\\\\\n",
       " <fct> & <dbl>\\\\\n",
       "\\hline\n",
       "\t Bratislavský kraj    & 677024\\\\\n",
       "\t Trnavský kraj        & 565324\\\\\n",
       "\t Trenciansky kraj     & 582567\\\\\n",
       "\t Nitriansky kraj      & 671508\\\\\n",
       "\t Zilinský kraj        & 691136\\\\\n",
       "\t Banskobystrický kraj & 643102\\\\\n",
       "\t Presovský kraj       & 827028\\\\\n",
       "\t Kosický kraj         & 802092\\\\\n",
       "\\end{tabular}\n"
      ],
      "text/markdown": [
       "\n",
       "A tibble: 8 × 2\n",
       "\n",
       "| region &lt;fct&gt; | population &lt;dbl&gt; |\n",
       "|---|---|\n",
       "| Bratislavský kraj    | 677024 |\n",
       "| Trnavský kraj        | 565324 |\n",
       "| Trenciansky kraj     | 582567 |\n",
       "| Nitriansky kraj      | 671508 |\n",
       "| Zilinský kraj        | 691136 |\n",
       "| Banskobystrický kraj | 643102 |\n",
       "| Presovský kraj       | 827028 |\n",
       "| Kosický kraj         | 802092 |\n",
       "\n"
      ],
      "text/plain": [
       "  region               population\n",
       "1 Bratislavský kraj    677024    \n",
       "2 Trnavský kraj        565324    \n",
       "3 Trenciansky kraj     582567    \n",
       "4 Nitriansky kraj      671508    \n",
       "5 Zilinský kraj        691136    \n",
       "6 Banskobystrický kraj 643102    \n",
       "7 Presovský kraj       827028    \n",
       "8 Kosický kraj         802092    "
      ]
     },
     "metadata": {},
     "output_type": "display_data"
    },
    {
     "data": {
      "text/html": [
       "<table class=\"dataframe\">\n",
       "<caption>A data.frame: 14 × 2</caption>\n",
       "<thead>\n",
       "\t<tr><th scope=col>region</th><th scope=col>population</th></tr>\n",
       "\t<tr><th scope=col>&lt;fct&gt;</th><th scope=col>&lt;dbl&gt;</th></tr>\n",
       "</thead>\n",
       "<tbody>\n",
       "\t<tr><td>Hlavní mesto Praha  </td><td>1335084</td></tr>\n",
       "\t<tr><td>Stredoceský kraj    </td><td>1397997</td></tr>\n",
       "\t<tr><td>Jihocecký kraj      </td><td> 643551</td></tr>\n",
       "\t<tr><td>Plzenský kraj       </td><td> 591041</td></tr>\n",
       "\t<tr><td>Karlovarský kraj    </td><td> 293311</td></tr>\n",
       "\t<tr><td>Ústecký kraj        </td><td> 817004</td></tr>\n",
       "\t<tr><td>Liberecký kraj      </td><td> 442476</td></tr>\n",
       "\t<tr><td>Královéhradecký kraj</td><td> 550803</td></tr>\n",
       "\t<tr><td>Pardubický kraj     </td><td> 522856</td></tr>\n",
       "\t<tr><td>Kraj Vysocina       </td><td> 508852</td></tr>\n",
       "\t<tr><td>Jihomoravský kraj   </td><td>1195327</td></tr>\n",
       "\t<tr><td>Olomoucký kraj      </td><td> 630522</td></tr>\n",
       "\t<tr><td>Zlínský kraj        </td><td> 580119</td></tr>\n",
       "\t<tr><td>Moravskoslezský kraj</td><td>1192834</td></tr>\n",
       "</tbody>\n",
       "</table>\n"
      ],
      "text/latex": [
       "A data.frame: 14 × 2\n",
       "\\begin{tabular}{ll}\n",
       " region & population\\\\\n",
       " <fct> & <dbl>\\\\\n",
       "\\hline\n",
       "\t Hlavní mesto Praha   & 1335084\\\\\n",
       "\t Stredoceský kraj     & 1397997\\\\\n",
       "\t Jihocecký kraj       &  643551\\\\\n",
       "\t Plzenský kraj        &  591041\\\\\n",
       "\t Karlovarský kraj     &  293311\\\\\n",
       "\t Ústecký kraj         &  817004\\\\\n",
       "\t Liberecký kraj       &  442476\\\\\n",
       "\t Královéhradecký kraj &  550803\\\\\n",
       "\t Pardubický kraj      &  522856\\\\\n",
       "\t Kraj Vysocina        &  508852\\\\\n",
       "\t Jihomoravský kraj    & 1195327\\\\\n",
       "\t Olomoucký kraj       &  630522\\\\\n",
       "\t Zlínský kraj         &  580119\\\\\n",
       "\t Moravskoslezský kraj & 1192834\\\\\n",
       "\\end{tabular}\n"
      ],
      "text/markdown": [
       "\n",
       "A data.frame: 14 × 2\n",
       "\n",
       "| region &lt;fct&gt; | population &lt;dbl&gt; |\n",
       "|---|---|\n",
       "| Hlavní mesto Praha   | 1335084 |\n",
       "| Stredoceský kraj     | 1397997 |\n",
       "| Jihocecký kraj       |  643551 |\n",
       "| Plzenský kraj        |  591041 |\n",
       "| Karlovarský kraj     |  293311 |\n",
       "| Ústecký kraj         |  817004 |\n",
       "| Liberecký kraj       |  442476 |\n",
       "| Královéhradecký kraj |  550803 |\n",
       "| Pardubický kraj      |  522856 |\n",
       "| Kraj Vysocina        |  508852 |\n",
       "| Jihomoravský kraj    | 1195327 |\n",
       "| Olomoucký kraj       |  630522 |\n",
       "| Zlínský kraj         |  580119 |\n",
       "| Moravskoslezský kraj | 1192834 |\n",
       "\n"
      ],
      "text/plain": [
       "   region               population\n",
       "1  Hlavní mesto Praha   1335084   \n",
       "2  Stredoceský kraj     1397997   \n",
       "3  Jihocecký kraj        643551   \n",
       "4  Plzenský kraj         591041   \n",
       "5  Karlovarský kraj      293311   \n",
       "6  Ústecký kraj          817004   \n",
       "7  Liberecký kraj        442476   \n",
       "8  Královéhradecký kraj  550803   \n",
       "9  Pardubický kraj       522856   \n",
       "10 Kraj Vysocina         508852   \n",
       "11 Jihomoravský kraj    1195327   \n",
       "12 Olomoucký kraj        630522   \n",
       "13 Zlínský kraj          580119   \n",
       "14 Moravskoslezský kraj 1192834   "
      ]
     },
     "metadata": {},
     "output_type": "display_data"
    }
   ],
   "source": [
    "sr_data <- get_eurostat(\"demo_r_pjanaggr3\")\n",
    "sr_nuts <- c('SK010', 'SK021', 'SK022', 'SK023', 'SK031', 'SK032', 'SK041', 'SK042')\n",
    "sr_data <- sr_data[sr_data$geo %in% sr_nuts,]\n",
    "sr_data$unit <- NULL\n",
    "sr_data$geo <- as.factor(sr_data$geo)\n",
    "\n",
    "sr_data <- sr_data[sr_data$age == \"TOTAL\",]\n",
    "sr_data$age <- NULL\n",
    "\n",
    "sr_data <- sr_data[sr_data$time == '2021-01-01',]\n",
    "sr_data$time <- NULL\n",
    "\n",
    "sr_data <- sr_data[sr_data$sex == 'T',]\n",
    "sr_data$sex <- NULL\n",
    "\n",
    "sr_data <- label_eurostat(sr_data)\n",
    "\n",
    "sr_data$region <- sr_data$geo\n",
    "sr_data$geo <- NULL\n",
    "\n",
    "sr_data$population <- sr_data$values\n",
    "sr_data$values <- NULL\n",
    "\n",
    "sr_data\n",
    "population.by.region"
   ]
  },
  {
   "attachments": {},
   "cell_type": "markdown",
   "metadata": {},
   "source": [
    "Při prvním vizuálním porovnání dat se zdá, že mohou mít výběry větší odchylku ve tvaru a rozptylu rozdělení, a proto pro __test shodnosti distribuce__ zvolíme `Kolmogorovovův-Smirnovův dvouvýběrový test`, který *není* oproti `Mannovu-Whitneyovu U testu` tolik citlivý na zmíněné vlastnosti rozdělení."
   ]
  },
  {
   "attachments": {},
   "cell_type": "markdown",
   "metadata": {},
   "source": [
    "Označme $F$ distribuční funkci populace českých regionů a $G$ distribuční funkci populace slovenských regionů.\n",
    "\n",
    "Testujeme hypotézu:\n",
    "\n",
    "- $H_0$: $F=G$\n",
    "- $H_A$: $F\\ne G$ ."
   ]
  },
  {
   "cell_type": "code",
   "execution_count": 20,
   "metadata": {
    "vscode": {
     "languageId": "r"
    }
   },
   "outputs": [
    {
     "data": {
      "text/plain": [
       "\n",
       "\tTwo-sample Kolmogorov-Smirnov test\n",
       "\n",
       "data:  population.by.region$population and sr_data$population\n",
       "D = 0.35714, p-value = 0.4578\n",
       "alternative hypothesis: two-sided\n"
      ]
     },
     "metadata": {},
     "output_type": "display_data"
    }
   ],
   "source": [
    "ks.test(population.by.region$population, sr_data$population)"
   ]
  },
  {
   "attachments": {},
   "cell_type": "markdown",
   "metadata": {},
   "source": [
    " - `p-hodnota` je `nad hranicí 0.05`, a proto nulovou hypotézu (shodnost distribucí populace regionů Česka a Slovenska) `nezamítáme`."
   ]
  },
  {
   "attachments": {},
   "cell_type": "markdown",
   "metadata": {},
   "source": [
    "## Kontingenční tabulka"
   ]
  },
  {
   "attachments": {},
   "cell_type": "markdown",
   "metadata": {},
   "source": [
    "Z našich dat vytvoříme jednoduše kontingenční tabulku pomocí funkce `xtabs`.\n",
    "\n",
    "Orientaci volíme takovou, že v řádcích máme regiony a ve sloupcích pohlaví."
   ]
  },
  {
   "cell_type": "code",
   "execution_count": 21,
   "metadata": {
    "vscode": {
     "languageId": "r"
    }
   },
   "outputs": [
    {
     "data": {
      "text/plain": [
       "                      sex\n",
       "region                 Females  Males\n",
       "  Hlavní mesto Praha    681430 653654\n",
       "  Stredoceský kraj      706011 691986\n",
       "  Jihocecký kraj        325503 318048\n",
       "  Plzenský kraj         297223 293818\n",
       "  Karlovarský kraj      148298 145013\n",
       "  Ústecký kraj          411727 405277\n",
       "  Liberecký kraj        224629 217847\n",
       "  Královéhradecký kraj  279123 271680\n",
       "  Pardubický kraj       263067 259789\n",
       "  Kraj Vysocina         255699 253153\n",
       "  Jihomoravský kraj     607865 587462\n",
       "  Olomoucký kraj        321804 308718\n",
       "  Zlínský kraj          295534 284585\n",
       "  Moravskoslezský kraj  608761 584073"
      ]
     },
     "metadata": {},
     "output_type": "display_data"
    }
   ],
   "source": [
    "c.table <- xtabs(formula=population ~ region + sex, data=data)\n",
    "c.table"
   ]
  },
  {
   "attachments": {},
   "cell_type": "markdown",
   "metadata": {},
   "source": [
    "Nyní zobrazíme kontingenční tabulku společně s marginálními součty."
   ]
  },
  {
   "cell_type": "code",
   "execution_count": 22,
   "metadata": {
    "vscode": {
     "languageId": "r"
    }
   },
   "outputs": [
    {
     "data": {
      "text/html": [
       "<table class=\"dataframe\">\n",
       "<caption>A table: 15 × 3 of type dbl</caption>\n",
       "<thead>\n",
       "\t<tr><th></th><th scope=col>Females</th><th scope=col>Males</th><th scope=col>Sum</th></tr>\n",
       "</thead>\n",
       "<tbody>\n",
       "\t<tr><th scope=row>Hlavní mesto Praha</th><td> 681430</td><td> 653654</td><td> 1335084</td></tr>\n",
       "\t<tr><th scope=row>Stredoceský kraj</th><td> 706011</td><td> 691986</td><td> 1397997</td></tr>\n",
       "\t<tr><th scope=row>Jihocecký kraj</th><td> 325503</td><td> 318048</td><td>  643551</td></tr>\n",
       "\t<tr><th scope=row>Plzenský kraj</th><td> 297223</td><td> 293818</td><td>  591041</td></tr>\n",
       "\t<tr><th scope=row>Karlovarský kraj</th><td> 148298</td><td> 145013</td><td>  293311</td></tr>\n",
       "\t<tr><th scope=row>Ústecký kraj</th><td> 411727</td><td> 405277</td><td>  817004</td></tr>\n",
       "\t<tr><th scope=row>Liberecký kraj</th><td> 224629</td><td> 217847</td><td>  442476</td></tr>\n",
       "\t<tr><th scope=row>Královéhradecký kraj</th><td> 279123</td><td> 271680</td><td>  550803</td></tr>\n",
       "\t<tr><th scope=row>Pardubický kraj</th><td> 263067</td><td> 259789</td><td>  522856</td></tr>\n",
       "\t<tr><th scope=row>Kraj Vysocina</th><td> 255699</td><td> 253153</td><td>  508852</td></tr>\n",
       "\t<tr><th scope=row>Jihomoravský kraj</th><td> 607865</td><td> 587462</td><td> 1195327</td></tr>\n",
       "\t<tr><th scope=row>Olomoucký kraj</th><td> 321804</td><td> 308718</td><td>  630522</td></tr>\n",
       "\t<tr><th scope=row>Zlínský kraj</th><td> 295534</td><td> 284585</td><td>  580119</td></tr>\n",
       "\t<tr><th scope=row>Moravskoslezský kraj</th><td> 608761</td><td> 584073</td><td> 1192834</td></tr>\n",
       "\t<tr><th scope=row>Sum</th><td>5426674</td><td>5275103</td><td>10701777</td></tr>\n",
       "</tbody>\n",
       "</table>\n"
      ],
      "text/latex": [
       "A table: 15 × 3 of type dbl\n",
       "\\begin{tabular}{r|lll}\n",
       "  & Females & Males & Sum\\\\\n",
       "\\hline\n",
       "\tHlavní mesto Praha &  681430 &  653654 &  1335084\\\\\n",
       "\tStredoceský kraj &  706011 &  691986 &  1397997\\\\\n",
       "\tJihocecký kraj &  325503 &  318048 &   643551\\\\\n",
       "\tPlzenský kraj &  297223 &  293818 &   591041\\\\\n",
       "\tKarlovarský kraj &  148298 &  145013 &   293311\\\\\n",
       "\tÚstecký kraj &  411727 &  405277 &   817004\\\\\n",
       "\tLiberecký kraj &  224629 &  217847 &   442476\\\\\n",
       "\tKrálovéhradecký kraj &  279123 &  271680 &   550803\\\\\n",
       "\tPardubický kraj &  263067 &  259789 &   522856\\\\\n",
       "\tKraj Vysocina &  255699 &  253153 &   508852\\\\\n",
       "\tJihomoravský kraj &  607865 &  587462 &  1195327\\\\\n",
       "\tOlomoucký kraj &  321804 &  308718 &   630522\\\\\n",
       "\tZlínský kraj &  295534 &  284585 &   580119\\\\\n",
       "\tMoravskoslezský kraj &  608761 &  584073 &  1192834\\\\\n",
       "\tSum & 5426674 & 5275103 & 10701777\\\\\n",
       "\\end{tabular}\n"
      ],
      "text/markdown": [
       "\n",
       "A table: 15 × 3 of type dbl\n",
       "\n",
       "| <!--/--> | Females | Males | Sum |\n",
       "|---|---|---|---|\n",
       "| Hlavní mesto Praha |  681430 |  653654 |  1335084 |\n",
       "| Stredoceský kraj |  706011 |  691986 |  1397997 |\n",
       "| Jihocecký kraj |  325503 |  318048 |   643551 |\n",
       "| Plzenský kraj |  297223 |  293818 |   591041 |\n",
       "| Karlovarský kraj |  148298 |  145013 |   293311 |\n",
       "| Ústecký kraj |  411727 |  405277 |   817004 |\n",
       "| Liberecký kraj |  224629 |  217847 |   442476 |\n",
       "| Královéhradecký kraj |  279123 |  271680 |   550803 |\n",
       "| Pardubický kraj |  263067 |  259789 |   522856 |\n",
       "| Kraj Vysocina |  255699 |  253153 |   508852 |\n",
       "| Jihomoravský kraj |  607865 |  587462 |  1195327 |\n",
       "| Olomoucký kraj |  321804 |  308718 |   630522 |\n",
       "| Zlínský kraj |  295534 |  284585 |   580119 |\n",
       "| Moravskoslezský kraj |  608761 |  584073 |  1192834 |\n",
       "| Sum | 5426674 | 5275103 | 10701777 |\n",
       "\n"
      ],
      "text/plain": [
       "                      sex\n",
       "region                 Females Males   Sum     \n",
       "  Hlavní mesto Praha    681430  653654  1335084\n",
       "  Stredoceský kraj      706011  691986  1397997\n",
       "  Jihocecký kraj        325503  318048   643551\n",
       "  Plzenský kraj         297223  293818   591041\n",
       "  Karlovarský kraj      148298  145013   293311\n",
       "  Ústecký kraj          411727  405277   817004\n",
       "  Liberecký kraj        224629  217847   442476\n",
       "  Královéhradecký kraj  279123  271680   550803\n",
       "  Pardubický kraj       263067  259789   522856\n",
       "  Kraj Vysocina         255699  253153   508852\n",
       "  Jihomoravský kraj     607865  587462  1195327\n",
       "  Olomoucký kraj        321804  308718   630522\n",
       "  Zlínský kraj          295534  284585   580119\n",
       "  Moravskoslezský kraj  608761  584073  1192834\n",
       "  Sum                  5426674 5275103 10701777"
      ]
     },
     "metadata": {},
     "output_type": "display_data"
    }
   ],
   "source": [
    "addmargins(c.table)"
   ]
  },
  {
   "attachments": {},
   "cell_type": "markdown",
   "metadata": {},
   "source": [
    "Dále si zobrazíme kontingeční tabulku pravděpodobností a marginálních pravděpodobností."
   ]
  },
  {
   "cell_type": "code",
   "execution_count": 23,
   "metadata": {
    "vscode": {
     "languageId": "r"
    }
   },
   "outputs": [
    {
     "data": {
      "text/html": [
       "<table class=\"dataframe\">\n",
       "<caption>A table: 15 × 3 of type dbl</caption>\n",
       "<thead>\n",
       "\t<tr><th></th><th scope=col>Females</th><th scope=col>Males</th><th scope=col>Sum</th></tr>\n",
       "</thead>\n",
       "<tbody>\n",
       "\t<tr><th scope=row>Hlavní mesto Praha</th><td>0.06367447</td><td>0.06107902</td><td>0.12475349</td></tr>\n",
       "\t<tr><th scope=row>Stredoceský kraj</th><td>0.06597138</td><td>0.06466085</td><td>0.13063223</td></tr>\n",
       "\t<tr><th scope=row>Jihocecký kraj</th><td>0.03041579</td><td>0.02971918</td><td>0.06013497</td></tr>\n",
       "\t<tr><th scope=row>Plzenský kraj</th><td>0.02777324</td><td>0.02745507</td><td>0.05522830</td></tr>\n",
       "\t<tr><th scope=row>Karlovarský kraj</th><td>0.01385732</td><td>0.01355037</td><td>0.02740769</td></tr>\n",
       "\t<tr><th scope=row>Ústecký kraj</th><td>0.03847277</td><td>0.03787007</td><td>0.07634284</td></tr>\n",
       "\t<tr><th scope=row>Liberecký kraj</th><td>0.02098988</td><td>0.02035615</td><td>0.04134603</td></tr>\n",
       "\t<tr><th scope=row>Královéhradecký kraj</th><td>0.02608193</td><td>0.02538644</td><td>0.05146837</td></tr>\n",
       "\t<tr><th scope=row>Pardubický kraj</th><td>0.02458162</td><td>0.02427531</td><td>0.04885693</td></tr>\n",
       "\t<tr><th scope=row>Kraj Vysocina</th><td>0.02389313</td><td>0.02365523</td><td>0.04754837</td></tr>\n",
       "\t<tr><th scope=row>Jihomoravský kraj</th><td>0.05680038</td><td>0.05489387</td><td>0.11169425</td></tr>\n",
       "\t<tr><th scope=row>Olomoucký kraj</th><td>0.03007015</td><td>0.02884736</td><td>0.05891751</td></tr>\n",
       "\t<tr><th scope=row>Zlínský kraj</th><td>0.02761541</td><td>0.02659231</td><td>0.05420773</td></tr>\n",
       "\t<tr><th scope=row>Moravskoslezský kraj</th><td>0.05688410</td><td>0.05457720</td><td>0.11146130</td></tr>\n",
       "\t<tr><th scope=row>Sum</th><td>0.50708158</td><td>0.49291842</td><td>1.00000000</td></tr>\n",
       "</tbody>\n",
       "</table>\n"
      ],
      "text/latex": [
       "A table: 15 × 3 of type dbl\n",
       "\\begin{tabular}{r|lll}\n",
       "  & Females & Males & Sum\\\\\n",
       "\\hline\n",
       "\tHlavní mesto Praha & 0.06367447 & 0.06107902 & 0.12475349\\\\\n",
       "\tStredoceský kraj & 0.06597138 & 0.06466085 & 0.13063223\\\\\n",
       "\tJihocecký kraj & 0.03041579 & 0.02971918 & 0.06013497\\\\\n",
       "\tPlzenský kraj & 0.02777324 & 0.02745507 & 0.05522830\\\\\n",
       "\tKarlovarský kraj & 0.01385732 & 0.01355037 & 0.02740769\\\\\n",
       "\tÚstecký kraj & 0.03847277 & 0.03787007 & 0.07634284\\\\\n",
       "\tLiberecký kraj & 0.02098988 & 0.02035615 & 0.04134603\\\\\n",
       "\tKrálovéhradecký kraj & 0.02608193 & 0.02538644 & 0.05146837\\\\\n",
       "\tPardubický kraj & 0.02458162 & 0.02427531 & 0.04885693\\\\\n",
       "\tKraj Vysocina & 0.02389313 & 0.02365523 & 0.04754837\\\\\n",
       "\tJihomoravský kraj & 0.05680038 & 0.05489387 & 0.11169425\\\\\n",
       "\tOlomoucký kraj & 0.03007015 & 0.02884736 & 0.05891751\\\\\n",
       "\tZlínský kraj & 0.02761541 & 0.02659231 & 0.05420773\\\\\n",
       "\tMoravskoslezský kraj & 0.05688410 & 0.05457720 & 0.11146130\\\\\n",
       "\tSum & 0.50708158 & 0.49291842 & 1.00000000\\\\\n",
       "\\end{tabular}\n"
      ],
      "text/markdown": [
       "\n",
       "A table: 15 × 3 of type dbl\n",
       "\n",
       "| <!--/--> | Females | Males | Sum |\n",
       "|---|---|---|---|\n",
       "| Hlavní mesto Praha | 0.06367447 | 0.06107902 | 0.12475349 |\n",
       "| Stredoceský kraj | 0.06597138 | 0.06466085 | 0.13063223 |\n",
       "| Jihocecký kraj | 0.03041579 | 0.02971918 | 0.06013497 |\n",
       "| Plzenský kraj | 0.02777324 | 0.02745507 | 0.05522830 |\n",
       "| Karlovarský kraj | 0.01385732 | 0.01355037 | 0.02740769 |\n",
       "| Ústecký kraj | 0.03847277 | 0.03787007 | 0.07634284 |\n",
       "| Liberecký kraj | 0.02098988 | 0.02035615 | 0.04134603 |\n",
       "| Královéhradecký kraj | 0.02608193 | 0.02538644 | 0.05146837 |\n",
       "| Pardubický kraj | 0.02458162 | 0.02427531 | 0.04885693 |\n",
       "| Kraj Vysocina | 0.02389313 | 0.02365523 | 0.04754837 |\n",
       "| Jihomoravský kraj | 0.05680038 | 0.05489387 | 0.11169425 |\n",
       "| Olomoucký kraj | 0.03007015 | 0.02884736 | 0.05891751 |\n",
       "| Zlínský kraj | 0.02761541 | 0.02659231 | 0.05420773 |\n",
       "| Moravskoslezský kraj | 0.05688410 | 0.05457720 | 0.11146130 |\n",
       "| Sum | 0.50708158 | 0.49291842 | 1.00000000 |\n",
       "\n"
      ],
      "text/plain": [
       "                      sex\n",
       "region                 Females    Males      Sum       \n",
       "  Hlavní mesto Praha   0.06367447 0.06107902 0.12475349\n",
       "  Stredoceský kraj     0.06597138 0.06466085 0.13063223\n",
       "  Jihocecký kraj       0.03041579 0.02971918 0.06013497\n",
       "  Plzenský kraj        0.02777324 0.02745507 0.05522830\n",
       "  Karlovarský kraj     0.01385732 0.01355037 0.02740769\n",
       "  Ústecký kraj         0.03847277 0.03787007 0.07634284\n",
       "  Liberecký kraj       0.02098988 0.02035615 0.04134603\n",
       "  Královéhradecký kraj 0.02608193 0.02538644 0.05146837\n",
       "  Pardubický kraj      0.02458162 0.02427531 0.04885693\n",
       "  Kraj Vysocina        0.02389313 0.02365523 0.04754837\n",
       "  Jihomoravský kraj    0.05680038 0.05489387 0.11169425\n",
       "  Olomoucký kraj       0.03007015 0.02884736 0.05891751\n",
       "  Zlínský kraj         0.02761541 0.02659231 0.05420773\n",
       "  Moravskoslezský kraj 0.05688410 0.05457720 0.11146130\n",
       "  Sum                  0.50708158 0.49291842 1.00000000"
      ]
     },
     "metadata": {},
     "output_type": "display_data"
    }
   ],
   "source": [
    "addmargins(prop.table(c.table))"
   ]
  },
  {
   "attachments": {},
   "cell_type": "markdown",
   "metadata": {},
   "source": [
    "Následující mozaikový graf nám může odhalit nepoměry mužů a žen v krajích.\n",
    "\n",
    "Na první pohled se ale počty žen a mužů v regionech `zdají` vyvážené. Tuto myšlenku v následujících testech rozvedeme a formalizujeme."
   ]
  },
  {
   "cell_type": "code",
   "execution_count": 24,
   "metadata": {
    "vscode": {
     "languageId": "r"
    }
   },
   "outputs": [
    {
     "data": {
      "image/png": "[encoded data removed]",
      "text/plain": [
       "Plot with title “c.table”"
      ]
     },
     "metadata": {
      "image/png": {
       "height": 420,
       "width": 1200
      }
     },
     "output_type": "display_data"
    }
   ],
   "source": [
    "mosaicplot(c.table, color=T)"
   ]
  },
  {
   "attachments": {},
   "cell_type": "markdown",
   "metadata": {},
   "source": [
    "Pearsonův $\\chi^2$ test nezávislosti zkoumá nezávislost pravděpodobnosti hodnot na řádkovém indexu, tedy hypotézu formalizujeme jako:\n",
    "- $H_0$: řádkové pravděpodobnosti $p_{i1}, \\ldots, p_{i\\cdot}$ nezávisí na $i$\n",
    "- $H_A$: neplatí $H_0$\n"
   ]
  },
  {
   "cell_type": "code",
   "execution_count": 25,
   "metadata": {
    "vscode": {
     "languageId": "r"
    }
   },
   "outputs": [
    {
     "data": {
      "text/plain": [
       "\n",
       "\tPearson's Chi-squared test\n",
       "\n",
       "data:  c.table\n",
       "X-squared = 340.88, df = 13, p-value < 2.2e-16\n"
      ]
     },
     "metadata": {},
     "output_type": "display_data"
    }
   ],
   "source": [
    "pears <- chisq.test(c.table)\n",
    "pears"
   ]
  },
  {
   "attachments": {},
   "cell_type": "markdown",
   "metadata": {},
   "source": [
    "Na základě výsledku tohoto testu *zamítáme* nulovou hypotézu, že by záznamy nebyly závislé na řádkovém indexu.\n",
    "\n",
    "Na následujících kontingenčních tabulkách si můžeme prohlédnout kontrast předpokládaných hodnot podle Pearsonova $\\chi^2$ testu nezávislosti a dat z eurostatu."
   ]
  },
  {
   "cell_type": "code",
   "execution_count": 26,
   "metadata": {
    "vscode": {
     "languageId": "r"
    }
   },
   "outputs": [
    {
     "data": {
      "text/html": [
       "<table class=\"dataframe\">\n",
       "<caption>A matrix: 15 × 3 of type dbl</caption>\n",
       "<thead>\n",
       "\t<tr><th></th><th scope=col>Females</th><th scope=col>Males</th><th scope=col>Sum</th></tr>\n",
       "</thead>\n",
       "<tbody>\n",
       "\t<tr><th scope=row>Hlavní mesto Praha</th><td> 676996.5</td><td> 658087.5</td><td> 1335084</td></tr>\n",
       "\t<tr><th scope=row>Stredoceský kraj</th><td> 708898.5</td><td> 689098.5</td><td> 1397997</td></tr>\n",
       "\t<tr><th scope=row>Jihocecký kraj</th><td> 326332.9</td><td> 317218.1</td><td>  643551</td></tr>\n",
       "\t<tr><th scope=row>Plzenský kraj</th><td> 299706.0</td><td> 291335.0</td><td>  591041</td></tr>\n",
       "\t<tr><th scope=row>Karlovarský kraj</th><td> 148732.6</td><td> 144578.4</td><td>  293311</td></tr>\n",
       "\t<tr><th scope=row>Ústecký kraj</th><td> 414287.7</td><td> 402716.3</td><td>  817004</td></tr>\n",
       "\t<tr><th scope=row>Liberecký kraj</th><td> 224371.4</td><td> 218104.6</td><td>  442476</td></tr>\n",
       "\t<tr><th scope=row>Královéhradecký kraj</th><td> 279302.1</td><td> 271500.9</td><td>  550803</td></tr>\n",
       "\t<tr><th scope=row>Pardubický kraj</th><td> 265130.6</td><td> 257725.4</td><td>  522856</td></tr>\n",
       "\t<tr><th scope=row>Kraj Vysocina</th><td> 258029.5</td><td> 250822.5</td><td>  508852</td></tr>\n",
       "\t<tr><th scope=row>Jihomoravský kraj</th><td> 606128.3</td><td> 589198.7</td><td> 1195327</td></tr>\n",
       "\t<tr><th scope=row>Olomoucký kraj</th><td> 319726.1</td><td> 310795.9</td><td>  630522</td></tr>\n",
       "\t<tr><th scope=row>Zlínský kraj</th><td> 294167.7</td><td> 285951.3</td><td>  580119</td></tr>\n",
       "\t<tr><th scope=row>Moravskoslezský kraj</th><td> 604864.2</td><td> 587969.8</td><td> 1192834</td></tr>\n",
       "\t<tr><th scope=row>Sum</th><td>5426674.0</td><td>5275103.0</td><td>10701777</td></tr>\n",
       "</tbody>\n",
       "</table>\n"
      ],
      "text/latex": [
       "A matrix: 15 × 3 of type dbl\n",
       "\\begin{tabular}{r|lll}\n",
       "  & Females & Males & Sum\\\\\n",
       "\\hline\n",
       "\tHlavní mesto Praha &  676996.5 &  658087.5 &  1335084\\\\\n",
       "\tStredoceský kraj &  708898.5 &  689098.5 &  1397997\\\\\n",
       "\tJihocecký kraj &  326332.9 &  317218.1 &   643551\\\\\n",
       "\tPlzenský kraj &  299706.0 &  291335.0 &   591041\\\\\n",
       "\tKarlovarský kraj &  148732.6 &  144578.4 &   293311\\\\\n",
       "\tÚstecký kraj &  414287.7 &  402716.3 &   817004\\\\\n",
       "\tLiberecký kraj &  224371.4 &  218104.6 &   442476\\\\\n",
       "\tKrálovéhradecký kraj &  279302.1 &  271500.9 &   550803\\\\\n",
       "\tPardubický kraj &  265130.6 &  257725.4 &   522856\\\\\n",
       "\tKraj Vysocina &  258029.5 &  250822.5 &   508852\\\\\n",
       "\tJihomoravský kraj &  606128.3 &  589198.7 &  1195327\\\\\n",
       "\tOlomoucký kraj &  319726.1 &  310795.9 &   630522\\\\\n",
       "\tZlínský kraj &  294167.7 &  285951.3 &   580119\\\\\n",
       "\tMoravskoslezský kraj &  604864.2 &  587969.8 &  1192834\\\\\n",
       "\tSum & 5426674.0 & 5275103.0 & 10701777\\\\\n",
       "\\end{tabular}\n"
      ],
      "text/markdown": [
       "\n",
       "A matrix: 15 × 3 of type dbl\n",
       "\n",
       "| <!--/--> | Females | Males | Sum |\n",
       "|---|---|---|---|\n",
       "| Hlavní mesto Praha |  676996.5 |  658087.5 |  1335084 |\n",
       "| Stredoceský kraj |  708898.5 |  689098.5 |  1397997 |\n",
       "| Jihocecký kraj |  326332.9 |  317218.1 |   643551 |\n",
       "| Plzenský kraj |  299706.0 |  291335.0 |   591041 |\n",
       "| Karlovarský kraj |  148732.6 |  144578.4 |   293311 |\n",
       "| Ústecký kraj |  414287.7 |  402716.3 |   817004 |\n",
       "| Liberecký kraj |  224371.4 |  218104.6 |   442476 |\n",
       "| Královéhradecký kraj |  279302.1 |  271500.9 |   550803 |\n",
       "| Pardubický kraj |  265130.6 |  257725.4 |   522856 |\n",
       "| Kraj Vysocina |  258029.5 |  250822.5 |   508852 |\n",
       "| Jihomoravský kraj |  606128.3 |  589198.7 |  1195327 |\n",
       "| Olomoucký kraj |  319726.1 |  310795.9 |   630522 |\n",
       "| Zlínský kraj |  294167.7 |  285951.3 |   580119 |\n",
       "| Moravskoslezský kraj |  604864.2 |  587969.8 |  1192834 |\n",
       "| Sum | 5426674.0 | 5275103.0 | 10701777 |\n",
       "\n"
      ],
      "text/plain": [
       "                      sex\n",
       "region                 Females   Males     Sum     \n",
       "  Hlavní mesto Praha    676996.5  658087.5  1335084\n",
       "  Stredoceský kraj      708898.5  689098.5  1397997\n",
       "  Jihocecký kraj        326332.9  317218.1   643551\n",
       "  Plzenský kraj         299706.0  291335.0   591041\n",
       "  Karlovarský kraj      148732.6  144578.4   293311\n",
       "  Ústecký kraj          414287.7  402716.3   817004\n",
       "  Liberecký kraj        224371.4  218104.6   442476\n",
       "  Královéhradecký kraj  279302.1  271500.9   550803\n",
       "  Pardubický kraj       265130.6  257725.4   522856\n",
       "  Kraj Vysocina         258029.5  250822.5   508852\n",
       "  Jihomoravský kraj     606128.3  589198.7  1195327\n",
       "  Olomoucký kraj        319726.1  310795.9   630522\n",
       "  Zlínský kraj          294167.7  285951.3   580119\n",
       "  Moravskoslezský kraj  604864.2  587969.8  1192834\n",
       "  Sum                  5426674.0 5275103.0 10701777"
      ]
     },
     "metadata": {},
     "output_type": "display_data"
    }
   ],
   "source": [
    "addmargins(pears$expected)"
   ]
  },
  {
   "attachments": {},
   "cell_type": "markdown",
   "metadata": {},
   "source": [
    "Na těchto datech jsme si všimli, že rozdíly mezi daty a předpokládanými hodnotami, pokud by řádky byly závislé, opravdu nejsou výrazné."
   ]
  },
  {
   "cell_type": "code",
   "execution_count": 27,
   "metadata": {
    "vscode": {
     "languageId": "r"
    }
   },
   "outputs": [
    {
     "data": {
      "text/html": [
       "<table class=\"dataframe\">\n",
       "<caption>A table: 15 × 3 of type dbl</caption>\n",
       "<thead>\n",
       "\t<tr><th></th><th scope=col>Females</th><th scope=col>Males</th><th scope=col>Sum</th></tr>\n",
       "</thead>\n",
       "<tbody>\n",
       "\t<tr><th scope=row>Hlavní mesto Praha</th><td>-4433.4946</td><td> 4.433495e+03</td><td>0.000000e+00</td></tr>\n",
       "\t<tr><th scope=row>Stredoceský kraj</th><td> 2887.5289</td><td>-2.887529e+03</td><td>0.000000e+00</td></tr>\n",
       "\t<tr><th scope=row>Jihocecký kraj</th><td>  829.8585</td><td>-8.298585e+02</td><td>0.000000e+00</td></tr>\n",
       "\t<tr><th scope=row>Plzenský kraj</th><td> 2483.0047</td><td>-2.483005e+03</td><td>0.000000e+00</td></tr>\n",
       "\t<tr><th scope=row>Karlovarský kraj</th><td>  434.6056</td><td>-4.346056e+02</td><td>0.000000e+00</td></tr>\n",
       "\t<tr><th scope=row>Ústecký kraj</th><td> 2560.6800</td><td>-2.560680e+03</td><td>0.000000e+00</td></tr>\n",
       "\t<tr><th scope=row>Liberecký kraj</th><td> -257.5704</td><td> 2.575704e+02</td><td>0.000000e+00</td></tr>\n",
       "\t<tr><th scope=row>Královéhradecký kraj</th><td>  179.0560</td><td>-1.790560e+02</td><td>0.000000e+00</td></tr>\n",
       "\t<tr><th scope=row>Pardubický kraj</th><td> 2063.6471</td><td>-2.063647e+03</td><td>2.910383e-11</td></tr>\n",
       "\t<tr><th scope=row>Kraj Vysocina</th><td> 2330.4766</td><td>-2.330477e+03</td><td>0.000000e+00</td></tr>\n",
       "\t<tr><th scope=row>Jihomoravský kraj</th><td>-1736.6951</td><td> 1.736695e+03</td><td>0.000000e+00</td></tr>\n",
       "\t<tr><th scope=row>Olomoucký kraj</th><td>-2077.9074</td><td> 2.077907e+03</td><td>0.000000e+00</td></tr>\n",
       "\t<tr><th scope=row>Zlínský kraj</th><td>-1366.3403</td><td> 1.366340e+03</td><td>0.000000e+00</td></tr>\n",
       "\t<tr><th scope=row>Moravskoslezský kraj</th><td>-3896.8495</td><td> 3.896849e+03</td><td>0.000000e+00</td></tr>\n",
       "\t<tr><th scope=row>Sum</th><td>    0.0000</td><td> 2.910383e-11</td><td>2.910383e-11</td></tr>\n",
       "</tbody>\n",
       "</table>\n"
      ],
      "text/latex": [
       "A table: 15 × 3 of type dbl\n",
       "\\begin{tabular}{r|lll}\n",
       "  & Females & Males & Sum\\\\\n",
       "\\hline\n",
       "\tHlavní mesto Praha & -4433.4946 &  4.433495e+03 & 0.000000e+00\\\\\n",
       "\tStredoceský kraj &  2887.5289 & -2.887529e+03 & 0.000000e+00\\\\\n",
       "\tJihocecký kraj &   829.8585 & -8.298585e+02 & 0.000000e+00\\\\\n",
       "\tPlzenský kraj &  2483.0047 & -2.483005e+03 & 0.000000e+00\\\\\n",
       "\tKarlovarský kraj &   434.6056 & -4.346056e+02 & 0.000000e+00\\\\\n",
       "\tÚstecký kraj &  2560.6800 & -2.560680e+03 & 0.000000e+00\\\\\n",
       "\tLiberecký kraj &  -257.5704 &  2.575704e+02 & 0.000000e+00\\\\\n",
       "\tKrálovéhradecký kraj &   179.0560 & -1.790560e+02 & 0.000000e+00\\\\\n",
       "\tPardubický kraj &  2063.6471 & -2.063647e+03 & 2.910383e-11\\\\\n",
       "\tKraj Vysocina &  2330.4766 & -2.330477e+03 & 0.000000e+00\\\\\n",
       "\tJihomoravský kraj & -1736.6951 &  1.736695e+03 & 0.000000e+00\\\\\n",
       "\tOlomoucký kraj & -2077.9074 &  2.077907e+03 & 0.000000e+00\\\\\n",
       "\tZlínský kraj & -1366.3403 &  1.366340e+03 & 0.000000e+00\\\\\n",
       "\tMoravskoslezský kraj & -3896.8495 &  3.896849e+03 & 0.000000e+00\\\\\n",
       "\tSum &     0.0000 &  2.910383e-11 & 2.910383e-11\\\\\n",
       "\\end{tabular}\n"
      ],
      "text/markdown": [
       "\n",
       "A table: 15 × 3 of type dbl\n",
       "\n",
       "| <!--/--> | Females | Males | Sum |\n",
       "|---|---|---|---|\n",
       "| Hlavní mesto Praha | -4433.4946 |  4.433495e+03 | 0.000000e+00 |\n",
       "| Stredoceský kraj |  2887.5289 | -2.887529e+03 | 0.000000e+00 |\n",
       "| Jihocecký kraj |   829.8585 | -8.298585e+02 | 0.000000e+00 |\n",
       "| Plzenský kraj |  2483.0047 | -2.483005e+03 | 0.000000e+00 |\n",
       "| Karlovarský kraj |   434.6056 | -4.346056e+02 | 0.000000e+00 |\n",
       "| Ústecký kraj |  2560.6800 | -2.560680e+03 | 0.000000e+00 |\n",
       "| Liberecký kraj |  -257.5704 |  2.575704e+02 | 0.000000e+00 |\n",
       "| Královéhradecký kraj |   179.0560 | -1.790560e+02 | 0.000000e+00 |\n",
       "| Pardubický kraj |  2063.6471 | -2.063647e+03 | 2.910383e-11 |\n",
       "| Kraj Vysocina |  2330.4766 | -2.330477e+03 | 0.000000e+00 |\n",
       "| Jihomoravský kraj | -1736.6951 |  1.736695e+03 | 0.000000e+00 |\n",
       "| Olomoucký kraj | -2077.9074 |  2.077907e+03 | 0.000000e+00 |\n",
       "| Zlínský kraj | -1366.3403 |  1.366340e+03 | 0.000000e+00 |\n",
       "| Moravskoslezský kraj | -3896.8495 |  3.896849e+03 | 0.000000e+00 |\n",
       "| Sum |     0.0000 |  2.910383e-11 | 2.910383e-11 |\n",
       "\n"
      ],
      "text/plain": [
       "                      sex\n",
       "region                 Females    Males         Sum         \n",
       "  Hlavní mesto Praha   -4433.4946  4.433495e+03 0.000000e+00\n",
       "  Stredoceský kraj      2887.5289 -2.887529e+03 0.000000e+00\n",
       "  Jihocecký kraj         829.8585 -8.298585e+02 0.000000e+00\n",
       "  Plzenský kraj         2483.0047 -2.483005e+03 0.000000e+00\n",
       "  Karlovarský kraj       434.6056 -4.346056e+02 0.000000e+00\n",
       "  Ústecký kraj          2560.6800 -2.560680e+03 0.000000e+00\n",
       "  Liberecký kraj        -257.5704  2.575704e+02 0.000000e+00\n",
       "  Královéhradecký kraj   179.0560 -1.790560e+02 0.000000e+00\n",
       "  Pardubický kraj       2063.6471 -2.063647e+03 2.910383e-11\n",
       "  Kraj Vysocina         2330.4766 -2.330477e+03 0.000000e+00\n",
       "  Jihomoravský kraj    -1736.6951  1.736695e+03 0.000000e+00\n",
       "  Olomoucký kraj       -2077.9074  2.077907e+03 0.000000e+00\n",
       "  Zlínský kraj         -1366.3403  1.366340e+03 0.000000e+00\n",
       "  Moravskoslezský kraj -3896.8495  3.896849e+03 0.000000e+00\n",
       "  Sum                      0.0000  2.910383e-11 2.910383e-11"
      ]
     },
     "metadata": {},
     "output_type": "display_data"
    }
   ],
   "source": [
    "addmargins(pears$expected - pears$observed)"
   ]
  },
  {
   "attachments": {},
   "cell_type": "markdown",
   "metadata": {},
   "source": [
    "Další možností, jak u menších tabulek testovat nezávislost řádků je Fisherův exaktní test, který v našem případě opět *zamítá* hypotézu, že jsou řádky nezávislé."
   ]
  },
  {
   "cell_type": "code",
   "execution_count": 28,
   "metadata": {
    "vscode": {
     "languageId": "r"
    }
   },
   "outputs": [
    {
     "data": {
      "text/plain": [
       "\n",
       "\tFisher's Exact Test for Count Data with simulated p-value (based on\n",
       "\t2000 replicates)\n",
       "\n",
       "data:  c.table\n",
       "p-value = 0.0004998\n",
       "alternative hypothesis: two.sided\n"
      ]
     },
     "metadata": {},
     "output_type": "display_data"
    }
   ],
   "source": [
    "fisher.test(c.table, simulate.p.value=T)"
   ]
  },
  {
   "attachments": {},
   "cell_type": "markdown",
   "metadata": {},
   "source": [
    "Dalším ukazatelem nezávislosti řádků je Cramérovo delta, které v našem případě je velmi nízké a mluví ve prospěch naší domněnky, že jsou řádky závislé."
   ]
  },
  {
   "cell_type": "code",
   "execution_count": 29,
   "metadata": {
    "vscode": {
     "languageId": "r"
    }
   },
   "outputs": [
    {
     "data": {
      "text/html": [
       "0.00564384898954449"
      ],
      "text/latex": [
       "0.00564384898954449"
      ],
      "text/markdown": [
       "0.00564384898954449"
      ],
      "text/plain": [
       "[1] 0.005643849"
      ]
     },
     "metadata": {},
     "output_type": "display_data"
    }
   ],
   "source": [
    "CramerV(c.table)"
   ]
  }
 ],
 "metadata": {
  "kernelspec": {
   "display_name": "R",
   "language": "R",
   "name": "ir"
  },
  "language_info": {
   "codemirror_mode": "r",
   "file_extension": ".r",
   "mimetype": "text/x-r-source",
   "name": "R",
   "pygments_lexer": "r",
   "version": "4.1.2"
  },
  "orig_nbformat": 4
 },
 "nbformat": 4,
 "nbformat_minor": 2
}
