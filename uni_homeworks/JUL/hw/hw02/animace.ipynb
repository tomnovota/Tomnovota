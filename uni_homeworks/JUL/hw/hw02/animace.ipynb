{
 "cells": [
  {
   "cell_type": "markdown",
   "id": "1aa802d4-1fe9-4562-8535-fb4aab140e49",
   "metadata": {},
   "source": [
    "# Animace"
   ]
  },
  {
   "cell_type": "code",
   "execution_count": 1,
   "id": "664feace-6e12-48d3-8552-fafd941cf17e",
   "metadata": {},
   "outputs": [],
   "source": [
    "include(\"ising.jl\")\n",
    "using .Ising, LinearAlgebra, ProgressMeter, Images"
   ]
  },
  {
   "cell_type": "code",
   "execution_count": 10,
   "id": "2bb55ac2-3acc-427f-a72a-c77b15884ec3",
   "metadata": {},
   "outputs": [
    {
     "name": "stderr",
     "output_type": "stream",
     "text": [
      "\u001b[32mProgress: 100%|█████████████████████████████████████████| Time: 0:00:10\u001b[39m\n"
     ]
    }
   ],
   "source": [
    "J = [10. 0. 1; 0. 0. 0.; 1. 0. 10.]\n",
    "h = zeros(500, 500)\n",
    "h[100:400, 200:300] = -5*ones(301, 101)\n",
    "h[100:200, 300:400] = -5*ones(101, 101)\n",
    "h[250:320, 300:370] = -5*ones(71, 71)\n",
    "\n",
    "model = IsingFixed(ones(500, 500), J, β=4, h=h)\n",
    "randomize!(model)\n",
    "\n",
    "@showprogress for j=1:800\n",
    "    evolve!(model, 550)\n",
    "    save(\"files/\" * lpad(j, 4, \"0\") * \".png\", plot(model))\n",
    "end"
   ]
  },
  {
   "cell_type": "code",
   "execution_count": null,
   "id": "6a274dcd-12c3-44f2-ad5c-04a82ca0afe7",
   "metadata": {},
   "outputs": [],
   "source": []
  }
 ],
 "metadata": {
  "kernelspec": {
   "display_name": "Julia 1.8.2",
   "language": "julia",
   "name": "julia-1.8"
  },
  "language_info": {
   "file_extension": ".jl",
   "mimetype": "application/julia",
   "name": "julia",
   "version": "1.8.2"
  }
 },
 "nbformat": 4,
 "nbformat_minor": 5
}
