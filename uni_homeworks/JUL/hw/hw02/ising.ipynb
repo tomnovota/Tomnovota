{
 "cells": [
  {
   "cell_type": "markdown",
   "id": "1e04e2cc-e197-43d3-ae83-9ab21bd725fc",
   "metadata": {},
   "source": [
    "# Ukázkový notebook k Isingově modelu"
   ]
  },
  {
   "cell_type": "code",
   "execution_count": 1,
   "id": "a19acfbf",
   "metadata": {},
   "outputs": [],
   "source": [
    "include(\"ising.jl\")\n",
    "using .Ising"
   ]
  },
  {
   "cell_type": "code",
   "execution_count": null,
   "id": "95a57972-46ea-4830-8004-e9070d6c01e0",
   "metadata": {},
   "outputs": [],
   "source": [
    "#import PyPlot # Případně změňte, využito k ilustraci anti/feromagnetismu."
   ]
  },
  {
   "cell_type": "code",
   "execution_count": null,
   "id": "d8c0bfb0-3b2e-4a3d-9e32-b885ac7287ae",
   "metadata": {},
   "outputs": [],
   "source": [
    "\"\"\"\n",
    "Vypočítá střední hodnoty magnetizace ve čtvercích zadaného rozměru.\n",
    "\"\"\"\n",
    "function average(data, stride=6)\n",
    "    h, w = size(data)\n",
    "    averaged = zeros(h - stride, w - stride)\n",
    "    \n",
    "    for j in 1:h-stride\n",
    "        for k in 1:w-stride\n",
    "            averaged[j, k] = sum(data[j:j+stride, k:k+stride]) / (stride + 1)^2\n",
    "        end\n",
    "    end\n",
    "    \n",
    "    return averaged\n",
    "end"
   ]
  },
  {
   "cell_type": "markdown",
   "id": "c4ec975a-a722-4f97-b014-b59e5ba23058",
   "metadata": {},
   "source": [
    "## 1. Periodické hraniční podmínky\n",
    "\n",
    "Feromagnetismus, symetrická interakce, nízká teplota a nulové vnější magnetické pole"
   ]
  },
  {
   "cell_type": "code",
   "execution_count": 1,
   "id": "470c6e3a",
   "metadata": {},
   "outputs": [
    {
     "ename": "LoadError",
     "evalue": "UndefVarError: IsingPeriodic not defined",
     "output_type": "error",
     "traceback": [
      "UndefVarError: IsingPeriodic not defined",
      "",
      "Stacktrace:",
      " [1] top-level scope",
      "   @ In[1]:1",
      " [2] eval",
      "   @ ./boot.jl:368 [inlined]",
      " [3] include_string(mapexpr::typeof(REPL.softscope), mod::Module, code::String, filename::String)",
      "   @ Base ./loading.jl:1428"
     ]
    }
   ],
   "source": [
    "model = IsingPeriodic(500, 500, β=6)\n",
    "randomize!(model)"
   ]
  },
  {
   "cell_type": "code",
   "execution_count": null,
   "id": "e3f33f7b",
   "metadata": {},
   "outputs": [
    {
     "data": {
      "text/plain": [
       "1136.0"
      ]
     },
     "execution_count": 3,
     "metadata": {},
     "output_type": "execute_result"
    }
   ],
   "source": [
    "energy(model)"
   ]
  },
  {
   "cell_type": "code",
   "execution_count": 2,
   "id": "67e14d33",
   "metadata": {},
   "outputs": [
    {
     "ename": "LoadError",
     "evalue": "UndefVarError: evolve! not defined",
     "output_type": "error",
     "traceback": [
      "UndefVarError: evolve! not defined",
      "",
      "Stacktrace:",
      " [1] top-level scope",
      "   @ In[2]:1",
      " [2] eval",
      "   @ ./boot.jl:368 [inlined]",
      " [3] include_string(mapexpr::typeof(REPL.softscope), mod::Module, code::String, filename::String)",
      "   @ Base ./loading.jl:1428"
     ]
    }
   ],
   "source": [
    "evolve!(model)"
   ]
  },
  {
   "cell_type": "markdown",
   "id": "4a746418-5eab-4d13-a5b5-29855306c60f",
   "metadata": {},
   "source": [
    "Bílá v obrázku níže odpovídá spinu `+1` a černá `-1`."
   ]
  },
  {
   "cell_type": "code",
   "execution_count": null,
   "id": "2b98b8e0",
   "metadata": {},
   "outputs": [],
   "source": [
    "plot(model)"
   ]
  },
  {
   "cell_type": "markdown",
   "id": "1202b1ac-b1fc-40ff-bc47-9a04f6cd3c62",
   "metadata": {},
   "source": [
    "Necháme systém vyvíjet milion kroků."
   ]
  },
  {
   "cell_type": "code",
   "execution_count": null,
   "id": "fead790b",
   "metadata": {},
   "outputs": [],
   "source": [
    "evolve!(model, 1_000_000)"
   ]
  },
  {
   "cell_type": "markdown",
   "id": "11db8f14-04f7-48e8-823b-3df69cd4f39a",
   "metadata": {},
   "source": [
    "A vykreslíme výsledek, vidíme vznik oblastí, kde jsou spiny orientovány stejným směrem."
   ]
  },
  {
   "cell_type": "code",
   "execution_count": null,
   "id": "40081f5b",
   "metadata": {},
   "outputs": [],
   "source": [
    "plot(model)"
   ]
  },
  {
   "cell_type": "markdown",
   "id": "502a6784-6fa9-41a7-a226-ee070b240619",
   "metadata": {},
   "source": [
    "Když se podíváme na střední hodnoty magnetizace v malých oblastech, tak vidíme výrazné kousky s průměrnou magentizací $+1$ i $-1$."
   ]
  },
  {
   "cell_type": "code",
   "execution_count": null,
   "id": "1937402a-51c5-4973-ba22-8ef250698a65",
   "metadata": {},
   "outputs": [],
   "source": [
    "fig = PyPlot.figure()\n",
    "p = PyPlot.imshow(average(model.sites), vmin=-1.0, vmax=1.0)\n",
    "fig.colorbar(p)"
   ]
  },
  {
   "cell_type": "markdown",
   "id": "cd472c8f-4728-4f6c-8ccd-6bbacfd15c20",
   "metadata": {},
   "source": [
    "## 2. Periodické hraniční podmínky\n",
    "\n",
    "Feromagnetismus, symetrická interakce, vysoká teplota a nulové vnější magnetické pole"
   ]
  },
  {
   "cell_type": "code",
   "execution_count": null,
   "id": "a4224ab3",
   "metadata": {},
   "outputs": [],
   "source": [
    "T = ones(3, 3)\n",
    "T[1, 3] = 5\n",
    "T"
   ]
  },
  {
   "cell_type": "code",
   "execution_count": null,
   "id": "62023c96-4c6c-4ce7-81a8-241c886f9e62",
   "metadata": {},
   "outputs": [],
   "source": [
    "model = IsingPeriodic(500, 500, β=0.06)\n",
    "randomize!(model)\n",
    "plot(model)"
   ]
  },
  {
   "cell_type": "markdown",
   "id": "120a05b2-f8d6-48bf-b907-7b920d379f69",
   "metadata": {},
   "source": [
    "Nechme systém opět vyvíjet."
   ]
  },
  {
   "cell_type": "code",
   "execution_count": null,
   "id": "b58f3f8f-c11a-4d7c-9c97-d220db85d48d",
   "metadata": {},
   "outputs": [],
   "source": [
    "evolve!(model, 1_000_000)\n",
    "plot(model)"
   ]
  },
  {
   "cell_type": "markdown",
   "id": "431cf9a3-5e4e-4dc6-8e1a-1f76c3f33fbe",
   "metadata": {},
   "source": [
    "Stále vypadá chaoticky, dalších milion kroků."
   ]
  },
  {
   "cell_type": "code",
   "execution_count": null,
   "id": "04485328-6138-447f-954b-e1cbaf287bcc",
   "metadata": {},
   "outputs": [],
   "source": [
    "evolve!(model, 1_000_000)\n",
    "plot(model)"
   ]
  },
  {
   "cell_type": "markdown",
   "id": "8c474047-77b6-470e-a5a3-a5ea9ec5e2e6",
   "metadata": {},
   "source": [
    "Vidíme, že s vysokou teplotou (malou β) nedojde k magnetizaci, systém zůstává v chaotickém módu. Existuje jistá velmi zajímavá hodnota parametru β, při které se toto chování láme. Tomuto efektu se říká **fázový přechod**. Isingův model je právě jeden z nejjednodušších fyzikálních modelů, který tento jev umožňuje modelovat."
   ]
  },
  {
   "cell_type": "markdown",
   "id": "3d789af5-e4d1-4d10-b4b7-d7bba6454b9f",
   "metadata": {},
   "source": [
    "## 3. Periodické hraniční podmínky\n",
    "\n",
    "Feromagnetismus, symetrická interakce, nízká teplota a vnější magnetické pole působící na jedné straně mřížky."
   ]
  },
  {
   "cell_type": "code",
   "execution_count": null,
   "id": "33479cee-57a6-4600-b306-a46a509f7f92",
   "metadata": {},
   "outputs": [],
   "source": [
    "model = IsingPeriodic(500, 500, β=8, h=hcat(zeros(500, 250), ones(500, 250)))\n",
    "randomize!(model)\n",
    "plot(model)"
   ]
  },
  {
   "cell_type": "markdown",
   "id": "6fe5ed54-42b0-49f2-848f-cc548307927a",
   "metadata": {},
   "source": [
    "Na počátku vliv vnějšího pole samozřejmě není vidět. Ale po pár iteracích..."
   ]
  },
  {
   "cell_type": "code",
   "execution_count": null,
   "id": "d6c30189-291b-42f6-ac40-191258712dd2",
   "metadata": {},
   "outputs": [],
   "source": [
    "evolve!(model, 1_000_000)\n",
    "plot(model)"
   ]
  },
  {
   "cell_type": "markdown",
   "id": "6aa00ccd-5898-4010-8d31-45f5264cafba",
   "metadata": {},
   "source": [
    "## 4. Periodické hraniční podmínky\n",
    "\n",
    "Anti-feromagnetismus, symetrická interakce, nízká teplota a vnější magnetické pole působící na jedné straně mřížky."
   ]
  },
  {
   "cell_type": "code",
   "execution_count": null,
   "id": "0e17fe6c-7a68-4a8e-9643-fe0db922de25",
   "metadata": {},
   "outputs": [],
   "source": [
    "model = IsingPeriodic(500, 500, -ones(3, 3), β=8, h=hcat(zeros(500, 250), ones(500, 250)))\n",
    "randomize!(model)\n",
    "plot(model)"
   ]
  },
  {
   "cell_type": "code",
   "execution_count": null,
   "id": "0920e900-28cf-436a-ae7a-8a6cffa0cc0d",
   "metadata": {},
   "outputs": [],
   "source": [
    "evolve!(model, 1_000_000)\n",
    "plot(model)"
   ]
  },
  {
   "cell_type": "markdown",
   "id": "05a6ee58-d958-4290-acdc-9bcf2ee78a24",
   "metadata": {},
   "source": [
    "Nyní nedošlo ke vzniku oblastí s ostrou magnetizací. To je názorně vidět i ve středních hodnotách magnetizace."
   ]
  },
  {
   "cell_type": "code",
   "execution_count": null,
   "id": "b8081509-f63b-4983-b105-d90100b856b0",
   "metadata": {},
   "outputs": [],
   "source": [
    "fig = PyPlot.figure()\n",
    "p = PyPlot.imshow(average(model.sites), vmin=-1.0, vmax=1.0)\n",
    "fig.colorbar(p)"
   ]
  },
  {
   "cell_type": "markdown",
   "id": "cf4667c6-3799-421e-b843-cab08b4d9f3c",
   "metadata": {},
   "source": [
    "## 5. Pevné hraniční podmínky\n",
    "\n",
    "Feromagnetismus, nesymetrická interakce, nízká teplota a nulové vnější pole."
   ]
  },
  {
   "cell_type": "code",
   "execution_count": null,
   "id": "f8781f0c-21ce-4022-8ce2-0df89432973d",
   "metadata": {},
   "outputs": [],
   "source": [
    "sites = -ones(500, 500)\n",
    "sites[2:499, 2:499] = ones(498, 498)\n",
    "J = [0. 1. 0.; 4. 0. 4.; 0. 1. 0.]\n",
    "\n",
    "model = IsingFixed(sites, J, β=4)\n",
    "plot(model)"
   ]
  },
  {
   "cell_type": "code",
   "execution_count": null,
   "id": "8476387a-9bd3-4383-88d2-8a5af65a6051",
   "metadata": {},
   "outputs": [],
   "source": [
    "randomize!(model)\n",
    "evolve!(model, 1_000_000)"
   ]
  },
  {
   "cell_type": "code",
   "execution_count": null,
   "id": "19cda9f3-5fc0-4ad2-94c1-92b6f5d3b134",
   "metadata": {},
   "outputs": [],
   "source": [
    "plot(model)"
   ]
  },
  {
   "cell_type": "markdown",
   "id": "4d49be7b-0642-47b3-91cb-1eb0e49c1de5",
   "metadata": {},
   "source": [
    "## 6. Pevné hraniční podmínky\n",
    "\n",
    "Anti-feromagnetismus, nesymetrická interakce, nízká teplota a vnější F-pole."
   ]
  },
  {
   "cell_type": "code",
   "execution_count": null,
   "id": "69ce729e-c593-4500-bb39-8f2db68c0631",
   "metadata": {},
   "outputs": [],
   "source": [
    "J = [-10. 0. -1; 0. 0. 0.; -1. 0. -10.]\n",
    "h = zeros(500, 500)\n",
    "h[100:400, 200:300] = 5*ones(301, 101)\n",
    "h[100:200, 300:400] = 5*ones(101, 101)\n",
    "h[250:320, 300:370] = 5*ones(71, 71)\n",
    "\n",
    "model = IsingFixed(ones(500, 500), J, β=2, h=h)\n",
    "randomize!(model)\n",
    "\n",
    "evolve!(model, 1_000_000)\n",
    "plot(model)"
   ]
  },
  {
   "cell_type": "markdown",
   "id": "30b79943-d601-46fb-9024-fdefd5eed0f8",
   "metadata": {},
   "source": [
    "## 7. Pevné hraniční podmínky\n",
    "\n",
    "Feromagnetismus, nesymetrická interakce, nízká teplota a oscilující vnější pole."
   ]
  },
  {
   "cell_type": "code",
   "execution_count": null,
   "id": "1651e553-880a-4541-9683-9a234fd895f7",
   "metadata": {},
   "outputs": [],
   "source": [
    "J = [-10. 0. -1; 0. 0. 0.; -1. 0. -10.]\n",
    "h = [ 20*sin(j/10)*cos(k/10) for j=1:500, k=1:500]\n",
    "\n",
    "model = IsingFixed(ones(500, 500), J, β=2, h=h)\n",
    "randomize!(model)\n",
    "\n",
    "evolve!(model, 1_000_000)\n",
    "plot(model)"
   ]
  },
  {
   "cell_type": "markdown",
   "id": "1f1814fe-3aed-4263-9b37-676e8cf56f7c",
   "metadata": {},
   "source": [
    "# 8. ..."
   ]
  },
  {
   "cell_type": "code",
   "execution_count": null,
   "id": "463c6d13-096c-4bb9-8273-d7dbf13b11c0",
   "metadata": {},
   "outputs": [],
   "source": []
  }
 ],
 "metadata": {
  "kernelspec": {
   "display_name": "Julia 1.8.1",
   "language": "julia",
   "name": "julia-1.8"
  },
  "language_info": {
   "file_extension": ".jl",
   "mimetype": "application/julia",
   "name": "julia",
   "version": "1.8.1"
  }
 },
 "nbformat": 4,
 "nbformat_minor": 5
}
