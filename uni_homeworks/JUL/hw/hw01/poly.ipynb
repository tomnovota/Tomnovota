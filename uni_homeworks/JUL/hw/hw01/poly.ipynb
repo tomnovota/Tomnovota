{
 "cells": [
  {
   "cell_type": "markdown",
   "metadata": {},
   "source": [
    "###\n",
    "#\n",
    "# BI-JUL: 1. Domácí úkol v B221\n",
    "#\n",
    "# Podrobný popis zadání naleznete na Course pages nebo ve svém repozitáři.\n",
    "#\n",
    "\n",
    "\n",
    "#\n",
    "# Typ `Polynomial{T}`\n",
    "#\n",
    "\n",
    "\n",
    "Parametrický typ `Polynomial{T}`.\n",
    "K vytvoření polynomu konstruktoru předáme pole:\n",
    "\n",
    "    Polynomial([1, 2, 3])\n",
    "q\n",
    "Prvky v poly odpovídají koeficientům polynomu od nejnižšího stupně k největšímu.\n",
    "Tj. volbě výše odpovídá polynom ``3x^2 + 2x + 1``.\n",
    "\n",
    "Pole musí obsahovat alespoň jeden prvek, jinak nastane chyba.\n",
    "Konstruktor správně určí stupeň zadaného polynomu (stupeň nulového polynomu\n",
    "bereme jako ``-1``) a případně zahodí nepotřebné nulové koeficienty."
   ]
  },
  {
   "cell_type": "code",
   "execution_count": 1,
   "metadata": {},
   "outputs": [],
   "source": [
    "# pyright: reportMissingModuleSource=false"
   ]
  },
  {
   "cell_type": "code",
   "execution_count": 2,
   "metadata": {},
   "outputs": [],
   "source": [
    "\n",
    "struct Polynomial{ T <: Number }\n",
    "  coefficients::Vector{T}\n",
    "  degree::Int64\n",
    "\n",
    "  function Polynomial(coefficients::Vector{T}) where { T <: Number }\n",
    "    degree = length(coefficients) - 1\n",
    "\n",
    "    if degree == -1\n",
    "      throw(ArgumentError(\"You have to provide at least one coefficient!\"))\n",
    "    end\n",
    "\n",
    "    while last(coefficients) == zero(T) && degree > 0\n",
    "      pop!(coefficients)\n",
    "      degree -= 1\n",
    "    end\n",
    "\n",
    "    if length(coefficients) == 1 && first(coefficients) == zero(T)\n",
    "      degree = -1\n",
    "    end\n",
    "\n",
    "    return new{T}(coefficients, degree)\n",
    "  end\n",
    "end"
   ]
  },
  {
   "cell_type": "markdown",
   "metadata": {},
   "source": [
    "#### Porovnávání polynomů podle zvoleného datového typu."
   ]
  },
  {
   "cell_type": "code",
   "execution_count": 3,
   "metadata": {},
   "outputs": [
    {
     "data": {
      "text/plain": [
       "== (generic function with 173 methods)"
      ]
     },
     "metadata": {},
     "output_type": "display_data"
    }
   ],
   "source": [
    "import Base.==\n",
    "\n",
    "function ==(p::Polynomial{T}, q::Polynomial{T}) where { T <: Number }\n",
    "  # exact comparison\n",
    "  p.coefficients == q.coefficients\n",
    "end\n",
    "\n",
    "function ==(p::Polynomial{T}, q::Polynomial{T}) where { T <: AbstractFloat }\n",
    "  # approximate comparison\n",
    "  p.coefficients ≈ q.coefficients\n",
    "end"
   ]
  },
  {
   "cell_type": "markdown",
   "metadata": {},
   "source": [
    "#\n",
    "#### Pěkná textová reprezentace polynomu.\n",
    "#\n",
    "\n",
    "Ukázka výstupu:\n",
    "\n",
    "    julia> Polynomial([1, 2, 3])\n",
    "    + 3*x^2 + 2*x^1 + 1\n",
    "\n",
    "    julia> Polynomial([1, 0, 3//2])\n",
    "    + 3//2*x^2 + 1//1\n",
    "\n",
    "    julia> Polynomial([1])\n",
    "    1\n",
    "\n",
    "    julia> Polynomial([0])\n",
    "    0\n"
   ]
  },
  {
   "cell_type": "code",
   "execution_count": 4,
   "metadata": {},
   "outputs": [],
   "source": [
    "function Base.show(io::IO, p::Polynomial{T}) where { T <: Number }\n",
    "    if p.degree <= 0\n",
    "      return print(io, last(p.coefficients))\n",
    "    end\n",
    "  \n",
    "    tokens = []\n",
    "  \n",
    "    for j in p.degree:-1:0\n",
    "      c = p.coefficients[j + 1]\n",
    "  \n",
    "      if c < zero(T)\n",
    "        append!(tokens, \"- \", -c)\n",
    "      elseif c > zero(T)\n",
    "        append!(tokens, \"+ \", c)\n",
    "      end\n",
    "  \n",
    "      if j > 0 && c != zero(T)\n",
    "        append!(tokens, \"*x^\", j, \" \")\n",
    "      end\n",
    "    end\n",
    "  \n",
    "    print(io, tokens...)\n",
    "  end"
   ]
  },
  {
   "cell_type": "markdown",
   "metadata": {},
   "source": [
    "#### Algebraické operace `+` a `*`  "
   ]
  },
  {
   "cell_type": "code",
   "execution_count": 5,
   "metadata": {},
   "outputs": [],
   "source": [
    "import Base.*, Base.+"
   ]
  },
  {
   "cell_type": "markdown",
   "metadata": {},
   "source": [
    "Součin dvou polynomů."
   ]
  },
  {
   "cell_type": "code",
   "execution_count": 6,
   "metadata": {},
   "outputs": [
    {
     "data": {
      "text/plain": [
       "* (generic function with 321 methods)"
      ]
     },
     "metadata": {},
     "output_type": "display_data"
    }
   ],
   "source": [
    "function *(p::Polynomial{T}, q::Polynomial{T}) where { T <: Number }\n",
    "  deg = 0 # degree of element of p which is iterated\n",
    "  res = Polynomial([0]) # initialize result\n",
    "  for i in p.coefficients\n",
    "    tmp = zeros(T, deg) # fills 0's to positions which can't be accessed by the particular multiplication\n",
    "    res += Polynomial(append!(tmp, [i*j for j in q.coefficients])) # multiply iterated element of p with all elements of q\n",
    "    deg += 1\n",
    "  end\n",
    "  return res\n",
    "end"
   ]
  },
  {
   "cell_type": "markdown",
   "metadata": {},
   "source": [
    "Součet dvou polynomů."
   ]
  },
  {
   "cell_type": "code",
   "execution_count": 7,
   "metadata": {},
   "outputs": [
    {
     "data": {
      "text/plain": [
       "+ (generic function with 207 methods)"
      ]
     },
     "metadata": {},
     "output_type": "display_data"
    }
   ],
   "source": [
    "function +(p::Polynomial{T}, q::Polynomial{T}) where { T <: Number }\n",
    "  x = length(p.coefficients) >= length(q.coefficients) ? p.coefficients : q.coefficients # choose maximum size array\n",
    "  y = x == q.coefficients ? p.coefficients : q.coefficients # the minimum size array\n",
    "  lx = length(x)\n",
    "  ly = length(y)\n",
    "  return Polynomial(append!([x[i]+y[i] for i in 1:ly], x[ly+1:end])) # sums common positions and append values of bigger polynom\n",
    "end"
   ]
  },
  {
   "cell_type": "markdown",
   "metadata": {},
   "source": [
    "#### Rozdíl dvou polynomů"
   ]
  },
  {
   "cell_type": "code",
   "execution_count": 8,
   "metadata": {},
   "outputs": [],
   "source": [
    "import Base.-"
   ]
  },
  {
   "cell_type": "code",
   "execution_count": 9,
   "metadata": {},
   "outputs": [
    {
     "data": {
      "text/plain": [
       "- (generic function with 212 methods)"
      ]
     },
     "metadata": {},
     "output_type": "display_data"
    }
   ],
   "source": [
    "function -(p::Polynomial{T}) where { T <: Number }\n",
    "    return Polynomial([ -x for x in p.coefficients ])\n",
    "end"
   ]
  },
  {
   "cell_type": "code",
   "execution_count": 10,
   "metadata": {},
   "outputs": [
    {
     "data": {
      "text/plain": [
       "- (generic function with 213 methods)"
      ]
     },
     "metadata": {},
     "output_type": "display_data"
    }
   ],
   "source": [
    "function -(p::Polynomial{T}, q::Polynomial{T} ) where { T <: Number }\n",
    "    x = -q\n",
    "    return p+x\n",
    "end"
   ]
  },
  {
   "cell_type": "markdown",
   "metadata": {},
   "source": [
    "#\n",
    "  #### Výpočet funkční hodnoty polynomu\n",
    "  #\n",
    "  \n",
    "  Díky této metodě můžeme polynomy vyhodnocovat, tedy počítat jejich funkční hodnoty.\n",
    "  Například:\n",
    "  \n",
    "      julia> p = Polynomial([1, 0, 3//2])\n",
    "      + 3//2*x^2 + 1//1\n",
    "  \n",
    "      julia> p(-4//5)\n",
    "      49//25\n",
    "  "
   ]
  },
  {
   "cell_type": "code",
   "execution_count": 11,
   "metadata": {},
   "outputs": [],
   "source": [
    "function (p::Polynomial{T})(x::S) where { T <: Number, S <: Number }\n",
    "    return sum( p.coefficients[j] * ( x ^ (j-1) ) for j in 1:(p.degree + 1))\n",
    "  end"
   ]
  },
  {
   "cell_type": "markdown",
   "metadata": {},
   "source": [
    "#### Dělení polynomu polynomem\n",
    "  \n",
    "  Divide polynomial `p` by polynomial `q` and return the quotient and remainder.\n",
    "  "
   ]
  },
  {
   "cell_type": "code",
   "execution_count": 30,
   "metadata": {},
   "outputs": [
    {
     "data": {
      "text/plain": [
       "// (generic function with 9 methods)"
      ]
     },
     "metadata": {},
     "output_type": "display_data"
    }
   ],
   "source": [
    "import Base.//\n",
    "\n",
    "function //(a::T, b::T ) where { T <: AbstractFloat }\n",
    "    return a / b\n",
    "end"
   ]
  },
  {
   "cell_type": "code",
   "execution_count": 31,
   "metadata": {},
   "outputs": [
    {
     "data": {
      "text/plain": [
       "pdiv (generic function with 1 method)"
      ]
     },
     "metadata": {},
     "output_type": "display_data"
    }
   ],
   "source": [
    "function pdiv(p::Polynomial{T}, q::Polynomial{T}) where { T <: Number }\n",
    "  if q.degree == -1\n",
    "    throw(ArgumentError(\"It is not possible to divide by 0!\"))\n",
    "  end\n",
    "  \n",
    "  x = p # copy of numerator\n",
    "  res = Polynomial([0]) # initialize denumerator\n",
    "  while x.degree >= q.degree \n",
    "    v = last(x.coefficients) // last(q.coefficients) # divide highest member of num / highest den\n",
    "    u = Polynomial(append!(zeros(T, x.degree - q.degree), v)) # gets another member of result\n",
    "    res = res + u # update result\n",
    "    x = x - (u*q) # update numerator\n",
    "  end\n",
    "\n",
    "  return res, x\n",
    "end"
   ]
  },
  {
   "cell_type": "code",
   "execution_count": 32,
   "metadata": {},
   "outputs": [
    {
     "name": "stdout",
     "output_type": "stream",
     "text": [
      "(4, - 10*x^1 - 7)\n",
      "(+ 2*x^1 - 3, + 7*x^1 + 11)\n"
     ]
    }
   ],
   "source": [
    "p = Polynomial([1, 2, 4])\n",
    "q = Polynomial([2, 3, 1])\n",
    "r = Polynomial([5, 2, 3, 2])\n",
    "\n",
    "println(pdiv(p, q))\n",
    "println(pdiv(r, q))"
   ]
  },
  {
   "cell_type": "code",
   "execution_count": 14,
   "metadata": {},
   "outputs": [
    {
     "name": "stdout",
     "output_type": "stream",
     "text": [
      "+ 5*x^2 + 5*x^1 + 3\n",
      "+ 2*x^3 + 7*x^2 + 4*x^1 + 6\n",
      "+ 2*x^3 + 4*x^2 + 5*x^1 + 7\n"
     ]
    }
   ],
   "source": [
    "p = Polynomial([1, 2, 4])\n",
    "q = Polynomial([2, 3, 1])\n",
    "r = Polynomial([5, 2, 3, 2])\n",
    "println(p + q) # 5 + 5 + 3\n",
    "println(p + r) # 2 + 7 + 4 + 6\n",
    "println(r + q) # 2 + 4 + 5 + 7\n"
   ]
  },
  {
   "cell_type": "code",
   "execution_count": 15,
   "metadata": {},
   "outputs": [
    {
     "name": "stdout",
     "output_type": "stream",
     "text": [
      "111\n",
      "12\n"
     ]
    }
   ],
   "source": [
    "p = Polynomial([1, 2, 4])\n",
    "q = Polynomial([2, 3, 1])\n",
    "println(p(5))\n",
    "println(q(2))"
   ]
  },
  {
   "cell_type": "code",
   "execution_count": 16,
   "metadata": {},
   "outputs": [
    {
     "name": "stdout",
     "output_type": "stream",
     "text": [
      "+ 4*x^4 + 14*x^3 + 15*x^2 + 7*x^1 + 2\n"
     ]
    },
    {
     "name": "stdout",
     "output_type": "stream",
     "text": [
      "+ 8*x^5 + 16*x^4 + 16*x^3 + 27*x^2 + 12*x^1 + 5\n",
      "+ 2*x^5 + 9*x^4 + 15*x^3 + 17*x^2 + 19*x^1 + 10\n"
     ]
    }
   ],
   "source": [
    "p = Polynomial([1, 2, 4])\n",
    "q = Polynomial([2, 3, 1])\n",
    "r = Polynomial([5, 2, 3, 2])\n",
    "println(p*q)\n",
    "println(p*r)\n",
    "println(r*q)\n"
   ]
  },
  {
   "cell_type": "code",
   "execution_count": 17,
   "metadata": {},
   "outputs": [
    {
     "data": {
      "text/plain": [
       "Int64[]"
      ]
     },
     "metadata": {},
     "output_type": "display_data"
    }
   ],
   "source": [
    "zeros(Int64, 0)"
   ]
  },
  {
   "cell_type": "code",
   "execution_count": 18,
   "metadata": {},
   "outputs": [
    {
     "name": "stdout",
     "output_type": "stream",
     "text": [
      "+ 4*x^2 + 2*x^1 + 1\n"
     ]
    },
    {
     "data": {
      "text/plain": [
       "- 1*x^2 - 3*x^1 - 2"
      ]
     },
     "metadata": {},
     "output_type": "display_data"
    }
   ],
   "source": [
    "p = Polynomial([1, 2, 4])\n",
    "q = Polynomial([2, 3, 1])\n",
    "println(p)\n",
    "p = -q"
   ]
  },
  {
   "cell_type": "code",
   "execution_count": 19,
   "metadata": {},
   "outputs": [
    {
     "data": {
      "text/plain": [
       "4-element Vector{Int64}:\n",
       " 2\n",
       " 3\n",
       " 5\n",
       " 5"
      ]
     },
     "metadata": {},
     "output_type": "display_data"
    }
   ],
   "source": [
    "append!( [2, 3, 5], 5 )"
   ]
  },
  {
   "cell_type": "code",
   "execution_count": 26,
   "metadata": {},
   "outputs": [
    {
     "data": {
      "text/plain": [
       "15//4"
      ]
     },
     "metadata": {},
     "output_type": "display_data"
    }
   ],
   "source": [
    "x = 5 // 2\n",
    "y = 2 // 3\n",
    "x // y"
   ]
  }
 ],
 "metadata": {
  "kernelspec": {
   "display_name": "Julia 1.8.1",
   "language": "julia",
   "name": "julia-1.8"
  },
  "language_info": {
   "file_extension": ".jl",
   "mimetype": "application/julia",
   "name": "julia",
   "version": "1.8.1"
  },
  "orig_nbformat": 4,
  "vscode": {
   "interpreter": {
    "hash": "aee8b7b246df8f9039afb4144a1f6fd8d2ca17a180786b69acc140d282b71a49"
   }
  }
 },
 "nbformat": 4,
 "nbformat_minor": 2
}
