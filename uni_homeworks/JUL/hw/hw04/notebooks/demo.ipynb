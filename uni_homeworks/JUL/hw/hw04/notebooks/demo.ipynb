{
 "cells": [
  {
   "cell_type": "markdown",
   "id": "ca9ed236-233b-440b-b550-e1d961c89801",
   "metadata": {},
   "source": [
    "# Ukázka použití balíčku `IntervalArithmetic.jl`"
   ]
  },
  {
   "cell_type": "code",
   "execution_count": 1,
   "id": "2402040d-90e8-426a-9138-912952839d8f",
   "metadata": {},
   "outputs": [
    {
     "name": "stdout",
     "output_type": "stream",
     "text": [
      "Julia Version 1.8.1\n",
      "Commit afb6c60d69a (2022-09-06 15:09 UTC)\n",
      "Platform Info:\n",
      "  OS: Linux (x86_64-linux-gnu)\n",
      "  CPU: 12 × AMD Ryzen 5 5600H with Radeon Graphics\n",
      "  WORD_SIZE: 64\n",
      "  LIBM: libopenlibm\n",
      "  LLVM: libLLVM-13.0.1 (ORCJIT, znver3)\n",
      "  Threads: 1 on 12 virtual cores\n"
     ]
    }
   ],
   "source": [
    "versioninfo()"
   ]
  },
  {
   "cell_type": "markdown",
   "id": "5c8a08f2-62d2-4fdd-b1c1-b5c3e5d1311b",
   "metadata": {},
   "source": [
    "Balíček musí být možné použít pomocí `using`."
   ]
  },
  {
   "cell_type": "code",
   "execution_count": 2,
   "id": "9e6f4737-5430-465a-ae33-1d956a58517c",
   "metadata": {},
   "outputs": [],
   "source": [
    "using IntervalArithmetic"
   ]
  },
  {
   "cell_type": "markdown",
   "id": "98e3edcf-cc30-45fc-a607-c2c29b8ec789",
   "metadata": {},
   "source": [
    "## Konstruktory"
   ]
  },
  {
   "cell_type": "code",
   "execution_count": 3,
   "id": "d138c2c9-99c0-4f0f-981b-fa45442e7341",
   "metadata": {},
   "outputs": [
    {
     "data": {
      "text/plain": [
       "𝛂 ∈ ⟨1, 2⟩"
      ]
     },
     "execution_count": 3,
     "metadata": {},
     "output_type": "execute_result"
    }
   ],
   "source": [
    "Interval(1, 2)"
   ]
  },
  {
   "cell_type": "markdown",
   "id": "8e4e07d2",
   "metadata": {},
   "source": [
    "\"Vnoření\" reálných čísel do intervalového modelu."
   ]
  },
  {
   "cell_type": "code",
   "execution_count": 4,
   "id": "0391368c-9dec-4643-b7e9-bf5728e8e829",
   "metadata": {},
   "outputs": [
    {
     "data": {
      "text/plain": [
       "𝛂 = 2.0"
      ]
     },
     "execution_count": 4,
     "metadata": {},
     "output_type": "execute_result"
    }
   ],
   "source": [
    "Interval(2.0)"
   ]
  },
  {
   "cell_type": "code",
   "execution_count": 5,
   "id": "fff2c9c7-5970-43ee-a1b7-3ead8671f365",
   "metadata": {},
   "outputs": [
    {
     "data": {
      "text/plain": [
       "𝛂 ∈ ⟨23//11, 25//11⟩"
      ]
     },
     "execution_count": 5,
     "metadata": {},
     "output_type": "execute_result"
    }
   ],
   "source": [
    "Interval(23 // 11, 25 // 11)"
   ]
  },
  {
   "cell_type": "markdown",
   "id": "7d899a70-5026-4882-a952-7c4671644c52",
   "metadata": {},
   "source": [
    "Následující požadavek nesmí projít."
   ]
  },
  {
   "cell_type": "code",
   "execution_count": 6,
   "id": "dcfed140-cb05-473c-a338-4a122eaf5923",
   "metadata": {},
   "outputs": [
    {
     "ename": "LoadError",
     "evalue": "ArgumentError: Left value is greater than right value!",
     "output_type": "error",
     "traceback": [
      "ArgumentError: Left value is greater than right value!",
      "",
      "Stacktrace:",
      " [1] Interval(x::Int64, y::Int64)",
      "   @ IntervalArithmetic ~/JUL/IntervalArithmetic/src/IntervalArithmetic.jl:15",
      " [2] top-level scope",
      "   @ In[6]:1",
      " [3] eval",
      "   @ ./boot.jl:368 [inlined]",
      " [4] include_string(mapexpr::typeof(REPL.softscope), mod::Module, code::String, filename::String)",
      "   @ Base ./loading.jl:1428"
     ]
    }
   ],
   "source": [
    "Interval(2, -10)"
   ]
  },
  {
   "cell_type": "markdown",
   "id": "97e349a6-4c5c-4c10-a9ed-28ade8234a16",
   "metadata": {},
   "source": [
    "## Algebraické operace"
   ]
  },
  {
   "cell_type": "markdown",
   "id": "61d8ad98-7f3b-48f7-bca8-c9edbbb494e2",
   "metadata": {},
   "source": [
    "### Nejprve mezi intervaly samotnými"
   ]
  },
  {
   "cell_type": "code",
   "execution_count": 7,
   "id": "7a2cbdf2-c0b7-4dd3-8d21-d0df63557ec1",
   "metadata": {},
   "outputs": [],
   "source": [
    "x = Interval(2.0, 3.0)\n",
    "y = Interval(-0.5, 0.25);"
   ]
  },
  {
   "cell_type": "code",
   "execution_count": 8,
   "id": "041f296e-2b0b-4a47-98fe-48bc3e6a211a",
   "metadata": {},
   "outputs": [
    {
     "data": {
      "text/plain": [
       "𝛂 ∈ ⟨1.5, 3.25⟩"
      ]
     },
     "execution_count": 8,
     "metadata": {},
     "output_type": "execute_result"
    }
   ],
   "source": [
    "x + y"
   ]
  },
  {
   "cell_type": "code",
   "execution_count": 9,
   "id": "f9188537-2861-496f-a67a-fc0730322588",
   "metadata": {},
   "outputs": [
    {
     "data": {
      "text/plain": [
       "𝛂 ∈ ⟨1.75, 3.5⟩"
      ]
     },
     "execution_count": 9,
     "metadata": {},
     "output_type": "execute_result"
    }
   ],
   "source": [
    "x - y"
   ]
  },
  {
   "cell_type": "code",
   "execution_count": 10,
   "id": "80a9ac00-5aaf-49dd-a967-8eababa01dcd",
   "metadata": {},
   "outputs": [
    {
     "data": {
      "text/plain": [
       "𝛂 ∈ ⟨-1.5, 0.75⟩"
      ]
     },
     "execution_count": 10,
     "metadata": {},
     "output_type": "execute_result"
    }
   ],
   "source": [
    "x * y"
   ]
  },
  {
   "cell_type": "code",
   "execution_count": 11,
   "id": "cba1cc11-a226-49b6-8af0-1be757d42577",
   "metadata": {},
   "outputs": [
    {
     "data": {
      "text/plain": [
       "𝛂 ∈ ⟨-0.25, 0.125⟩"
      ]
     },
     "execution_count": 11,
     "metadata": {},
     "output_type": "execute_result"
    }
   ],
   "source": [
    "y / x"
   ]
  },
  {
   "cell_type": "markdown",
   "id": "180d03f8-8381-4a1a-beae-5b8510ec2f08",
   "metadata": {},
   "source": [
    "Následující dělení nesmí projít."
   ]
  },
  {
   "cell_type": "code",
   "execution_count": 12,
   "id": "da937f47-caa7-4712-973d-ad6b134214de",
   "metadata": {},
   "outputs": [
    {
     "ename": "LoadError",
     "evalue": "ArgumentError: You can't divide by zero!",
     "output_type": "error",
     "traceback": [
      "ArgumentError: You can't divide by zero!",
      "",
      "Stacktrace:",
      " [1] /(a::Interval{Float64}, b::Interval{Float64})",
      "   @ IntervalArithmetic ~/JUL/IntervalArithmetic/src/IntervalArithmetic.jl:68",
      " [2] top-level scope",
      "   @ In[12]:1",
      " [3] eval",
      "   @ ./boot.jl:368 [inlined]",
      " [4] include_string(mapexpr::typeof(REPL.softscope), mod::Module, code::String, filename::String)",
      "   @ Base ./loading.jl:1428"
     ]
    }
   ],
   "source": [
    "x / y"
   ]
  },
  {
   "cell_type": "markdown",
   "id": "9bf6fc02",
   "metadata": {},
   "source": [
    "Pokud v intervalu není nula, pak nemáme problém."
   ]
  },
  {
   "cell_type": "code",
   "execution_count": 13,
   "id": "b9c0e8e7-d05a-41c6-bd95-3bed92c4aed7",
   "metadata": {},
   "outputs": [
    {
     "data": {
      "text/plain": [
       "𝛂 ∈ ⟨0.3333333333333333, 0.5⟩"
      ]
     },
     "execution_count": 13,
     "metadata": {},
     "output_type": "execute_result"
    }
   ],
   "source": [
    "inv(x)"
   ]
  },
  {
   "cell_type": "markdown",
   "id": "95ca9a16-1e8e-4d66-887b-abe78fe895da",
   "metadata": {},
   "source": [
    "### Mezi intervaly a čísly\n",
    "\n",
    "Pro naše pohodlí lze provést i následující operace (reálné číslo $x$ chápeme jako \"interval\" $\\langle x,x \\rangle$)."
   ]
  },
  {
   "cell_type": "code",
   "execution_count": 14,
   "id": "fa29e4df-370a-474b-ac2f-371e53bb5927",
   "metadata": {},
   "outputs": [
    {
     "data": {
      "text/plain": [
       "𝛂 ∈ ⟨3.0, 4.0⟩"
      ]
     },
     "execution_count": 14,
     "metadata": {},
     "output_type": "execute_result"
    }
   ],
   "source": [
    "1 + x"
   ]
  },
  {
   "cell_type": "code",
   "execution_count": 15,
   "id": "54092a32-e637-4624-b7c4-daa46216c839",
   "metadata": {},
   "outputs": [
    {
     "data": {
      "text/plain": [
       "𝛂 ∈ ⟨0.0, 1.0⟩"
      ]
     },
     "execution_count": 15,
     "metadata": {},
     "output_type": "execute_result"
    }
   ],
   "source": [
    "x - 2"
   ]
  },
  {
   "cell_type": "code",
   "execution_count": 16,
   "id": "bacfef54-e3f7-48ec-83e1-60d88617067e",
   "metadata": {},
   "outputs": [
    {
     "data": {
      "text/plain": [
       "𝛂 ∈ ⟨0.2, 0.30000000000000004⟩"
      ]
     },
     "execution_count": 16,
     "metadata": {},
     "output_type": "execute_result"
    }
   ],
   "source": [
    "x / 10"
   ]
  },
  {
   "cell_type": "code",
   "execution_count": 17,
   "id": "d493bde5-98e7-49b6-a509-b0012ddae73f",
   "metadata": {},
   "outputs": [
    {
     "data": {
      "text/plain": [
       "𝛂 ∈ ⟨-0.0005, 0.00025⟩"
      ]
     },
     "execution_count": 17,
     "metadata": {},
     "output_type": "execute_result"
    }
   ],
   "source": [
    "y * 0.001"
   ]
  },
  {
   "cell_type": "code",
   "execution_count": 18,
   "id": "3efcef19-219f-44b3-98e7-853ff3d239a2",
   "metadata": {},
   "outputs": [
    {
     "data": {
      "text/plain": [
       "𝛂 = 1.0"
      ]
     },
     "execution_count": 18,
     "metadata": {},
     "output_type": "execute_result"
    }
   ],
   "source": [
    "10 * Interval(0.1, 0.1)"
   ]
  },
  {
   "cell_type": "markdown",
   "id": "17493633-475b-4bad-ae44-69071054f39f",
   "metadata": {},
   "source": [
    "## Maticové operace\n",
    "\n",
    "Automaticky pak lze provádět například i (některé!) maticové operace:"
   ]
  },
  {
   "cell_type": "code",
   "execution_count": 19,
   "id": "2edba90a-fedc-40c6-9e38-678af7d82149",
   "metadata": {},
   "outputs": [
    {
     "data": {
      "text/plain": [
       "2×2 Matrix{Interval{Float64}}:\n",
       "  𝛂 = 1.0        𝛂 ∈ ⟨1.9, 2.1⟩\n",
       " 𝛂 ∈ ⟨1.9, 2.1⟩  𝛂 ∈ ⟨2.9, 3.1⟩"
      ]
     },
     "execution_count": 19,
     "metadata": {},
     "output_type": "execute_result"
    }
   ],
   "source": [
    "m = [ Interval(1.0) Interval(1.9, 2.1); Interval(1.9, 2.1) Interval(2.9,3.1) ]"
   ]
  },
  {
   "cell_type": "code",
   "execution_count": 20,
   "id": "e1310a1a-93b7-43c5-9f70-7e92dd65d551",
   "metadata": {},
   "outputs": [
    {
     "data": {
      "text/plain": [
       "2×2 Matrix{Interval{Float64}}:\n",
       " 𝛂 ∈ ⟨4.61, 5.41⟩   𝛂 ∈ ⟨7.41, 8.61⟩\n",
       " 𝛂 ∈ ⟨7.41, 8.61⟩  𝛂 ∈ ⟨12.02, 14.02⟩"
      ]
     },
     "execution_count": 20,
     "metadata": {},
     "output_type": "execute_result"
    }
   ],
   "source": [
    "m * m"
   ]
  },
  {
   "cell_type": "code",
   "execution_count": 21,
   "id": "94c1d076",
   "metadata": {},
   "outputs": [
    {
     "data": {
      "text/plain": [
       "2×2 Matrix{Interval{Float64}}:\n",
       "   𝛂 = 0.0        𝛂 ∈ ⟨-0.2, 0.2⟩\n",
       " 𝛂 ∈ ⟨-0.2, 0.2⟩  𝛂 ∈ ⟨-0.2, 0.2⟩"
      ]
     },
     "execution_count": 21,
     "metadata": {},
     "output_type": "execute_result"
    }
   ],
   "source": [
    "m - m"
   ]
  },
  {
   "cell_type": "code",
   "execution_count": 22,
   "id": "5e1bd310",
   "metadata": {},
   "outputs": [
    {
     "data": {
      "text/plain": [
       "2×2 Matrix{Interval{Float64}}:\n",
       "  𝛂 = 2.0        𝛂 ∈ ⟨3.8, 4.2⟩\n",
       " 𝛂 ∈ ⟨3.8, 4.2⟩  𝛂 ∈ ⟨5.8, 6.2⟩"
      ]
     },
     "execution_count": 22,
     "metadata": {},
     "output_type": "execute_result"
    }
   ],
   "source": [
    "m + m"
   ]
  },
  {
   "cell_type": "code",
   "execution_count": 23,
   "id": "7fb6b96f",
   "metadata": {},
   "outputs": [
    {
     "data": {
      "text/plain": [
       "2×2 Matrix{Interval{Float64}}:\n",
       "  𝛂 = 20.0         𝛂 ∈ ⟨38.0, 42.0⟩\n",
       " 𝛂 ∈ ⟨38.0, 42.0⟩  𝛂 ∈ ⟨58.0, 62.0⟩"
      ]
     },
     "execution_count": 23,
     "metadata": {},
     "output_type": "execute_result"
    }
   ],
   "source": [
    "20 * m"
   ]
  }
 ],
 "metadata": {
  "kernelspec": {
   "display_name": "Julia 1.8.1",
   "language": "julia",
   "name": "julia-1.8"
  },
  "language_info": {
   "file_extension": ".jl",
   "mimetype": "application/julia",
   "name": "julia",
   "version": "1.8.1"
  }
 },
 "nbformat": 4,
 "nbformat_minor": 5
}
