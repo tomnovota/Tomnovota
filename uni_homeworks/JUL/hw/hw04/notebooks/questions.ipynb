{
 "cells": [
  {
   "attachments": {},
   "cell_type": "markdown",
   "metadata": {},
   "source": [
    "# Odpovědi na otázky"
   ]
  },
  {
   "cell_type": "code",
   "execution_count": 1,
   "metadata": {},
   "outputs": [],
   "source": [
    "using IntervalArithmetic"
   ]
  },
  {
   "cell_type": "code",
   "execution_count": 2,
   "metadata": {},
   "outputs": [
    {
     "name": "stdout",
     "output_type": "stream",
     "text": [
      "x = 1.0000000018626451\n",
      "y = 1.0000000009313226\n"
     ]
    }
   ],
   "source": [
    "x = 1 + 2 ^ (-29)\n",
    "y = 1 + 2 ^ (-30)\n",
    "println(\"x = \", x)\n",
    "println(\"y = \", y)"
   ]
  },
  {
   "cell_type": "code",
   "execution_count": 3,
   "metadata": {},
   "outputs": [
    {
     "data": {
      "text/plain": [
       "Float64"
      ]
     },
     "execution_count": 3,
     "metadata": {},
     "output_type": "execute_result"
    }
   ],
   "source": [
    "typeof(x)"
   ]
  },
  {
   "cell_type": "code",
   "execution_count": 4,
   "metadata": {},
   "outputs": [
    {
     "name": "stdout",
     "output_type": "stream",
     "text": [
      "Reálná hodnota výrazu: 1.8626451518330422e-9\n"
     ]
    }
   ],
   "source": [
    "real_value = 2 ^ (-29) * ( 1 + 3 * 2 ^ (-31) )\n",
    "println(\"Reálná hodnota výrazu: \", real_value)"
   ]
  },
  {
   "attachments": {},
   "cell_type": "markdown",
   "metadata": {},
   "source": [
    "### 1, Výraz x^2 - y^2"
   ]
  },
  {
   "cell_type": "code",
   "execution_count": 5,
   "metadata": {},
   "outputs": [
    {
     "name": "stdout",
     "output_type": "stream",
     "text": [
      "Float64 aritmetika: 1.862645149230957e-9\n"
     ]
    }
   ],
   "source": [
    "float_1 = x ^ 2 - y ^ 2\n",
    "println(\"Float64 aritmetika: \", float_1)"
   ]
  },
  {
   "attachments": {},
   "cell_type": "markdown",
   "metadata": {},
   "source": [
    "### 2, Výraz (x + y) * (x - y)"
   ]
  },
  {
   "cell_type": "code",
   "execution_count": 6,
   "metadata": {},
   "outputs": [
    {
     "name": "stdout",
     "output_type": "stream",
     "text": [
      "Float64 aritmetika: 1.8626451518330422e-9\n"
     ]
    }
   ],
   "source": [
    "float_2 = (x + y) * (x - y)\n",
    "println(\"Float64 aritmetika: \", float_2)"
   ]
  },
  {
   "attachments": {},
   "cell_type": "markdown",
   "metadata": {},
   "source": [
    "### 3, Která z hodnot je přesnější?"
   ]
  },
  {
   "cell_type": "code",
   "execution_count": 7,
   "metadata": {},
   "outputs": [
    {
     "name": "stdout",
     "output_type": "stream",
     "text": [
      "Přesnější je: druhý výraz\n"
     ]
    }
   ],
   "source": [
    "answer = real_value - float_1 > real_value - float_2 ? \"druhý výraz\" : \"první výraz\"\n",
    "println(\"Přesnější je: \", answer)"
   ]
  },
  {
   "attachments": {},
   "cell_type": "markdown",
   "metadata": {},
   "source": [
    "## Výpočty v intervalové aritmetice"
   ]
  },
  {
   "cell_type": "code",
   "execution_count": 8,
   "metadata": {},
   "outputs": [
    {
     "name": "stdout",
     "output_type": "stream",
     "text": [
      "Intervalová aritmetika:\n",
      "x: 𝛂 ∈ ⟨1.000000001862645, 1.0000000018626454⟩\n",
      "y: 𝛂 ∈ ⟨1.0000000009313224, 1.0000000009313228⟩\n"
     ]
    }
   ],
   "source": [
    "x2 = Interval(x) + Interval(-eps(Float64), eps(Float64))\n",
    "y2 = Interval(y) + Interval(-eps(Float64), eps(Float64))\n",
    "println(\"Intervalová aritmetika:\\n\", \"x: \", x2, \"\\n\", \"y: \", y2)"
   ]
  },
  {
   "attachments": {},
   "cell_type": "markdown",
   "metadata": {},
   "source": [
    "### Výraz x^2 - y^2"
   ]
  },
  {
   "cell_type": "code",
   "execution_count": 9,
   "metadata": {},
   "outputs": [
    {
     "name": "stdout",
     "output_type": "stream",
     "text": [
      "Intervalová aritmetika: 𝛂 ∈ ⟨1.8626442610525373e-9, 1.8626460374093767e-9⟩\n"
     ]
    }
   ],
   "source": [
    "interval_1 = x2 ^ 2 - y2 ^ 2\n",
    "println(\"Intervalová aritmetika: \", interval_1)"
   ]
  },
  {
   "attachments": {},
   "cell_type": "markdown",
   "metadata": {},
   "source": [
    "### Výraz (x + y) * (x - y)"
   ]
  },
  {
   "cell_type": "code",
   "execution_count": 10,
   "metadata": {},
   "outputs": [
    {
     "name": "stdout",
     "output_type": "stream",
     "text": [
      "Intervalová aritmetika: 𝛂 ∈ ⟨1.8626442636546209e-9, 1.8626460400114636e-9⟩\n"
     ]
    }
   ],
   "source": [
    "interval_2 = (x2 + y2) * (x2 - y2)\n",
    "println(\"Intervalová aritmetika: \", interval_2)"
   ]
  },
  {
   "attachments": {},
   "cell_type": "markdown",
   "metadata": {},
   "source": [
    "### Kontrola předchozích výsledků, zda spadají do právě vypočtených intervalů"
   ]
  },
  {
   "cell_type": "code",
   "execution_count": 11,
   "metadata": {},
   "outputs": [
    {
     "name": "stdout",
     "output_type": "stream",
     "text": [
      "Čísla se rovnají.\n",
      "Čísla se rovnají.\n",
      "Čísla se rovnají.\n"
     ]
    }
   ],
   "source": [
    "real_value ∈ interval_1\n",
    "float_1 ∈ interval_1\n",
    "float_2 ∈ interval_1"
   ]
  },
  {
   "cell_type": "code",
   "execution_count": 12,
   "metadata": {},
   "outputs": [
    {
     "name": "stdout",
     "output_type": "stream",
     "text": [
      "Čísla se rovnají.\n",
      "Čísla se rovnají.\n",
      "Čísla se rovnají.\n"
     ]
    }
   ],
   "source": [
    "real_value ∈ interval_2\n",
    "float_1 ∈ interval_2\n",
    "float_2 ∈ interval_2"
   ]
  },
  {
   "attachments": {},
   "cell_type": "markdown",
   "metadata": {},
   "source": [
    "### Závěr"
   ]
  },
  {
   "attachments": {},
   "cell_type": "markdown",
   "metadata": {},
   "source": [
    "Čísla x,y jsme v intervalové aritmetice zadefinovali tak, aby obsahovala nejmenší měřitelnou chybu. Při provádění operací s takovýmhle číslem roste interval společně s chybou a takovou chybu obsáhne. Tím intervalová aritmetika zvyšuje důvěryhodnost výsledků."
   ]
  }
 ],
 "metadata": {
  "kernelspec": {
   "display_name": "Julia 1.8.1",
   "language": "julia",
   "name": "julia-1.8"
  },
  "language_info": {
   "file_extension": ".jl",
   "mimetype": "application/julia",
   "name": "julia",
   "version": "1.8.1"
  },
  "orig_nbformat": 4,
  "vscode": {
   "interpreter": {
    "hash": "aee8b7b246df8f9039afb4144a1f6fd8d2ca17a180786b69acc140d282b71a49"
   }
  }
 },
 "nbformat": 4,
 "nbformat_minor": 2
}
